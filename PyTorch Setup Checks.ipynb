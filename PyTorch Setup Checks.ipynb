{
 "cells": [
  {
   "cell_type": "code",
   "execution_count": 1,
   "id": "188b11de-06ef-4765-90fd-4d98061a712a",
   "metadata": {},
   "outputs": [
    {
     "name": "stdout",
     "output_type": "stream",
     "text": [
      "C:\\Users\\ritis\\Desktop\\PyTorch-Learning\\pytorch-env\\python.exe\n",
      "C:\\Users\\ritis\\Desktop\\PyTorch-Learning\\pytorch-env\\Scripts\\python.bat\n",
      "C:\\Users\\ritis\\AppData\\Local\\Programs\\Python\\Python310\\python.exe\n",
      "C:\\Users\\ritis\\anaconda3\\python.exe\n",
      "C:\\Users\\ritis\\AppData\\Local\\Programs\\Python\\Python313\\python.exe\n",
      "C:\\Users\\ritis\\AppData\\Local\\Microsoft\\WindowsApps\\python.exe\n"
     ]
    }
   ],
   "source": [
    "!where python"
   ]
  },
  {
   "cell_type": "code",
   "execution_count": 2,
   "id": "1ce06370-0f50-42d1-9089-b1b1c4b7c757",
   "metadata": {},
   "outputs": [
    {
     "name": "stdout",
     "output_type": "stream",
     "text": [
      "C:\\Users\\ritis\\Desktop\\PyTorch-Learning\\pytorch-env\\python.exe\n"
     ]
    }
   ],
   "source": [
    "import sys\n",
    "print(sys.executable)"
   ]
  },
  {
   "cell_type": "code",
   "execution_count": 3,
   "id": "71035969-cad9-4f11-9766-6f5d3a77a97f",
   "metadata": {},
   "outputs": [
    {
     "name": "stdout",
     "output_type": "stream",
     "text": [
      "Python 3.11.13\n",
      "2.5.0\n",
      "12.4\n",
      "True\n",
      "NVIDIA GeForce GTX 1650\n",
      "0\n"
     ]
    }
   ],
   "source": [
    "import torch\n",
    "!python --version\n",
    "print(torch.__version__)\n",
    "print(torch.version.cuda)\n",
    "print(torch.cuda.is_available())\n",
    "print(torch.cuda.get_device_name(0))\n",
    "print(torch.cuda.current_device())"
   ]
  },
  {
   "cell_type": "code",
   "execution_count": 4,
   "id": "298180bb-909d-4a30-8386-821c69c45ba0",
   "metadata": {},
   "outputs": [
    {
     "name": "stdout",
     "output_type": "stream",
     "text": [
      "# packages in environment at C:\\Users\\ritis\\Desktop\\PyTorch-Learning\\pytorch-env:\n",
      "#\n",
      "# Name                    Version                   Build  Channel\n",
      "asttokens                 3.0.0           py311haa95532_0  \n",
      "blas                      1.0                         mkl  \n",
      "brotlicffi                1.0.9.2         py311h5da7b33_1  \n",
      "bzip2                     1.0.8                h2bbff1b_6  \n",
      "ca-certificates           2025.2.25            haa95532_0  \n",
      "certifi                   2025.7.14       py311haa95532_0  \n",
      "cffi                      1.17.1          py311h827c3e9_1  \n",
      "charset-normalizer        3.3.2              pyhd3eb1b0_0  \n",
      "colorama                  0.4.6           py311haa95532_0  \n",
      "comm                      0.2.1           py311haa95532_0  \n",
      "cuda-cccl                 12.9.27                       0    nvidia\n",
      "cuda-cccl_win-64          12.9.27                       0    nvidia\n",
      "cuda-command-line-tools   12.4.1                        0    nvidia\n",
      "cuda-compiler             12.9.0                        0    nvidia\n",
      "cuda-crt-dev_win-64       12.9.41                       0    nvidia\n",
      "cuda-crt-tools            12.9.41                       0    nvidia\n",
      "cuda-cudart               12.4.127                      0    nvidia\n",
      "cuda-cudart-dev           12.4.127                      0    nvidia\n",
      "cuda-cudart-dev_win-64    12.9.79                       0    nvidia\n",
      "cuda-cudart-static_win-64 12.9.79                       0    nvidia\n",
      "cuda-cudart_win-64        12.9.79                       0    nvidia\n",
      "cuda-cuobjdump            12.9.26                       1    nvidia\n",
      "cuda-cupti                12.4.127                      0    nvidia\n",
      "cuda-cuxxfilt             12.9.19                       1    nvidia\n",
      "cuda-documentation        12.4.127                      0    nvidia\n",
      "cuda-libraries            12.4.1                        0    nvidia\n",
      "cuda-libraries-dev        12.4.1                        0    nvidia\n",
      "cuda-nsight-compute       12.4.1                        0    nvidia\n",
      "cuda-nvcc                 12.9.41                       0    nvidia\n",
      "cuda-nvcc-dev_win-64      12.9.41                       0    nvidia\n",
      "cuda-nvcc-impl            12.9.41                       0    nvidia\n",
      "cuda-nvcc-tools           12.9.41                       0    nvidia\n",
      "cuda-nvcc_win-64          12.9.41                       0    nvidia\n",
      "cuda-nvdisasm             12.9.88                       1    nvidia\n",
      "cuda-nvml-dev             12.9.79                       1    nvidia\n",
      "cuda-nvprof               12.9.79                       0    nvidia\n",
      "cuda-nvprune              12.9.19                       1    nvidia\n",
      "cuda-nvrtc                12.4.127                      0    nvidia\n",
      "cuda-nvrtc-dev            12.4.127                      0    nvidia\n",
      "cuda-nvtx                 12.4.127                      0    nvidia\n",
      "cuda-nvvm-dev_win-64      12.9.41                       0    nvidia\n",
      "cuda-nvvm-impl            12.9.41                       0    nvidia\n",
      "cuda-nvvm-tools           12.9.41                       0    nvidia\n",
      "cuda-nvvp                 12.9.79                       1    nvidia\n",
      "cuda-opencl               12.9.19                       0    nvidia\n",
      "cuda-opencl-dev           12.9.19                       0    nvidia\n",
      "cuda-profiler-api         12.9.79                       0    nvidia\n",
      "cuda-runtime              12.4.1                        0    nvidia\n",
      "cuda-sanitizer-api        12.9.79                       1    nvidia\n",
      "cuda-toolkit              12.4.1                        0    nvidia\n",
      "cuda-tools                12.4.1                        0    nvidia\n",
      "cuda-version              12.9                          3    nvidia\n",
      "cuda-visual-tools         12.4.1                        0    nvidia\n",
      "debugpy                   1.8.11          py311h5da7b33_0  \n",
      "decorator                 5.1.1              pyhd3eb1b0_0  \n",
      "executing                 0.8.3              pyhd3eb1b0_0  \n",
      "expat                     2.7.1                h8ddb27b_0  \n",
      "filelock                  3.17.0          py311haa95532_0  \n",
      "fontconfig                2.14.1               hb33846d_3  \n",
      "freetype                  2.13.3               h0620614_0  \n",
      "giflib                    5.2.2                h7edc060_0  \n",
      "gmp                       6.3.0                h537511b_0  \n",
      "gmpy2                     2.2.1           py311h827c3e9_0  \n",
      "idna                      3.7             py311haa95532_0  \n",
      "intel-openmp              2023.1.0         h59b6b97_46320  \n",
      "ipykernel                 6.29.5          py311haa95532_1  \n",
      "ipython                   9.1.0           py311haa95532_0  \n",
      "ipython_pygments_lexers   1.1.1           py311haa95532_0  \n",
      "jedi                      0.19.2          py311haa95532_0  \n",
      "jinja2                    3.1.6           py311haa95532_0  \n",
      "jpeg                      9e                   h827c3e9_3  \n",
      "jupyter_client            8.6.3           py311haa95532_0  \n",
      "jupyter_core              5.8.1           py311haa95532_0  \n",
      "khronos-opencl-icd-loader 2024.05.08           h8cc25b3_0  \n",
      "lcms2                     2.16                 hb4a4139_0  \n",
      "lerc                      3.0                  hd77b12b_0  \n",
      "libcublas                 12.4.5.8                      0    nvidia\n",
      "libcublas-dev             12.4.5.8                      0    nvidia\n",
      "libcufft                  11.2.1.3                      0    nvidia\n",
      "libcufft-dev              11.2.1.3                      0    nvidia\n",
      "libcurand                 10.3.10.19                    0    nvidia\n",
      "libcurand-dev             10.3.10.19                    0    nvidia\n",
      "libcusolver               11.6.1.9                      0    nvidia\n",
      "libcusolver-dev           11.6.1.9                      0    nvidia\n",
      "libcusparse               12.3.1.170                    0    nvidia\n",
      "libcusparse-dev           12.3.1.170                    0    nvidia\n",
      "libdeflate                1.17                 h2bbff1b_1  \n",
      "libffi                    3.4.4                hd77b12b_1  \n",
      "libglib                   2.84.2               h405b238_0  \n",
      "libiconv                  1.16                 h2bbff1b_3  \n",
      "libjpeg-turbo             2.0.0                h196d8e1_0  \n",
      "libnpp                    12.2.5.30                     0    nvidia\n",
      "libnpp-dev                12.2.5.30                     0    nvidia\n",
      "libnvfatbin               12.9.82                       0    nvidia\n",
      "libnvfatbin-dev           12.9.82                       0    nvidia\n",
      "libnvjitlink              12.4.127                      0    nvidia\n",
      "libnvjitlink-dev          12.4.127                      0    nvidia\n",
      "libnvjpeg                 12.3.1.117                    0    nvidia\n",
      "libnvjpeg-dev             12.3.1.117                    0    nvidia\n",
      "libpng                    1.6.39               h8cc25b3_0  \n",
      "libsodium                 1.0.18               h62dcd97_0  \n",
      "libtiff                   4.5.1                hd77b12b_0  \n",
      "libuv                     1.48.0               h827c3e9_0  \n",
      "libwebp                   1.3.2                hbc33d0d_0  \n",
      "libwebp-base              1.3.2                h3d04722_1  \n",
      "libxml2                   2.13.8               h866ff63_0  \n",
      "lz4-c                     1.9.4                h2bbff1b_1  \n",
      "markupsafe                3.0.2           py311h827c3e9_0  \n",
      "matplotlib-inline         0.1.6           py311haa95532_0  \n",
      "mkl                       2023.1.0         h6b88ed4_46358  \n",
      "mkl-service               2.4.0           py311h827c3e9_2  \n",
      "mkl_fft                   1.3.11          py311h827c3e9_0  \n",
      "mkl_random                1.2.8           py311hea22821_0  \n",
      "mpc                       1.3.1                h827c3e9_0  \n",
      "mpfr                      4.2.1                h56c3642_0  \n",
      "mpmath                    1.3.0           py311haa95532_0  \n",
      "nest-asyncio              1.6.0           py311haa95532_0  \n",
      "networkx                  3.4.2           py311haa95532_0  \n",
      "nsight-compute            2025.2.1.3                    0    nvidia\n",
      "numpy                     2.0.1           py311hdab7c0b_1  \n",
      "numpy-base                2.0.1           py311hd01c5d8_1  \n",
      "openjpeg                  2.5.2                hae555c5_0  \n",
      "openssl                   3.0.17               h35632f6_0  \n",
      "packaging                 24.2            py311haa95532_0  \n",
      "parso                     0.8.4           py311haa95532_0  \n",
      "pcre2                     10.42                h0ff8eda_1  \n",
      "pillow                    11.1.0          py311h096bfcc_0  \n",
      "pip                       25.1               pyhc872135_2  \n",
      "platformdirs              4.3.7           py311haa95532_0  \n",
      "prompt-toolkit            3.0.43          py311haa95532_0  \n",
      "prompt_toolkit            3.0.43               hd3eb1b0_0  \n",
      "psutil                    5.9.0           py311h827c3e9_1  \n",
      "pure_eval                 0.2.2              pyhd3eb1b0_0  \n",
      "pycparser                 2.21               pyhd3eb1b0_0  \n",
      "pygments                  2.19.1          py311haa95532_0  \n",
      "pysocks                   1.7.1           py311haa95532_0  \n",
      "python                    3.11.13              h981015d_0  \n",
      "python-dateutil           2.9.0post0      py311haa95532_2  \n",
      "pytorch                   2.5.0           py3.11_cuda12.4_cudnn9_0    pytorch\n",
      "pytorch-cuda              12.4                 h3fd98bf_7    pytorch\n",
      "pytorch-mutex             1.0                        cuda    pytorch\n",
      "pywin32                   308             py311h5da7b33_0  \n",
      "pyyaml                    6.0.2           py311h827c3e9_0  \n",
      "pyzmq                     26.2.0          py311h5da7b33_0  \n",
      "requests                  2.32.4          py311haa95532_0  \n",
      "setuptools                78.1.1          py311haa95532_0  \n",
      "six                       1.17.0          py311haa95532_0  \n",
      "sqlite                    3.50.2               hda9a48d_1  \n",
      "stack_data                0.2.0              pyhd3eb1b0_0  \n",
      "sympy                     1.13.3          py311haa95532_1  \n",
      "tbb                       2021.8.0             h59b6b97_0  \n",
      "tk                        8.6.14               h5e9d12e_1  \n",
      "torchaudio                2.5.0                    pypi_0    pypi\n",
      "torchvision               0.20.0                   pypi_0    pypi\n",
      "tornado                   6.5.1           py311h827c3e9_0  \n",
      "traitlets                 5.14.3          py311haa95532_0  \n",
      "typing_extensions         4.12.2          py311haa95532_0  \n",
      "tzdata                    2025b                h04d1e81_0  \n",
      "ucrt                      10.0.22621.0         haa95532_0  \n",
      "urllib3                   2.5.0           py311haa95532_0  \n",
      "vc                        14.3                h2df5915_10  \n",
      "vc14_runtime              14.44.35208         h4927774_10  \n",
      "vs2015_runtime            14.44.35208         ha6b5a95_10  \n",
      "vs2017_win-64             19.16.27032.1        hb4161e2_3  \n",
      "vswhere                   2.8.4                haa95532_0  \n",
      "wcwidth                   0.2.13          py311haa95532_0  \n",
      "wheel                     0.45.1          py311haa95532_0  \n",
      "win_inet_pton             1.1.0           py311haa95532_0  \n",
      "xz                        5.6.4                h4754444_1  \n",
      "yaml                      0.2.5                he774522_0  \n",
      "zeromq                    4.3.5                hd77b12b_0  \n",
      "zlib                      1.2.13               h8cc25b3_1  \n",
      "zstd                      1.5.6                h8880b57_0  \n"
     ]
    }
   ],
   "source": [
    "!conda list"
   ]
  },
  {
   "cell_type": "code",
   "execution_count": 5,
   "id": "17c298d6-abd5-4275-8a8d-ea5943ceb1c0",
   "metadata": {},
   "outputs": [
    {
     "name": "stdout",
     "output_type": "stream",
     "text": [
      "Mon Jul 28 18:32:41 2025       \n",
      "+-----------------------------------------------------------------------------------------+\n",
      "| NVIDIA-SMI 576.88                 Driver Version: 576.88         CUDA Version: 12.9     |\n",
      "|-----------------------------------------+------------------------+----------------------+\n",
      "| GPU  Name                  Driver-Model | Bus-Id          Disp.A | Volatile Uncorr. ECC |\n",
      "| Fan  Temp   Perf          Pwr:Usage/Cap |           Memory-Usage | GPU-Util  Compute M. |\n",
      "|                                         |                        |               MIG M. |\n",
      "|=========================================+========================+======================|\n",
      "|   0  NVIDIA GeForce GTX 1650      WDDM  |   00000000:01:00.0 Off |                  N/A |\n",
      "| N/A   41C    P8              2W /   35W |       0MiB /   4096MiB |      0%      Default |\n",
      "|                                         |                        |                  N/A |\n",
      "+-----------------------------------------+------------------------+----------------------+\n",
      "                                                                                         \n",
      "+-----------------------------------------------------------------------------------------+\n",
      "| Processes:                                                                              |\n",
      "|  GPU   GI   CI              PID   Type   Process name                        GPU Memory |\n",
      "|        ID   ID                                                               Usage      |\n",
      "|=========================================================================================|\n",
      "|    0   N/A  N/A           16748    C+G   ...em32\\ApplicationFrameHost.exe      N/A      |\n",
      "+-----------------------------------------------------------------------------------------+\n"
     ]
    }
   ],
   "source": [
    "!nvidia-smi"
   ]
  },
  {
   "cell_type": "code",
   "execution_count": 6,
   "id": "8641954e-6be9-4bd1-9b53-ae0e3d52e102",
   "metadata": {},
   "outputs": [
    {
     "name": "stdout",
     "output_type": "stream",
     "text": [
      "nvcc: NVIDIA (R) Cuda compiler driver\n",
      "Copyright (c) 2005-2025 NVIDIA Corporation\n",
      "Built on Wed_Apr__9_19:29:17_Pacific_Daylight_Time_2025\n",
      "Cuda compilation tools, release 12.9, V12.9.41\n",
      "Build cuda_12.9.r12.9/compiler.35813241_0\n"
     ]
    }
   ],
   "source": [
    "!nvcc --version"
   ]
  },
  {
   "cell_type": "code",
   "execution_count": null,
   "id": "75a89780-ff81-4304-8bcd-8c34bc9d1cff",
   "metadata": {},
   "outputs": [],
   "source": []
  }
 ],
 "metadata": {
  "kernelspec": {
   "display_name": "Python (pytorch-env)",
   "language": "python",
   "name": "pytorch-env"
  },
  "language_info": {
   "codemirror_mode": {
    "name": "ipython",
    "version": 3
   },
   "file_extension": ".py",
   "mimetype": "text/x-python",
   "name": "python",
   "nbconvert_exporter": "python",
   "pygments_lexer": "ipython3",
   "version": "3.11.13"
  }
 },
 "nbformat": 4,
 "nbformat_minor": 5
}
