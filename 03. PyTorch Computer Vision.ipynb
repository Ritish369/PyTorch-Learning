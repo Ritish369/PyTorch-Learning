{
 "cells": [
  {
   "cell_type": "raw",
   "id": "89d66740-bfdd-4917-9eef-8b3c386c178b",
   "metadata": {},
   "source": [
    "CV is the art of teaching a computer to see."
   ]
  },
  {
   "cell_type": "markdown",
   "id": "987dac1f-f895-4007-a931-987191c6cd77",
   "metadata": {},
   "source": [
    "Examples of CV problems are binary classification, multiclass classification, object detection and panoptic segmentation."
   ]
  },
  {
   "cell_type": "raw",
   "id": "c405faa1-8e46-41f4-a601-6318f65676f3",
   "metadata": {},
   "source": [
    "In essence, anything capable of being described in a visual sense can be a potential CV problem."
   ]
  },
  {
   "cell_type": "raw",
   "id": "b856488e-e483-48fc-8d0e-fb75e6bd00fa",
   "metadata": {},
   "source": [
    "PyTorch workflow learnt yet will be applied over CV."
   ]
  },
  {
   "cell_type": "raw",
   "id": "3722b6f3-d9b2-4687-a9a3-1378b7a8db8d",
   "metadata": {},
   "source": [
    "torchvision.transforms | torch.utils.data.Dataset | torch.utils.data.DataLoader -> torch.nn | torch.nn.Module | torchvision.models & torch.optim -> torchmetrics -> torch.utils.tensorboard -> torch.save & torch.load"
   ]
  },
  {
   "cell_type": "raw",
   "id": "f44f6194-2c7e-43f2-9710-0a11e720078b",
   "metadata": {},
   "source": [
    "Some CV libraries in PyTorch: (datasets, models and transformations)\n",
    "\n",
    "torchvision\n",
    "torchvision.datasets\n",
    "torchvision.models\n",
    "torchvision.transforms\n",
    "torch.utils.data.Dataset\n",
    "torch.utils.data.DataLoader"
   ]
  },
  {
   "cell_type": "markdown",
   "id": "1322ef5a-73ee-47d3-8fb6-3075b37e4954",
   "metadata": {},
   "source": [
    "The above two data classes are capable of dealing with many different types of data."
   ]
  },
  {
   "cell_type": "code",
   "execution_count": 1,
   "id": "f9f13fa7-3bc8-421c-b3a9-6f724dcdeb3a",
   "metadata": {},
   "outputs": [
    {
     "data": {
      "text/plain": [
       "('2.5.0', '0.20.0')"
      ]
     },
     "execution_count": 1,
     "metadata": {},
     "output_type": "execute_result"
    }
   ],
   "source": [
    "import torch\n",
    "from torch import nn\n",
    "\n",
    "import torchvision\n",
    "from torchvision import datasets\n",
    "from torchvision.transforms import ToTensor\n",
    "\n",
    "import matplotlib.pyplot as plt\n",
    "\n",
    "torch.__version__, torchvision.__version__"
   ]
  },
  {
   "cell_type": "markdown",
   "id": "1ac42c19-c125-4326-98b4-fc813d33962c",
   "metadata": {},
   "source": [
    "### 1. Getting a dataset"
   ]
  },
  {
   "cell_type": "markdown",
   "id": "324aa919-9571-41db-a719-435c6657351f",
   "metadata": {},
   "source": [
    "Using FashionMNIST dataset for CV problem and it is of multiclass (10) classification."
   ]
  },
  {
   "cell_type": "code",
   "execution_count": 2,
   "id": "76c70896-0471-4c87-93a2-a6ffcb1ed42d",
   "metadata": {},
   "outputs": [],
   "source": [
    "# Setup training data\n",
    "train_data = datasets.FashionMNIST(root = \"data\", # Where(directory) to download the data ?\n",
    "                                  train = True, # Which split is wanted ?\n",
    "                                  download = True, # Whether download the data or not ?\n",
    "                                  transform = ToTensor(), # Tranformm wanted to be applied while downloading\n",
    "                                                          # Because images come in PIL format, need them converted to tensors\n",
    "                                  target_transform = None # Transform to be applied to the target (labels) of the data, if any\n",
    "                                  )\n",
    "\n",
    "test_data = datasets.FashionMNIST(root = \"data\", train = False, download = True, transform = ToTensor())"
   ]
  },
  {
   "cell_type": "code",
   "execution_count": 3,
   "id": "130e129e-18bb-46f1-b9ff-c46eb8e799c1",
   "metadata": {},
   "outputs": [
    {
     "data": {
      "text/plain": [
       "(tensor([[[0.0000, 0.0000, 0.0000, 0.0000, 0.0000, 0.0000, 0.0000, 0.0000,\n",
       "           0.0000, 0.0000, 0.0000, 0.0000, 0.0000, 0.0000, 0.0000, 0.0000,\n",
       "           0.0000, 0.0000, 0.0000, 0.0000, 0.0000, 0.0000, 0.0000, 0.0000,\n",
       "           0.0000, 0.0000, 0.0000, 0.0000],\n",
       "          [0.0000, 0.0000, 0.0000, 0.0000, 0.0000, 0.0000, 0.0000, 0.0000,\n",
       "           0.0000, 0.0000, 0.0000, 0.0000, 0.0000, 0.0000, 0.0000, 0.0000,\n",
       "           0.0000, 0.0000, 0.0000, 0.0000, 0.0000, 0.0000, 0.0000, 0.0000,\n",
       "           0.0000, 0.0000, 0.0000, 0.0000],\n",
       "          [0.0000, 0.0000, 0.0000, 0.0000, 0.0000, 0.0000, 0.0000, 0.0000,\n",
       "           0.0000, 0.0000, 0.0000, 0.0000, 0.0000, 0.0000, 0.0000, 0.0000,\n",
       "           0.0000, 0.0000, 0.0000, 0.0000, 0.0000, 0.0000, 0.0000, 0.0000,\n",
       "           0.0000, 0.0000, 0.0000, 0.0000],\n",
       "          [0.0000, 0.0000, 0.0000, 0.0000, 0.0000, 0.0000, 0.0000, 0.0000,\n",
       "           0.0000, 0.0000, 0.0000, 0.0000, 0.0039, 0.0000, 0.0000, 0.0510,\n",
       "           0.2863, 0.0000, 0.0000, 0.0039, 0.0157, 0.0000, 0.0000, 0.0000,\n",
       "           0.0000, 0.0039, 0.0039, 0.0000],\n",
       "          [0.0000, 0.0000, 0.0000, 0.0000, 0.0000, 0.0000, 0.0000, 0.0000,\n",
       "           0.0000, 0.0000, 0.0000, 0.0000, 0.0118, 0.0000, 0.1412, 0.5333,\n",
       "           0.4980, 0.2431, 0.2118, 0.0000, 0.0000, 0.0000, 0.0039, 0.0118,\n",
       "           0.0157, 0.0000, 0.0000, 0.0118],\n",
       "          [0.0000, 0.0000, 0.0000, 0.0000, 0.0000, 0.0000, 0.0000, 0.0000,\n",
       "           0.0000, 0.0000, 0.0000, 0.0000, 0.0235, 0.0000, 0.4000, 0.8000,\n",
       "           0.6902, 0.5255, 0.5647, 0.4824, 0.0902, 0.0000, 0.0000, 0.0000,\n",
       "           0.0000, 0.0471, 0.0392, 0.0000],\n",
       "          [0.0000, 0.0000, 0.0000, 0.0000, 0.0000, 0.0000, 0.0000, 0.0000,\n",
       "           0.0000, 0.0000, 0.0000, 0.0000, 0.0000, 0.0000, 0.6078, 0.9255,\n",
       "           0.8118, 0.6980, 0.4196, 0.6118, 0.6314, 0.4275, 0.2510, 0.0902,\n",
       "           0.3020, 0.5098, 0.2824, 0.0588],\n",
       "          [0.0000, 0.0000, 0.0000, 0.0000, 0.0000, 0.0000, 0.0000, 0.0000,\n",
       "           0.0000, 0.0000, 0.0000, 0.0039, 0.0000, 0.2706, 0.8118, 0.8745,\n",
       "           0.8549, 0.8471, 0.8471, 0.6392, 0.4980, 0.4745, 0.4784, 0.5725,\n",
       "           0.5529, 0.3451, 0.6745, 0.2588],\n",
       "          [0.0000, 0.0000, 0.0000, 0.0000, 0.0000, 0.0000, 0.0000, 0.0000,\n",
       "           0.0000, 0.0039, 0.0039, 0.0039, 0.0000, 0.7843, 0.9098, 0.9098,\n",
       "           0.9137, 0.8980, 0.8745, 0.8745, 0.8431, 0.8353, 0.6431, 0.4980,\n",
       "           0.4824, 0.7686, 0.8980, 0.0000],\n",
       "          [0.0000, 0.0000, 0.0000, 0.0000, 0.0000, 0.0000, 0.0000, 0.0000,\n",
       "           0.0000, 0.0000, 0.0000, 0.0000, 0.0000, 0.7176, 0.8824, 0.8471,\n",
       "           0.8745, 0.8941, 0.9216, 0.8902, 0.8784, 0.8706, 0.8784, 0.8667,\n",
       "           0.8745, 0.9608, 0.6784, 0.0000],\n",
       "          [0.0000, 0.0000, 0.0000, 0.0000, 0.0000, 0.0000, 0.0000, 0.0000,\n",
       "           0.0000, 0.0000, 0.0000, 0.0000, 0.0000, 0.7569, 0.8941, 0.8549,\n",
       "           0.8353, 0.7765, 0.7059, 0.8314, 0.8235, 0.8275, 0.8353, 0.8745,\n",
       "           0.8627, 0.9529, 0.7922, 0.0000],\n",
       "          [0.0000, 0.0000, 0.0000, 0.0000, 0.0000, 0.0000, 0.0000, 0.0000,\n",
       "           0.0000, 0.0039, 0.0118, 0.0000, 0.0471, 0.8588, 0.8627, 0.8314,\n",
       "           0.8549, 0.7529, 0.6627, 0.8902, 0.8157, 0.8549, 0.8784, 0.8314,\n",
       "           0.8863, 0.7725, 0.8196, 0.2039],\n",
       "          [0.0000, 0.0000, 0.0000, 0.0000, 0.0000, 0.0000, 0.0000, 0.0000,\n",
       "           0.0000, 0.0000, 0.0235, 0.0000, 0.3882, 0.9569, 0.8706, 0.8627,\n",
       "           0.8549, 0.7961, 0.7765, 0.8667, 0.8431, 0.8353, 0.8706, 0.8627,\n",
       "           0.9608, 0.4667, 0.6549, 0.2196],\n",
       "          [0.0000, 0.0000, 0.0000, 0.0000, 0.0000, 0.0000, 0.0000, 0.0000,\n",
       "           0.0000, 0.0157, 0.0000, 0.0000, 0.2157, 0.9255, 0.8941, 0.9020,\n",
       "           0.8941, 0.9412, 0.9098, 0.8353, 0.8549, 0.8745, 0.9176, 0.8510,\n",
       "           0.8510, 0.8196, 0.3608, 0.0000],\n",
       "          [0.0000, 0.0000, 0.0039, 0.0157, 0.0235, 0.0275, 0.0078, 0.0000,\n",
       "           0.0000, 0.0000, 0.0000, 0.0000, 0.9294, 0.8863, 0.8510, 0.8745,\n",
       "           0.8706, 0.8588, 0.8706, 0.8667, 0.8471, 0.8745, 0.8980, 0.8431,\n",
       "           0.8549, 1.0000, 0.3020, 0.0000],\n",
       "          [0.0000, 0.0118, 0.0000, 0.0000, 0.0000, 0.0000, 0.0000, 0.0000,\n",
       "           0.0000, 0.2431, 0.5686, 0.8000, 0.8941, 0.8118, 0.8353, 0.8667,\n",
       "           0.8549, 0.8157, 0.8275, 0.8549, 0.8784, 0.8745, 0.8588, 0.8431,\n",
       "           0.8784, 0.9569, 0.6235, 0.0000],\n",
       "          [0.0000, 0.0000, 0.0000, 0.0000, 0.0706, 0.1725, 0.3216, 0.4196,\n",
       "           0.7412, 0.8941, 0.8627, 0.8706, 0.8510, 0.8863, 0.7843, 0.8039,\n",
       "           0.8275, 0.9020, 0.8784, 0.9176, 0.6902, 0.7373, 0.9804, 0.9725,\n",
       "           0.9137, 0.9333, 0.8431, 0.0000],\n",
       "          [0.0000, 0.2235, 0.7333, 0.8157, 0.8784, 0.8667, 0.8784, 0.8157,\n",
       "           0.8000, 0.8392, 0.8157, 0.8196, 0.7843, 0.6235, 0.9608, 0.7569,\n",
       "           0.8078, 0.8745, 1.0000, 1.0000, 0.8667, 0.9176, 0.8667, 0.8275,\n",
       "           0.8627, 0.9098, 0.9647, 0.0000],\n",
       "          [0.0118, 0.7922, 0.8941, 0.8784, 0.8667, 0.8275, 0.8275, 0.8392,\n",
       "           0.8039, 0.8039, 0.8039, 0.8627, 0.9412, 0.3137, 0.5882, 1.0000,\n",
       "           0.8980, 0.8667, 0.7373, 0.6039, 0.7490, 0.8235, 0.8000, 0.8196,\n",
       "           0.8706, 0.8941, 0.8824, 0.0000],\n",
       "          [0.3843, 0.9137, 0.7765, 0.8235, 0.8706, 0.8980, 0.8980, 0.9176,\n",
       "           0.9765, 0.8627, 0.7608, 0.8431, 0.8510, 0.9451, 0.2549, 0.2863,\n",
       "           0.4157, 0.4588, 0.6588, 0.8588, 0.8667, 0.8431, 0.8510, 0.8745,\n",
       "           0.8745, 0.8784, 0.8980, 0.1137],\n",
       "          [0.2941, 0.8000, 0.8314, 0.8000, 0.7569, 0.8039, 0.8275, 0.8824,\n",
       "           0.8471, 0.7255, 0.7725, 0.8078, 0.7765, 0.8353, 0.9412, 0.7647,\n",
       "           0.8902, 0.9608, 0.9373, 0.8745, 0.8549, 0.8314, 0.8196, 0.8706,\n",
       "           0.8627, 0.8667, 0.9020, 0.2627],\n",
       "          [0.1882, 0.7961, 0.7176, 0.7608, 0.8353, 0.7725, 0.7255, 0.7451,\n",
       "           0.7608, 0.7529, 0.7922, 0.8392, 0.8588, 0.8667, 0.8627, 0.9255,\n",
       "           0.8824, 0.8471, 0.7804, 0.8078, 0.7294, 0.7098, 0.6941, 0.6745,\n",
       "           0.7098, 0.8039, 0.8078, 0.4510],\n",
       "          [0.0000, 0.4784, 0.8588, 0.7569, 0.7020, 0.6706, 0.7176, 0.7686,\n",
       "           0.8000, 0.8235, 0.8353, 0.8118, 0.8275, 0.8235, 0.7843, 0.7686,\n",
       "           0.7608, 0.7490, 0.7647, 0.7490, 0.7765, 0.7529, 0.6902, 0.6118,\n",
       "           0.6549, 0.6941, 0.8235, 0.3608],\n",
       "          [0.0000, 0.0000, 0.2902, 0.7412, 0.8314, 0.7490, 0.6863, 0.6745,\n",
       "           0.6863, 0.7098, 0.7255, 0.7373, 0.7412, 0.7373, 0.7569, 0.7765,\n",
       "           0.8000, 0.8196, 0.8235, 0.8235, 0.8275, 0.7373, 0.7373, 0.7608,\n",
       "           0.7529, 0.8471, 0.6667, 0.0000],\n",
       "          [0.0078, 0.0000, 0.0000, 0.0000, 0.2588, 0.7843, 0.8706, 0.9294,\n",
       "           0.9373, 0.9490, 0.9647, 0.9529, 0.9569, 0.8667, 0.8627, 0.7569,\n",
       "           0.7490, 0.7020, 0.7137, 0.7137, 0.7098, 0.6902, 0.6510, 0.6588,\n",
       "           0.3882, 0.2275, 0.0000, 0.0000],\n",
       "          [0.0000, 0.0000, 0.0000, 0.0000, 0.0000, 0.0000, 0.0000, 0.1569,\n",
       "           0.2392, 0.1725, 0.2824, 0.1608, 0.1373, 0.0000, 0.0000, 0.0000,\n",
       "           0.0000, 0.0000, 0.0000, 0.0000, 0.0000, 0.0000, 0.0000, 0.0000,\n",
       "           0.0000, 0.0000, 0.0000, 0.0000],\n",
       "          [0.0000, 0.0000, 0.0000, 0.0000, 0.0000, 0.0000, 0.0000, 0.0000,\n",
       "           0.0000, 0.0000, 0.0000, 0.0000, 0.0000, 0.0000, 0.0000, 0.0000,\n",
       "           0.0000, 0.0000, 0.0000, 0.0000, 0.0000, 0.0000, 0.0000, 0.0000,\n",
       "           0.0000, 0.0000, 0.0000, 0.0000],\n",
       "          [0.0000, 0.0000, 0.0000, 0.0000, 0.0000, 0.0000, 0.0000, 0.0000,\n",
       "           0.0000, 0.0000, 0.0000, 0.0000, 0.0000, 0.0000, 0.0000, 0.0000,\n",
       "           0.0000, 0.0000, 0.0000, 0.0000, 0.0000, 0.0000, 0.0000, 0.0000,\n",
       "           0.0000, 0.0000, 0.0000, 0.0000]]]),\n",
       " 9)"
      ]
     },
     "execution_count": 3,
     "metadata": {},
     "output_type": "execute_result"
    }
   ],
   "source": [
    "image, label = train_data[0]\n",
    "image, label"
   ]
  },
  {
   "cell_type": "markdown",
   "id": "d637c7db-adb8-4f45-97f2-2448210dd361",
   "metadata": {},
   "source": [
    "#### 1.1 Input and output shapes of a CV model"
   ]
  },
  {
   "cell_type": "code",
   "execution_count": 4,
   "id": "1219627b-0bd9-41b6-a5b1-dffd43a47d05",
   "metadata": {},
   "outputs": [
    {
     "data": {
      "text/plain": [
       "torch.Size([1, 28, 28])"
      ]
     },
     "execution_count": 4,
     "metadata": {},
     "output_type": "execute_result"
    }
   ],
   "source": [
    "image.shape # The images in the dataset are grayscale."
   ]
  },
  {
   "cell_type": "raw",
   "id": "9ba7c4b7-e3aa-41ab-ada8-e013cd92a5cf",
   "metadata": {},
   "source": [
    "Input shapes should be either NHWC or NCHW, where N stands for number of images. Output shapes vary depending on the considered problem."
   ]
  },
  {
   "cell_type": "markdown",
   "id": "d9a1d700-296f-4a2f-8726-fb6cee69d554",
   "metadata": {},
   "source": [
    "PyTorch generally accepts **NCHW** as a defalut for many operators."
   ]
  },
  {
   "cell_type": "markdown",
   "id": "568b994d-8c4f-444b-94f0-ab08402cb4f0",
   "metadata": {},
   "source": [
    "However, PyTorch also tells that NHWC performs better and is considered best practice."
   ]
  },
  {
   "cell_type": "markdown",
   "id": "7bfc989a-77d3-4dc8-b384-77c621cac1cb",
   "metadata": {},
   "source": [
    "This should be kept in mind for larger datasets and models. Smaller ones won't have a significant effect."
   ]
  },
  {
   "cell_type": "code",
   "execution_count": 5,
   "id": "d23355d4-4a47-4e56-9de7-ab50790f351b",
   "metadata": {},
   "outputs": [
    {
     "data": {
      "text/plain": [
       "(60000, 60000, 10000, 10000)"
      ]
     },
     "execution_count": 5,
     "metadata": {},
     "output_type": "execute_result"
    }
   ],
   "source": [
    "len(train_data.data), len(train_data.targets), len(test_data.data), len(test_data.targets)"
   ]
  },
  {
   "cell_type": "code",
   "execution_count": 6,
   "id": "a20bee83-ab6d-4f7a-8a94-26bd4c43f1dc",
   "metadata": {},
   "outputs": [
    {
     "data": {
      "text/plain": [
       "['T-shirt/top',\n",
       " 'Trouser',\n",
       " 'Pullover',\n",
       " 'Dress',\n",
       " 'Coat',\n",
       " 'Sandal',\n",
       " 'Shirt',\n",
       " 'Sneaker',\n",
       " 'Bag',\n",
       " 'Ankle boot']"
      ]
     },
     "execution_count": 6,
     "metadata": {},
     "output_type": "execute_result"
    }
   ],
   "source": [
    "class_names = train_data.classes\n",
    "class_names"
   ]
  },
  {
   "cell_type": "markdown",
   "id": "44079e13-7f6d-4910-b6e3-9f61f1b84d09",
   "metadata": {},
   "source": [
    "#### 1.2 Visualizing the data"
   ]
  },
  {
   "cell_type": "code",
   "execution_count": 7,
   "id": "977054ef-2b30-4a84-bb6a-5285a407bc14",
   "metadata": {},
   "outputs": [
    {
     "name": "stdout",
     "output_type": "stream",
     "text": [
      "torch.Size([1, 28, 28])\n"
     ]
    },
    {
     "data": {
      "text/plain": [
       "Text(0.5, 1.0, '9')"
      ]
     },
     "execution_count": 7,
     "metadata": {},
     "output_type": "execute_result"
    },
    {
     "data": {
      "image/png": "[encoded data removed]",
      "text/plain": [
       "<Figure size 640x480 with 1 Axes>"
      ]
     },
     "metadata": {},
     "output_type": "display_data"
    }
   ],
   "source": [
    "image, label = train_data[0]\n",
    "print(image.shape)\n",
    "plt.imshow(image.squeeze()) # Get rid of the extra dimension 1 for channels\n",
    "plt.title(label)"
   ]
  },
  {
   "cell_type": "code",
   "execution_count": 8,
   "id": "7440e569-46c9-49a4-8294-4cdc88fddc0b",
   "metadata": {},
   "outputs": [
    {
     "data": {
      "text/plain": [
       "Text(0.5, 1.0, 'Ankle boot')"
      ]
     },
     "execution_count": 8,
     "metadata": {},
     "output_type": "execute_result"
    },
    {
     "data": {
      "image/png": "[encoded data removed]",
      "text/plain": [
       "<Figure size 640x480 with 1 Axes>"
      ]
     },
     "metadata": {},
     "output_type": "display_data"
    }
   ],
   "source": [
    "# The same image turned into grayscale image using  cmap parameter\n",
    "plt.imshow(image.squeeze(), cmap = \"gray\")\n",
    "plt.title(class_names[label])"
   ]
  },
  {
   "cell_type": "code",
   "execution_count": 9,
   "id": "8d6f0b27-8966-47ce-b2f1-af53760d4b1a",
   "metadata": {},
   "outputs": [
    {
     "data": {
      "image/png": "[encoded data removed]",
      "text/plain": [
       "<Figure size 900x900 with 16 Axes>"
      ]
     },
     "metadata": {},
     "output_type": "display_data"
    }
   ],
   "source": [
    "# A few more viewings of the data\n",
    "torch.manual_seed(77)\n",
    "fig = plt.figure(figsize=(9, 9))\n",
    "rows, cols = (4, 4)\n",
    "for i in range(1, rows * cols + 1):\n",
    "    rand_idx = torch.randint(0, len(train_data), size=[1]).item()\n",
    "    image, label = train_data[rand_idx]\n",
    "    fig.add_subplot(rows, cols, i)\n",
    "    plt.imshow(image.squeeze(), cmap = 'gray')\n",
    "    plt.title(class_names[label])\n",
    "    plt.axis(False)"
   ]
  },
  {
   "cell_type": "raw",
   "id": "570f6d62-3631-4fab-b66f-b8018f8dd091",
   "metadata": {},
   "source": [
    "In essence, taking pixel values and building a model to find patterns in them to use on future pixel values."
   ]
  },
  {
   "cell_type": "markdown",
   "id": "6a218395-4351-4eaf-b1ef-ea8159f8867a",
   "metadata": {},
   "source": [
    "### 2. Prepare DataLoader"
   ]
  },
  {
   "cell_type": "markdown",
   "id": "c05ce158-7642-43ba-9508-b4dc7c7e5c53",
   "metadata": {},
   "source": [
    "DataLoader helps load data into a model for training and for inference.\n",
    "\n",
    "It provides an iterable object over large datasets in small batches or mini-batches. These can be set by the batch_size hyperparameter (powers of 2 are used oftenly).\n",
    "\n",
    "This is done bacause it is more computationally efficient.\n",
    "\n",
    "As a side benefit, this batching also gives the model more oppurtunities to improve.\n",
    "\n",
    "With mini-batches, gradient descent is performed more often per epoch (once per mini-batch rather thsn once per epoch)."
   ]
  },
  {
   "cell_type": "code",
   "execution_count": 10,
   "id": "9f28fe99-254b-4928-8749-5b05526c94f0",
   "metadata": {},
   "outputs": [
    {
     "name": "stdout",
     "output_type": "stream",
     "text": [
      "<torch.utils.data.dataloader.DataLoader object at 0x0000013412F0E110> <torch.utils.data.dataloader.DataLoader object at 0x0000013410DEC450>\n",
      "1875 batches of 32\n",
      "313 batches of 32\n"
     ]
    }
   ],
   "source": [
    "from torch.utils.data import DataLoader\n",
    "\n",
    "# batch size hyperparam\n",
    "batch_size = 32\n",
    "\n",
    "# Dataset to iterables (batches)\n",
    "train_dataloader = DataLoader(train_data, batch_size=batch_size, shuffle = True) # Shuffle data every epoch\n",
    "\n",
    "test_dataloader = DataLoader(test_data, batch_size = batch_size, shuffle = False)\n",
    "\n",
    "# Data checks\n",
    "print(train_dataloader, test_dataloader)\n",
    "print(f\"{len(train_dataloader)} batches of {batch_size}\")\n",
    "print(f\"{len(test_dataloader)} batches of {batch_size}\")"
   ]
  },
  {
   "cell_type": "code",
   "execution_count": 11,
   "id": "a9f9b20f-76d9-42a6-a5c6-7243385b32e1",
   "metadata": {},
   "outputs": [
    {
     "data": {
      "text/plain": [
       "(torch.Size([32, 1, 28, 28]), torch.Size([32]))"
      ]
     },
     "execution_count": 11,
     "metadata": {},
     "output_type": "execute_result"
    }
   ],
   "source": [
    "# Check the data in the dataloaders\n",
    "train_features_batch, train_labels_batch = next(iter(train_dataloader))\n",
    "train_features_batch.shape, train_labels_batch.shape"
   ]
  },
  {
   "cell_type": "code",
   "execution_count": 12,
   "id": "9e2840ce-89f2-4afe-bb98-e78751e93915",
   "metadata": {},
   "outputs": [
    {
     "name": "stdout",
     "output_type": "stream",
     "text": [
      "torch.Size([1, 28, 28])\n",
      "tensor(2) torch.Size([])\n"
     ]
    },
    {
     "data": {
      "image/png": "[encoded data removed]",
      "text/plain": [
       "<Figure size 640x480 with 1 Axes>"
      ]
     },
     "metadata": {},
     "output_type": "display_data"
    }
   ],
   "source": [
    "# Show a sample\n",
    "torch.manual_seed(77)\n",
    "rand_idx = torch.randint(0, len(train_features_batch), size=[1]).item()\n",
    "image, label = train_features_batch[rand_idx], train_labels_batch[rand_idx]\n",
    "plt.imshow(image.squeeze(), cmap = \"gray\")\n",
    "plt.title(class_names[label])\n",
    "plt.axis(\"Off\")\n",
    "print(image.shape)\n",
    "print(label, label.shape)"
   ]
  },
  {
   "cell_type": "markdown",
   "id": "d79f64a0-68e2-4152-92c8-77418a0be9ab",
   "metadata": {},
   "source": [
    "### 3. Model 0: Build a baseline model"
   ]
  },
  {
   "cell_type": "markdown",
   "id": "861bf8b1-141c-4d1c-84b9-ef096b192e1f",
   "metadata": {},
   "source": [
    "Baseline model is one of the simplest models. Use it as a starting point and subsequently improvise over it."
   ]
  },
  {
   "cell_type": "markdown",
   "id": "1669f9db-b66d-4a5b-89e6-7771fdbb907f",
   "metadata": {},
   "source": [
    "**nn.Flatten()** compresses the dimensions of a tensor into a single vector. From [channels, h, w] to [channels, h * w]"
   ]
  },
  {
   "cell_type": "code",
   "execution_count": 13,
   "id": "28c2cae2-143c-48bd-83f6-8797994b74df",
   "metadata": {},
   "outputs": [
    {
     "name": "stdout",
     "output_type": "stream",
     "text": [
      "torch.Size([1, 28, 28]) tensor([[[0.0000, 0.0000, 0.0000, 0.0000, 0.0000, 0.0000, 0.0000, 0.0000,\n",
      "          0.0000, 0.0000, 0.0000, 0.0000, 0.0000, 0.0000, 0.0000, 0.0000,\n",
      "          0.0000, 0.0000, 0.0000, 0.0000, 0.0000, 0.0000, 0.0000, 0.0000,\n",
      "          0.0000, 0.0000, 0.0000, 0.0000],\n",
      "         [0.0000, 0.0000, 0.0000, 0.0000, 0.0000, 0.0000, 0.0000, 0.0000,\n",
      "          0.0000, 0.0000, 0.0000, 0.0000, 0.0000, 0.0000, 0.0000, 0.0000,\n",
      "          0.0000, 0.0000, 0.0000, 0.0000, 0.0000, 0.0000, 0.0000, 0.0000,\n",
      "          0.0000, 0.0000, 0.0000, 0.0000],\n",
      "         [0.0000, 0.0000, 0.0000, 0.0000, 0.0000, 0.0000, 0.0000, 0.0000,\n",
      "          0.0000, 0.0000, 0.0000, 0.0000, 0.0000, 0.0000, 0.0000, 0.0000,\n",
      "          0.0000, 0.0000, 0.0000, 0.0000, 0.0000, 0.0000, 0.0000, 0.0000,\n",
      "          0.0000, 0.0000, 0.0000, 0.0000],\n",
      "         [0.0000, 0.0000, 0.0000, 0.0000, 0.0000, 0.0000, 0.0000, 0.0000,\n",
      "          0.0000, 0.0000, 0.0000, 0.0000, 0.0000, 0.0000, 0.0000, 0.0000,\n",
      "          0.0000, 0.0000, 0.0000, 0.0000, 0.0000, 0.0000, 0.0000, 0.0000,\n",
      "          0.0000, 0.0000, 0.0000, 0.0000],\n",
      "         [0.0000, 0.0000, 0.0000, 0.0000, 0.0000, 0.0000, 0.0000, 0.0000,\n",
      "          0.0000, 0.0000, 0.0000, 0.0000, 0.0000, 0.0000, 0.0000, 0.0000,\n",
      "          0.0000, 0.0000, 0.0000, 0.0000, 0.0000, 0.0000, 0.0000, 0.0000,\n",
      "          0.0000, 0.0000, 0.0000, 0.0000],\n",
      "         [0.0000, 0.0000, 0.0000, 0.0000, 0.0000, 0.0000, 0.0000, 0.0000,\n",
      "          0.0000, 0.0000, 0.0000, 0.0000, 0.0000, 0.0000, 0.0000, 0.0000,\n",
      "          0.0000, 0.0000, 0.0000, 0.0000, 0.0000, 0.0000, 0.0000, 0.0000,\n",
      "          0.0000, 0.0000, 0.0000, 0.0000],\n",
      "         [0.0000, 0.0000, 0.0000, 0.0000, 0.0000, 0.0000, 0.0000, 0.0000,\n",
      "          0.0000, 0.0000, 0.0000, 0.0000, 0.0000, 0.0000, 0.0000, 0.0000,\n",
      "          0.0000, 0.0000, 0.0000, 0.0000, 0.0000, 0.0000, 0.0000, 0.0000,\n",
      "          0.0000, 0.0000, 0.0000, 0.0000],\n",
      "         [0.0000, 0.0000, 0.0000, 0.0000, 0.0000, 0.0000, 0.0000, 0.0000,\n",
      "          0.0000, 0.0039, 0.0000, 0.0039, 0.0000, 0.0000, 0.2667, 0.1373,\n",
      "          0.0000, 0.0000, 0.0000, 0.0353, 0.0000, 0.0000, 0.0000, 0.0000,\n",
      "          0.0627, 0.0549, 0.0000, 0.0000],\n",
      "         [0.0000, 0.0000, 0.0000, 0.0000, 0.0000, 0.0000, 0.0000, 0.0000,\n",
      "          0.0000, 0.0000, 0.0039, 0.0078, 0.0000, 0.2549, 0.4667, 0.4745,\n",
      "          0.5804, 0.4745, 0.5686, 0.7608, 0.7059, 0.7020, 0.7412, 0.6627,\n",
      "          0.6392, 0.6745, 0.0000, 0.0000],\n",
      "         [0.0000, 0.0000, 0.0000, 0.0000, 0.0000, 0.0000, 0.0000, 0.0000,\n",
      "          0.0000, 0.0000, 0.0039, 0.0039, 0.0000, 0.2824, 0.4549, 0.5098,\n",
      "          0.6039, 0.6667, 0.6353, 0.6235, 0.6902, 0.6784, 0.6863, 0.7176,\n",
      "          0.6667, 0.6392, 0.0588, 0.0000],\n",
      "         [0.0000, 0.0000, 0.0000, 0.0000, 0.0000, 0.0000, 0.0000, 0.0000,\n",
      "          0.0000, 0.0078, 0.0000, 0.0000, 0.0000, 0.0000, 0.0314, 0.2941,\n",
      "          0.6314, 0.6392, 0.6314, 0.6784, 0.6941, 0.6863, 0.6078, 0.5686,\n",
      "          0.5765, 0.6588, 0.1569, 0.0000],\n",
      "         [0.0000, 0.0000, 0.0000, 0.0000, 0.0000, 0.0000, 0.0000, 0.0000,\n",
      "          0.0000, 0.0000, 0.0000, 0.0000, 0.0000, 0.0039, 0.0000, 0.0000,\n",
      "          0.0627, 0.5569, 0.7490, 0.5137, 0.5647, 0.5843, 0.4431, 0.5647,\n",
      "          0.5137, 0.6118, 0.7451, 0.0000],\n",
      "         [0.0000, 0.0000, 0.0000, 0.0000, 0.0000, 0.0000, 0.0000, 0.0000,\n",
      "          0.0000, 0.1020, 0.1373, 0.0039, 0.0000, 0.0000, 0.0078, 0.0000,\n",
      "          0.1647, 0.4196, 0.5765, 0.7176, 0.7333, 0.7961, 0.6627, 0.9961,\n",
      "          0.6902, 0.5020, 0.8314, 0.2392],\n",
      "         [0.0039, 0.0000, 0.0000, 0.0000, 0.0000, 0.0000, 0.0000, 0.1020,\n",
      "          0.1686, 0.0196, 0.3059, 0.2902, 0.0000, 0.0078, 0.0000, 0.0000,\n",
      "          0.2353, 0.3725, 0.0314, 0.2392, 0.5412, 0.8510, 0.9059, 0.8392,\n",
      "          0.7882, 0.6588, 0.5569, 0.0706],\n",
      "         [0.0039, 0.0000, 0.0000, 0.0039, 0.0000, 0.0588, 0.1020, 0.0157,\n",
      "          0.0275, 0.3490, 0.5686, 0.2392, 0.1373, 0.0000, 0.0000, 0.0000,\n",
      "          0.2824, 0.3569, 0.0902, 0.0078, 0.4588, 0.4588, 0.3333, 0.4667,\n",
      "          0.4471, 0.4941, 0.5412, 0.1373],\n",
      "         [0.0039, 0.0039, 0.0000, 0.0039, 0.0000, 0.1098, 0.8235, 0.5765,\n",
      "          0.7451, 0.5765, 0.0078, 0.0039, 0.2549, 0.0000, 0.0000, 0.0000,\n",
      "          0.2941, 0.3647, 0.5686, 0.2510, 0.7765, 0.7059, 0.5529, 0.7412,\n",
      "          0.5412, 0.5961, 0.6941, 0.2941],\n",
      "         [0.0000, 0.0000, 0.0157, 0.0000, 0.0000, 0.0000, 0.0745, 0.1020,\n",
      "          0.1569, 0.0000, 0.0000, 0.0196, 0.5529, 0.0157, 0.0000, 0.0000,\n",
      "          0.2745, 0.4824, 0.5804, 0.5137, 0.7412, 0.5294, 0.5765, 0.7294,\n",
      "          0.5020, 0.6039, 0.5020, 0.2078],\n",
      "         [0.0706, 0.0000, 0.0000, 0.0000, 0.0000, 0.0353, 0.1451, 0.0039,\n",
      "          0.2353, 0.0745, 0.3333, 0.7216, 0.6784, 0.1569, 0.0000, 0.0000,\n",
      "          0.2000, 0.1529, 0.0000, 0.0000, 0.0000, 0.0000, 0.0000, 0.0000,\n",
      "          0.0000, 0.1412, 0.1725, 0.0000],\n",
      "         [0.3647, 0.5843, 0.4549, 0.3294, 0.0745, 0.0078, 0.2667, 0.4000,\n",
      "          0.4667, 0.1804, 0.2549, 0.1255, 0.0000, 0.0314, 0.1098, 0.1804,\n",
      "          0.3176, 0.4314, 0.4941, 0.5647, 0.6039, 0.7451, 0.8039, 0.8431,\n",
      "          0.7843, 0.8118, 0.8039, 0.3020],\n",
      "         [0.0000, 0.2000, 0.4118, 0.5765, 0.6902, 0.6745, 0.6863, 0.6471,\n",
      "          0.6235, 0.8039, 0.6863, 0.6745, 0.7490, 0.7882, 0.7686, 0.7294,\n",
      "          0.7020, 0.7216, 0.7843, 0.7686, 0.7569, 0.7216, 0.6902, 0.6510,\n",
      "          0.5922, 0.4745, 0.4157, 0.0902],\n",
      "         [0.0000, 0.0000, 0.0000, 0.0000, 0.0000, 0.1255, 0.2745, 0.3176,\n",
      "          0.3490, 0.3216, 0.2510, 0.2627, 0.1725, 0.0863, 0.0039, 0.0000,\n",
      "          0.0000, 0.0000, 0.1804, 0.1137, 0.1137, 0.1098, 0.0745, 0.0588,\n",
      "          0.0039, 0.0039, 0.0078, 0.0000],\n",
      "         [0.0000, 0.0000, 0.0000, 0.0000, 0.0000, 0.0000, 0.0000, 0.0000,\n",
      "          0.0000, 0.0000, 0.0000, 0.0000, 0.0000, 0.0000, 0.0000, 0.0000,\n",
      "          0.0000, 0.0000, 0.0000, 0.0000, 0.0000, 0.0000, 0.0000, 0.0000,\n",
      "          0.0000, 0.0000, 0.0000, 0.0000],\n",
      "         [0.0000, 0.0000, 0.0000, 0.0000, 0.0000, 0.0000, 0.0000, 0.0000,\n",
      "          0.0000, 0.0000, 0.0000, 0.0000, 0.0000, 0.0000, 0.0000, 0.0000,\n",
      "          0.0000, 0.0000, 0.0000, 0.0000, 0.0000, 0.0000, 0.0000, 0.0000,\n",
      "          0.0000, 0.0000, 0.0000, 0.0000],\n",
      "         [0.0000, 0.0000, 0.0000, 0.0000, 0.0000, 0.0000, 0.0000, 0.0000,\n",
      "          0.0000, 0.0000, 0.0000, 0.0000, 0.0000, 0.0000, 0.0000, 0.0000,\n",
      "          0.0000, 0.0000, 0.0000, 0.0000, 0.0000, 0.0000, 0.0000, 0.0000,\n",
      "          0.0000, 0.0000, 0.0000, 0.0000],\n",
      "         [0.0000, 0.0000, 0.0000, 0.0000, 0.0000, 0.0000, 0.0000, 0.0000,\n",
      "          0.0000, 0.0000, 0.0000, 0.0000, 0.0000, 0.0000, 0.0000, 0.0000,\n",
      "          0.0000, 0.0000, 0.0000, 0.0000, 0.0000, 0.0000, 0.0000, 0.0000,\n",
      "          0.0000, 0.0000, 0.0000, 0.0000],\n",
      "         [0.0000, 0.0000, 0.0000, 0.0000, 0.0000, 0.0000, 0.0000, 0.0000,\n",
      "          0.0000, 0.0000, 0.0000, 0.0000, 0.0000, 0.0000, 0.0000, 0.0000,\n",
      "          0.0000, 0.0000, 0.0000, 0.0000, 0.0000, 0.0000, 0.0000, 0.0000,\n",
      "          0.0000, 0.0000, 0.0000, 0.0000],\n",
      "         [0.0000, 0.0000, 0.0000, 0.0000, 0.0000, 0.0000, 0.0000, 0.0000,\n",
      "          0.0000, 0.0000, 0.0000, 0.0000, 0.0000, 0.0000, 0.0000, 0.0000,\n",
      "          0.0000, 0.0000, 0.0000, 0.0000, 0.0000, 0.0000, 0.0000, 0.0000,\n",
      "          0.0000, 0.0000, 0.0000, 0.0000],\n",
      "         [0.0000, 0.0000, 0.0000, 0.0000, 0.0000, 0.0000, 0.0000, 0.0000,\n",
      "          0.0000, 0.0000, 0.0000, 0.0000, 0.0000, 0.0000, 0.0000, 0.0000,\n",
      "          0.0000, 0.0000, 0.0000, 0.0000, 0.0000, 0.0000, 0.0000, 0.0000,\n",
      "          0.0000, 0.0000, 0.0000, 0.0000]]])\n",
      "torch.Size([1, 784]) tensor([[0.0000, 0.0000, 0.0000, 0.0000, 0.0000, 0.0000, 0.0000, 0.0000, 0.0000,\n",
      "         0.0000, 0.0000, 0.0000, 0.0000, 0.0000, 0.0000, 0.0000, 0.0000, 0.0000,\n",
      "         0.0000, 0.0000, 0.0000, 0.0000, 0.0000, 0.0000, 0.0000, 0.0000, 0.0000,\n",
      "         0.0000, 0.0000, 0.0000, 0.0000, 0.0000, 0.0000, 0.0000, 0.0000, 0.0000,\n",
      "         0.0000, 0.0000, 0.0000, 0.0000, 0.0000, 0.0000, 0.0000, 0.0000, 0.0000,\n",
      "         0.0000, 0.0000, 0.0000, 0.0000, 0.0000, 0.0000, 0.0000, 0.0000, 0.0000,\n",
      "         0.0000, 0.0000, 0.0000, 0.0000, 0.0000, 0.0000, 0.0000, 0.0000, 0.0000,\n",
      "         0.0000, 0.0000, 0.0000, 0.0000, 0.0000, 0.0000, 0.0000, 0.0000, 0.0000,\n",
      "         0.0000, 0.0000, 0.0000, 0.0000, 0.0000, 0.0000, 0.0000, 0.0000, 0.0000,\n",
      "         0.0000, 0.0000, 0.0000, 0.0000, 0.0000, 0.0000, 0.0000, 0.0000, 0.0000,\n",
      "         0.0000, 0.0000, 0.0000, 0.0000, 0.0000, 0.0000, 0.0000, 0.0000, 0.0000,\n",
      "         0.0000, 0.0000, 0.0000, 0.0000, 0.0000, 0.0000, 0.0000, 0.0000, 0.0000,\n",
      "         0.0000, 0.0000, 0.0000, 0.0000, 0.0000, 0.0000, 0.0000, 0.0000, 0.0000,\n",
      "         0.0000, 0.0000, 0.0000, 0.0000, 0.0000, 0.0000, 0.0000, 0.0000, 0.0000,\n",
      "         0.0000, 0.0000, 0.0000, 0.0000, 0.0000, 0.0000, 0.0000, 0.0000, 0.0000,\n",
      "         0.0000, 0.0000, 0.0000, 0.0000, 0.0000, 0.0000, 0.0000, 0.0000, 0.0000,\n",
      "         0.0000, 0.0000, 0.0000, 0.0000, 0.0000, 0.0000, 0.0000, 0.0000, 0.0000,\n",
      "         0.0000, 0.0000, 0.0000, 0.0000, 0.0000, 0.0000, 0.0000, 0.0000, 0.0000,\n",
      "         0.0000, 0.0000, 0.0000, 0.0000, 0.0000, 0.0000, 0.0000, 0.0000, 0.0000,\n",
      "         0.0000, 0.0000, 0.0000, 0.0000, 0.0000, 0.0000, 0.0000, 0.0000, 0.0000,\n",
      "         0.0000, 0.0000, 0.0000, 0.0000, 0.0000, 0.0000, 0.0000, 0.0000, 0.0000,\n",
      "         0.0000, 0.0000, 0.0000, 0.0000, 0.0000, 0.0000, 0.0000, 0.0000, 0.0000,\n",
      "         0.0000, 0.0000, 0.0000, 0.0000, 0.0000, 0.0000, 0.0000, 0.0039, 0.0000,\n",
      "         0.0039, 0.0000, 0.0000, 0.2667, 0.1373, 0.0000, 0.0000, 0.0000, 0.0353,\n",
      "         0.0000, 0.0000, 0.0000, 0.0000, 0.0627, 0.0549, 0.0000, 0.0000, 0.0000,\n",
      "         0.0000, 0.0000, 0.0000, 0.0000, 0.0000, 0.0000, 0.0000, 0.0000, 0.0000,\n",
      "         0.0039, 0.0078, 0.0000, 0.2549, 0.4667, 0.4745, 0.5804, 0.4745, 0.5686,\n",
      "         0.7608, 0.7059, 0.7020, 0.7412, 0.6627, 0.6392, 0.6745, 0.0000, 0.0000,\n",
      "         0.0000, 0.0000, 0.0000, 0.0000, 0.0000, 0.0000, 0.0000, 0.0000, 0.0000,\n",
      "         0.0000, 0.0039, 0.0039, 0.0000, 0.2824, 0.4549, 0.5098, 0.6039, 0.6667,\n",
      "         0.6353, 0.6235, 0.6902, 0.6784, 0.6863, 0.7176, 0.6667, 0.6392, 0.0588,\n",
      "         0.0000, 0.0000, 0.0000, 0.0000, 0.0000, 0.0000, 0.0000, 0.0000, 0.0000,\n",
      "         0.0000, 0.0078, 0.0000, 0.0000, 0.0000, 0.0000, 0.0314, 0.2941, 0.6314,\n",
      "         0.6392, 0.6314, 0.6784, 0.6941, 0.6863, 0.6078, 0.5686, 0.5765, 0.6588,\n",
      "         0.1569, 0.0000, 0.0000, 0.0000, 0.0000, 0.0000, 0.0000, 0.0000, 0.0000,\n",
      "         0.0000, 0.0000, 0.0000, 0.0000, 0.0000, 0.0000, 0.0039, 0.0000, 0.0000,\n",
      "         0.0627, 0.5569, 0.7490, 0.5137, 0.5647, 0.5843, 0.4431, 0.5647, 0.5137,\n",
      "         0.6118, 0.7451, 0.0000, 0.0000, 0.0000, 0.0000, 0.0000, 0.0000, 0.0000,\n",
      "         0.0000, 0.0000, 0.0000, 0.1020, 0.1373, 0.0039, 0.0000, 0.0000, 0.0078,\n",
      "         0.0000, 0.1647, 0.4196, 0.5765, 0.7176, 0.7333, 0.7961, 0.6627, 0.9961,\n",
      "         0.6902, 0.5020, 0.8314, 0.2392, 0.0039, 0.0000, 0.0000, 0.0000, 0.0000,\n",
      "         0.0000, 0.0000, 0.1020, 0.1686, 0.0196, 0.3059, 0.2902, 0.0000, 0.0078,\n",
      "         0.0000, 0.0000, 0.2353, 0.3725, 0.0314, 0.2392, 0.5412, 0.8510, 0.9059,\n",
      "         0.8392, 0.7882, 0.6588, 0.5569, 0.0706, 0.0039, 0.0000, 0.0000, 0.0039,\n",
      "         0.0000, 0.0588, 0.1020, 0.0157, 0.0275, 0.3490, 0.5686, 0.2392, 0.1373,\n",
      "         0.0000, 0.0000, 0.0000, 0.2824, 0.3569, 0.0902, 0.0078, 0.4588, 0.4588,\n",
      "         0.3333, 0.4667, 0.4471, 0.4941, 0.5412, 0.1373, 0.0039, 0.0039, 0.0000,\n",
      "         0.0039, 0.0000, 0.1098, 0.8235, 0.5765, 0.7451, 0.5765, 0.0078, 0.0039,\n",
      "         0.2549, 0.0000, 0.0000, 0.0000, 0.2941, 0.3647, 0.5686, 0.2510, 0.7765,\n",
      "         0.7059, 0.5529, 0.7412, 0.5412, 0.5961, 0.6941, 0.2941, 0.0000, 0.0000,\n",
      "         0.0157, 0.0000, 0.0000, 0.0000, 0.0745, 0.1020, 0.1569, 0.0000, 0.0000,\n",
      "         0.0196, 0.5529, 0.0157, 0.0000, 0.0000, 0.2745, 0.4824, 0.5804, 0.5137,\n",
      "         0.7412, 0.5294, 0.5765, 0.7294, 0.5020, 0.6039, 0.5020, 0.2078, 0.0706,\n",
      "         0.0000, 0.0000, 0.0000, 0.0000, 0.0353, 0.1451, 0.0039, 0.2353, 0.0745,\n",
      "         0.3333, 0.7216, 0.6784, 0.1569, 0.0000, 0.0000, 0.2000, 0.1529, 0.0000,\n",
      "         0.0000, 0.0000, 0.0000, 0.0000, 0.0000, 0.0000, 0.1412, 0.1725, 0.0000,\n",
      "         0.3647, 0.5843, 0.4549, 0.3294, 0.0745, 0.0078, 0.2667, 0.4000, 0.4667,\n",
      "         0.1804, 0.2549, 0.1255, 0.0000, 0.0314, 0.1098, 0.1804, 0.3176, 0.4314,\n",
      "         0.4941, 0.5647, 0.6039, 0.7451, 0.8039, 0.8431, 0.7843, 0.8118, 0.8039,\n",
      "         0.3020, 0.0000, 0.2000, 0.4118, 0.5765, 0.6902, 0.6745, 0.6863, 0.6471,\n",
      "         0.6235, 0.8039, 0.6863, 0.6745, 0.7490, 0.7882, 0.7686, 0.7294, 0.7020,\n",
      "         0.7216, 0.7843, 0.7686, 0.7569, 0.7216, 0.6902, 0.6510, 0.5922, 0.4745,\n",
      "         0.4157, 0.0902, 0.0000, 0.0000, 0.0000, 0.0000, 0.0000, 0.1255, 0.2745,\n",
      "         0.3176, 0.3490, 0.3216, 0.2510, 0.2627, 0.1725, 0.0863, 0.0039, 0.0000,\n",
      "         0.0000, 0.0000, 0.1804, 0.1137, 0.1137, 0.1098, 0.0745, 0.0588, 0.0039,\n",
      "         0.0039, 0.0078, 0.0000, 0.0000, 0.0000, 0.0000, 0.0000, 0.0000, 0.0000,\n",
      "         0.0000, 0.0000, 0.0000, 0.0000, 0.0000, 0.0000, 0.0000, 0.0000, 0.0000,\n",
      "         0.0000, 0.0000, 0.0000, 0.0000, 0.0000, 0.0000, 0.0000, 0.0000, 0.0000,\n",
      "         0.0000, 0.0000, 0.0000, 0.0000, 0.0000, 0.0000, 0.0000, 0.0000, 0.0000,\n",
      "         0.0000, 0.0000, 0.0000, 0.0000, 0.0000, 0.0000, 0.0000, 0.0000, 0.0000,\n",
      "         0.0000, 0.0000, 0.0000, 0.0000, 0.0000, 0.0000, 0.0000, 0.0000, 0.0000,\n",
      "         0.0000, 0.0000, 0.0000, 0.0000, 0.0000, 0.0000, 0.0000, 0.0000, 0.0000,\n",
      "         0.0000, 0.0000, 0.0000, 0.0000, 0.0000, 0.0000, 0.0000, 0.0000, 0.0000,\n",
      "         0.0000, 0.0000, 0.0000, 0.0000, 0.0000, 0.0000, 0.0000, 0.0000, 0.0000,\n",
      "         0.0000, 0.0000, 0.0000, 0.0000, 0.0000, 0.0000, 0.0000, 0.0000, 0.0000,\n",
      "         0.0000, 0.0000, 0.0000, 0.0000, 0.0000, 0.0000, 0.0000, 0.0000, 0.0000,\n",
      "         0.0000, 0.0000, 0.0000, 0.0000, 0.0000, 0.0000, 0.0000, 0.0000, 0.0000,\n",
      "         0.0000, 0.0000, 0.0000, 0.0000, 0.0000, 0.0000, 0.0000, 0.0000, 0.0000,\n",
      "         0.0000, 0.0000, 0.0000, 0.0000, 0.0000, 0.0000, 0.0000, 0.0000, 0.0000,\n",
      "         0.0000, 0.0000, 0.0000, 0.0000, 0.0000, 0.0000, 0.0000, 0.0000, 0.0000,\n",
      "         0.0000, 0.0000, 0.0000, 0.0000, 0.0000, 0.0000, 0.0000, 0.0000, 0.0000,\n",
      "         0.0000, 0.0000, 0.0000, 0.0000, 0.0000, 0.0000, 0.0000, 0.0000, 0.0000,\n",
      "         0.0000, 0.0000, 0.0000, 0.0000, 0.0000, 0.0000, 0.0000, 0.0000, 0.0000,\n",
      "         0.0000, 0.0000, 0.0000, 0.0000, 0.0000, 0.0000, 0.0000, 0.0000, 0.0000,\n",
      "         0.0000, 0.0000, 0.0000, 0.0000, 0.0000, 0.0000, 0.0000, 0.0000, 0.0000,\n",
      "         0.0000, 0.0000, 0.0000, 0.0000, 0.0000, 0.0000, 0.0000, 0.0000, 0.0000,\n",
      "         0.0000, 0.0000, 0.0000, 0.0000, 0.0000, 0.0000, 0.0000, 0.0000, 0.0000,\n",
      "         0.0000]])\n"
     ]
    }
   ],
   "source": [
    "# Creating a flatten layer\n",
    "flatten_model = nn.Flatten() # All n.modules function as a model\n",
    "\n",
    "# Try on a single sample\n",
    "x = train_features_batch[0]\n",
    "output = flatten_model(x) # forward pass\n",
    "\n",
    "# Print the results\n",
    "print(x.shape, x)\n",
    "print(output.shape, output)"
   ]
  },
  {
   "cell_type": "markdown",
   "id": "e9a7737d-7c20-4473-98cd-1cbf252a8e13",
   "metadata": {},
   "source": [
    "This basically turns the pixel data from height and width dims into one long **feature vector**. nn.Linear likes the input in the form of feature vectors. Or, NNs like their inputs to be in vector form."
   ]
  },
  {
   "cell_type": "code",
   "execution_count": 14,
   "id": "e2b1ce3e-459e-4255-a427-1b38437ee52f",
   "metadata": {},
   "outputs": [],
   "source": [
    "# Build the baseline model\n",
    "class FashionMNISTModelV0(nn.Module):\n",
    "    def __init__(self, input_shape: int, hidden_units: int, output_shape: int):\n",
    "        super().__init__()\n",
    "        self.layer_stack = nn.Sequential(\n",
    "            nn.Flatten(),\n",
    "            nn.Linear(in_features=input_shape, out_features=hidden_units),\n",
    "            nn.Linear(in_features=hidden_units, out_features=output_shape)\n",
    "        )\n",
    "\n",
    "    def forward(self, x):\n",
    "        return self.layer_stack(x)"
   ]
  },
  {
   "cell_type": "code",
   "execution_count": 15,
   "id": "a349d741-57d4-4e54-9d59-d78428ec8247",
   "metadata": {},
   "outputs": [
    {
     "data": {
      "text/plain": [
       "FashionMNISTModelV0(\n",
       "  (layer_stack): Sequential(\n",
       "    (0): Flatten(start_dim=1, end_dim=-1)\n",
       "    (1): Linear(in_features=784, out_features=10, bias=True)\n",
       "    (2): Linear(in_features=10, out_features=10, bias=True)\n",
       "  )\n",
       ")"
      ]
     },
     "execution_count": 15,
     "metadata": {},
     "output_type": "execute_result"
    }
   ],
   "source": [
    "# Instatiate the baseline model\n",
    "torch.manual_seed(77)\n",
    "model_0 = FashionMNISTModelV0(input_shape=784, # # input_shape is the number of features going into the model (each pixel in our case)\n",
    "                              hidden_units=10,\n",
    "                              output_shape=len(class_names)) # one neuron per class\n",
    "model_0.to(\"cpu\") # Beginning phase on cpu"
   ]
  },
  {
   "cell_type": "markdown",
   "id": "8aad4769-521b-4790-a094-e65904c00a53",
   "metadata": {},
   "source": [
    "#### 3.1 Setup loss, optimizer and evaluation metrics"
   ]
  },
  {
   "cell_type": "code",
   "execution_count": 16,
   "id": "80019c69-e664-4810-8713-3262defb18e0",
   "metadata": {},
   "outputs": [
    {
     "data": {
      "text/plain": [
       "Accuracy()"
      ]
     },
     "execution_count": 16,
     "metadata": {},
     "output_type": "execute_result"
    }
   ],
   "source": [
    "loss_fn = nn.CrossEntropyLoss()\n",
    "optimizer = torch.optim.SGD(params=model_0.parameters(), lr=0.1)\n",
    "from torchmetrics import Accuracy\n",
    "accuracy_fn = Accuracy(task=\"multiclass\", num_classes=10).to(\"cpu\")\n",
    "accuracy_fn"
   ]
  },
  {
   "cell_type": "markdown",
   "id": "c4a894e3-9e04-48a6-a71e-f0235f0936a5",
   "metadata": {},
   "source": [
    "#### 3.2 Creating a function to time the experiments"
   ]
  },
  {
   "cell_type": "code",
   "execution_count": 17,
   "id": "1259561c-9e8e-4c0a-8a48-738b6fee5a5b",
   "metadata": {},
   "outputs": [],
   "source": [
    "from timeit import default_timer as timer\n",
    "\n",
    "def print_train_time(start: float, end: float, device: torch.device=None):\n",
    "    # prints the difference between start and end times\n",
    "    total_time = end - start\n",
    "    print(f\"Train time on {device}: {total_time:.3f} seconds\")\n",
    "    return total_time"
   ]
  },
  {
   "cell_type": "markdown",
   "id": "5e6d3348-7570-45c3-8a7b-a8b53e142df4",
   "metadata": {},
   "source": [
    "#### 3.3 Creating a training loop and training the model on batches of data"
   ]
  },
  {
   "cell_type": "raw",
   "id": "399bd645-1e67-439f-b965-3e4c79f7004e",
   "metadata": {},
   "source": [
    "Because the data is in batch form, another loop will be added to loop through the data batches.\n",
    "\n",
    "Since computing on batches of data, the loss and evaluation metrics will will be calculated per batch rather than the whole dataset. This implies to divide the loss and acc values by the number of batchess in each respective dataloader."
   ]
  },
  {
   "cell_type": "code",
   "execution_count": 18,
   "id": "80c71df4-2eb3-4661-87b9-adb361f4a6fc",
   "metadata": {},
   "outputs": [
    {
     "name": "stderr",
     "output_type": "stream",
     "text": [
      "C:\\Users\\ritis\\Desktop\\PyTorch-Learning\\pytorch-env\\Lib\\site-packages\\tqdm\\auto.py:21: TqdmWarning: IProgress not found. Please update jupyter and ipywidgets. See https://ipywidgets.readthedocs.io/en/stable/user_install.html\n",
      "  from .autonotebook import tqdm as notebook_tqdm\n",
      "  0%|                                                                                            | 0/3 [00:00<?, ?it/s]"
     ]
    },
    {
     "name": "stdout",
     "output_type": "stream",
     "text": [
      "Epoch: 0\n",
      "------\n",
      "Looked at 0 / 60000 samples\n",
      "Looked at 12800 / 60000 samples\n",
      "Looked at 25600 / 60000 samples\n",
      "Looked at 38400 / 60000 samples\n",
      "Looked at 51200 / 60000 samples\n"
     ]
    },
    {
     "name": "stderr",
     "output_type": "stream",
     "text": [
      " 33%|████████████████████████████                                                        | 1/3 [00:10<00:21, 10.74s/it]"
     ]
    },
    {
     "name": "stdout",
     "output_type": "stream",
     "text": [
      "\n",
      "Train Loss: 0.58936 | Test Loss: 0.50658, Test Accuracy: 82.32%\n",
      "\n",
      "Epoch: 1\n",
      "------\n",
      "Looked at 0 / 60000 samples\n",
      "Looked at 12800 / 60000 samples\n",
      "Looked at 25600 / 60000 samples\n",
      "Looked at 38400 / 60000 samples\n",
      "Looked at 51200 / 60000 samples\n"
     ]
    },
    {
     "name": "stderr",
     "output_type": "stream",
     "text": [
      " 67%|████████████████████████████████████████████████████████                            | 2/3 [00:20<00:10, 10.13s/it]"
     ]
    },
    {
     "name": "stdout",
     "output_type": "stream",
     "text": [
      "\n",
      "Train Loss: 0.47594 | Test Loss: 0.47230, Test Accuracy: 83.36%\n",
      "\n",
      "Epoch: 2\n",
      "------\n",
      "Looked at 0 / 60000 samples\n",
      "Looked at 12800 / 60000 samples\n",
      "Looked at 25600 / 60000 samples\n",
      "Looked at 38400 / 60000 samples\n",
      "Looked at 51200 / 60000 samples\n"
     ]
    },
    {
     "name": "stderr",
     "output_type": "stream",
     "text": [
      "100%|████████████████████████████████████████████████████████████████████████████████████| 3/3 [00:30<00:00, 10.23s/it]"
     ]
    },
    {
     "name": "stdout",
     "output_type": "stream",
     "text": [
      "\n",
      "Train Loss: 0.45441 | Test Loss: 0.47770, Test Accuracy: 82.91%\n",
      "\n",
      "Train time on cpu: 30.702 seconds\n"
     ]
    },
    {
     "name": "stderr",
     "output_type": "stream",
     "text": [
      "\n"
     ]
    }
   ],
   "source": [
    "# tqdm for progress bar\n",
    "from tqdm.auto import tqdm\n",
    "\n",
    "# Start the timer\n",
    "torch.manual_seed(77)\n",
    "train_time_start_on_cpu = timer()\n",
    "\n",
    "# Number of epochs\n",
    "epochs = 3\n",
    "\n",
    "# Training and testing loops creation\n",
    "for epoch in tqdm(range(epochs)):\n",
    "    print(f\"Epoch: {epoch}\\n------\")\n",
    "    # Training\n",
    "    train_loss = 0\n",
    "    for batch, (X, y) in enumerate(train_dataloader): # Extra loop over the batches\n",
    "        model_0.train()\n",
    "        \n",
    "        # Forward Pass\n",
    "        y_pred = model_0(X)\n",
    "\n",
    "        # Calculate loss\n",
    "        loss = loss_fn(y_pred, y) \n",
    "        train_loss += loss # Accumulatively add up the loss per epoch\n",
    "        \n",
    "        # Optimizer zero grad\n",
    "        optimizer.zero_grad()\n",
    "\n",
    "        # Backprop\n",
    "        loss.backward()\n",
    "\n",
    "        # Optimizer step\n",
    "        optimizer.step()\n",
    "\n",
    "        # Print the samples seen till now\n",
    "        if batch % 400 == 0:\n",
    "            print(f\"Looked at {batch * len(X)} / {len(train_dataloader.dataset)} samples\")\n",
    "\n",
    "    # Divide total train loss by length of train dataloader (avg loss per batch per epoch)\n",
    "    train_loss /= len(train_dataloader)\n",
    "\n",
    "    # Testing\n",
    "    test_loss, test_acc = 0, 0\n",
    "    model_0.eval()\n",
    "    with torch.inference_mode():\n",
    "        for X, y in test_dataloader:\n",
    "            # Forward pass\n",
    "            test_pred = model_0(X)\n",
    "\n",
    "            # Calculate loss\n",
    "            test_loss += loss_fn(test_pred, y) # Accumulative\n",
    "\n",
    "            # Calculate accuracy (preds should be the same as y_true)\n",
    "            test_acc += accuracy_fn(test_pred.argmax(dim=1), y)\n",
    "\n",
    "        # Calculations on test metrics have to happen inside the context manager\n",
    "        # Divide the test loss and acc by len of test dataloader (per batch)\n",
    "        test_loss /= len(test_dataloader)\n",
    "        test_acc /= len(test_dataloader)\n",
    "\n",
    "    print(f\"\\nTrain Loss: {train_loss:.5f} | Test Loss: {test_loss:.5f}, Test Accuracy: {test_acc * 100:.2f}%\\n\")\n",
    "\n",
    "# Calculate the training time\n",
    "train_time_end_on_cpu = timer()\n",
    "total_train_time_model_0 = print_train_time(start = train_time_start_on_cpu, end = train_time_end_on_cpu, device = str(next(model_0.parameters()).device))"
   ]
  },
  {
   "cell_type": "markdown",
   "id": "4bc78237-896f-4755-9030-d66df3bb99a2",
   "metadata": {},
   "source": [
    "### 4. Make predicitons and get Model 0 results"
   ]
  },
  {
   "cell_type": "code",
   "execution_count": 19,
   "id": "42ab7e01-7238-45c4-bcf8-bb6693c60a18",
   "metadata": {},
   "outputs": [
    {
     "data": {
      "text/plain": [
       "{'model_name': 'FashionMNISTModelV0',\n",
       " 'model_loss': 0.477697491645813,\n",
       " 'model_acc': 82.90734887123108}"
      ]
     },
     "execution_count": 19,
     "metadata": {},
     "output_type": "execute_result"
    }
   ],
   "source": [
    "# Function to evaluate all the models built (in similar ways) on the predictions made using the dataloader\n",
    "torch.manual_seed(77)\n",
    "def eval_model(model: torch.nn.Module, data_loader: torch.utils.data.DataLoader,\n",
    "              loss_fn: torch.nn.Module, accuracy_fn, device: torch.device = None):\n",
    "    '''Returns a dict containing the results of the model predicitions made.'''\n",
    "    loss, acc = 0, 0\n",
    "    model.eval()\n",
    "    with torch.inference_mode():\n",
    "        for X, y in data_loader:\n",
    "            X, y = X.to(device), y.to(device)\n",
    "            # Forward pass\n",
    "            y_pred = model(X)\n",
    "            # Calculate loss and acc per batch accumulatively\n",
    "            loss += loss_fn(y_pred, y)\n",
    "            acc += accuracy_fn(y, y_pred.argmax(dim=1))\n",
    "\n",
    "        # Scale down to find the avg loss/acc per batch\n",
    "        loss /= len(data_loader)\n",
    "        acc /= len(data_loader)\n",
    "\n",
    "    return {\"model_name\" : model.__class__.__name__, # works only when model created using a class\n",
    "            \"model_loss\" : loss.item(),\n",
    "            \"model_acc\" : acc.item() * 100}\n",
    "\n",
    "# Calculate model 0 results on test set\n",
    "model_0_results = eval_model(model_0, test_dataloader, loss_fn, accuracy_fn)\n",
    "model_0_results"
   ]
  },
  {
   "cell_type": "markdown",
   "id": "7b5c02dc-bcf1-4b4c-918a-ae0c9e02fe63",
   "metadata": {},
   "source": [
    "### 5. Setup device agnostic-code"
   ]
  },
  {
   "cell_type": "code",
   "execution_count": 20,
   "id": "0a74a7a1-715d-441c-89ea-2f1469f8a5a1",
   "metadata": {},
   "outputs": [
    {
     "data": {
      "text/plain": [
       "'cuda'"
      ]
     },
     "execution_count": 20,
     "metadata": {},
     "output_type": "execute_result"
    }
   ],
   "source": [
    "device = \"cuda\" if torch.cuda.is_available() else \"cpu\"\n",
    "device"
   ]
  },
  {
   "cell_type": "markdown",
   "id": "cc42dc78-89df-41c3-9c50-ace4db4f562b",
   "metadata": {},
   "source": [
    "### 6. Model 1: Building a better model with non-linearity"
   ]
  },
  {
   "cell_type": "code",
   "execution_count": 21,
   "id": "68359483-ee84-4914-8319-2eebf0b615fe",
   "metadata": {},
   "outputs": [],
   "source": [
    "# Model built with non-linearity introduced\n",
    "class FashionMNISTModelV1(nn.Module):\n",
    "    def __init__(self, input_shape: int, hidden_units: int, output_shape: int):\n",
    "        super().__init__()\n",
    "        self.layer_stack = nn.Sequential(\n",
    "            nn.Flatten(),\n",
    "            nn.Linear(in_features=input_shape, out_features=hidden_units),\n",
    "            nn.ReLU(),\n",
    "            nn.Linear(in_features=hidden_units, out_features=output_shape),\n",
    "            nn.ReLU()\n",
    "        )\n",
    "\n",
    "    def forward(self, x: torch.Tensor):\n",
    "        return self.layer_stack(x)"
   ]
  },
  {
   "cell_type": "code",
   "execution_count": 22,
   "id": "5ec4d661-fa3d-4881-97eb-544d22e3ddf9",
   "metadata": {},
   "outputs": [
    {
     "name": "stdout",
     "output_type": "stream",
     "text": [
      "cuda:0\n"
     ]
    },
    {
     "data": {
      "text/plain": [
       "FashionMNISTModelV1(\n",
       "  (layer_stack): Sequential(\n",
       "    (0): Flatten(start_dim=1, end_dim=-1)\n",
       "    (1): Linear(in_features=784, out_features=10, bias=True)\n",
       "    (2): ReLU()\n",
       "    (3): Linear(in_features=10, out_features=10, bias=True)\n",
       "    (4): ReLU()\n",
       "  )\n",
       ")"
      ]
     },
     "execution_count": 22,
     "metadata": {},
     "output_type": "execute_result"
    }
   ],
   "source": [
    "# Model Instantiation\n",
    "torch.manual_seed(77)\n",
    "model_1 = FashionMNISTModelV1(input_shape=784, hidden_units=10, output_shape=len(class_names)).to(device)\n",
    "\n",
    "# Check model target device\n",
    "print(next(model_1.parameters()).device)\n",
    "model_1"
   ]
  },
  {
   "cell_type": "markdown",
   "id": "84b9eb2f-1edf-48b9-9e03-448a13a553a6",
   "metadata": {},
   "source": [
    "#### 6.1 Setup loss, optimizer and evaluation metrics"
   ]
  },
  {
   "cell_type": "code",
   "execution_count": 23,
   "id": "95786f49-1fd3-48ed-b8a2-91975ddd5729",
   "metadata": {},
   "outputs": [
    {
     "data": {
      "text/plain": [
       "Accuracy()"
      ]
     },
     "execution_count": 23,
     "metadata": {},
     "output_type": "execute_result"
    }
   ],
   "source": [
    "loss_fn = nn.CrossEntropyLoss()\n",
    "optimizer = torch.optim.SGD(params = model_1.parameters(), lr = 0.1)\n",
    "accuracy_fn = Accuracy(task = \"multiclass\", num_classes=10).to(device)\n",
    "accuracy_fn"
   ]
  },
  {
   "cell_type": "markdown",
   "id": "9d3828a0-b79c-40c4-aaa6-6b7314e46ac0",
   "metadata": {},
   "source": [
    "#### 6.2 Creating functions for training and testing loops"
   ]
  },
  {
   "cell_type": "code",
   "execution_count": 24,
   "id": "8af24839-42e3-4ee8-b41e-3f3bbf27620b",
   "metadata": {},
   "outputs": [],
   "source": [
    "def train_step(model: torch.nn.Module, data_loader: torch.utils.data.DataLoader,\n",
    "              loss_fn: torch.nn.Module, optimizer: torch.optim.Optimizer, accuracy_fn,\n",
    "              device: torch.device = device):\n",
    "    train_loss =0\n",
    "    train_acc = 0\n",
    "    model.to(device)\n",
    "    model.train()\n",
    "    for batch, (X, y) in enumerate(data_loader):\n",
    "        X, y = X.to(device), y.to(device)\n",
    "        y_pred = model(X)\n",
    "        loss = loss_fn(y_pred, y)\n",
    "        train_loss += loss\n",
    "        train_acc += accuracy_fn(y, y_pred.argmax(dim=1))\n",
    "        optimizer.zero_grad()\n",
    "        loss.backward()\n",
    "        optimizer.step()\n",
    "    # Calc loss and acc per batch on avg\n",
    "    train_loss /= len(data_loader)\n",
    "    train_acc /= len(data_loader)\n",
    "    print(f\"Train Loss: {train_loss:.5f} | Train Acc: {train_acc * 100:.2f}%\")\n",
    "\n",
    "def test_step(model: torch.nn.Module, data_loader: torch.utils.data.DataLoader,\n",
    "             loss_fn: torch.nn.Module, accuracy_fn, device: torch.device = device):\n",
    "    test_loss = 0\n",
    "    test_acc = 0\n",
    "    model.to(device)\n",
    "    model.eval()\n",
    "    with torch.inference_mode():\n",
    "        for X, y in data_loader:\n",
    "            X, y = X.to(device), y.to(device)\n",
    "            test_pred = model(X)\n",
    "            test_loss += loss_fn(test_pred, y)\n",
    "            test_acc += accuracy_fn(y, test_pred.argmax(dim=1))\n",
    "        # Loss and metrics per batch\n",
    "        test_loss /= len(data_loader)\n",
    "        test_acc /= len(data_loader)\n",
    "        print(f\"Test Loss: {test_loss:.5f} | Test Acc: {test_acc * 100:.2f}%\")"
   ]
  },
  {
   "cell_type": "code",
   "execution_count": 25,
   "id": "921426e4-a82d-4ad1-bb98-17ebec3f341a",
   "metadata": {},
   "outputs": [
    {
     "name": "stderr",
     "output_type": "stream",
     "text": [
      "  0%|                                                                                            | 0/3 [00:00<?, ?it/s]"
     ]
    },
    {
     "name": "stdout",
     "output_type": "stream",
     "text": [
      "Epoch: 0\n",
      "-------\n",
      "Train Loss: 1.34058 | Train Acc: 52.78%\n"
     ]
    },
    {
     "name": "stderr",
     "output_type": "stream",
     "text": [
      " 33%|████████████████████████████                                                        | 1/3 [00:17<00:35, 17.84s/it]"
     ]
    },
    {
     "name": "stdout",
     "output_type": "stream",
     "text": [
      "Test Loss: 1.21646 | Test Acc: 56.71%\n",
      "Epoch: 1\n",
      "-------\n",
      "Train Loss: 1.12865 | Train Acc: 59.10%\n"
     ]
    },
    {
     "name": "stderr",
     "output_type": "stream",
     "text": [
      " 67%|████████████████████████████████████████████████████████                            | 2/3 [00:38<00:19, 19.32s/it]"
     ]
    },
    {
     "name": "stdout",
     "output_type": "stream",
     "text": [
      "Test Loss: 1.12137 | Test Acc: 59.63%\n",
      "Epoch: 2\n",
      "-------\n",
      "Train Loss: 1.09339 | Train Acc: 59.97%\n"
     ]
    },
    {
     "name": "stderr",
     "output_type": "stream",
     "text": [
      "100%|████████████████████████████████████████████████████████████████████████████████████| 3/3 [00:57<00:00, 19.03s/it]"
     ]
    },
    {
     "name": "stdout",
     "output_type": "stream",
     "text": [
      "Test Loss: 1.12056 | Test Acc: 58.74%\n",
      "Train time on cuda: 57.094 seconds\n"
     ]
    },
    {
     "name": "stderr",
     "output_type": "stream",
     "text": [
      "\n"
     ]
    }
   ],
   "source": [
    "torch.manual_seed(77)\n",
    "\n",
    "# Setup the time\n",
    "train_time_start_on_gpu = timer()\n",
    "\n",
    "epoch = 3\n",
    "\n",
    "for epoch in tqdm(range(epochs)):\n",
    "    print(f\"Epoch: {epoch}\\n-------\")\n",
    "    train_step(model_1, train_dataloader, loss_fn, optimizer, accuracy_fn, device)\n",
    "    test_step(model_1, test_dataloader, loss_fn, accuracy_fn, device)\n",
    "\n",
    "train_time_end_on_gpu = timer()\n",
    "total_train_time_model_1 = print_train_time(train_time_start_on_gpu, train_time_end_on_gpu, device)"
   ]
  },
  {
   "cell_type": "code",
   "execution_count": 26,
   "id": "6a652e9d-4b9c-43ab-aac8-b18750fa22a9",
   "metadata": {},
   "outputs": [
    {
     "data": {
      "text/plain": [
       "{'model_name': 'FashionMNISTModelV1',\n",
       " 'model_loss': 1.120558738708496,\n",
       " 'model_acc': 58.73602032661438}"
      ]
     },
     "execution_count": 26,
     "metadata": {},
     "output_type": "execute_result"
    }
   ],
   "source": [
    "# Evaluation of the trained model 1\n",
    "torch.manual_seed(77)\n",
    "model_1_results = eval_model(model_1, test_dataloader, loss_fn, accuracy_fn, device)\n",
    "model_1_results"
   ]
  },
  {
   "cell_type": "code",
   "execution_count": 27,
   "id": "fad7ee7f-8729-4a2e-8f5f-cabc8b1466b7",
   "metadata": {},
   "outputs": [
    {
     "data": {
      "text/plain": [
       "{'model_name': 'FashionMNISTModelV0',\n",
       " 'model_loss': 0.477697491645813,\n",
       " 'model_acc': 82.90734887123108}"
      ]
     },
     "execution_count": 27,
     "metadata": {},
     "output_type": "execute_result"
    }
   ],
   "source": [
    "# Compared with model 0 baseline results\n",
    "model_0_results"
   ]
  },
  {
   "cell_type": "markdown",
   "id": "3dae1be2-44b8-4e70-88c4-58504165cdf7",
   "metadata": {},
   "source": [
    "The model 1 performed actually worst than model 0. It seems as if it is overfitting. **But how ?** Need to reduce it.\n",
    "\n",
    "**Seems more like underfitting.** No?"
   ]
  },
  {
   "cell_type": "markdown",
   "id": "4d69cfcd-0c4c-4852-bef3-6cf215595455",
   "metadata": {},
   "source": [
    "### 7. Model 2: Building a CNN"
   ]
  },
  {
   "cell_type": "raw",
   "id": "e3e16f41-6d3b-452e-a36f-2eb4a6be8314",
   "metadata": {},
   "source": [
    "CNN model that will be used is TinyVGG."
   ]
  },
  {
   "cell_type": "markdown",
   "id": "258ccc0c-d90a-4a5d-af66-06fd703674fb",
   "metadata": {},
   "source": [
    "Typical structure of a CNN:\n",
    "\n",
    "Input layer -> [Convolutional layer -> activation layer -> pooling layer] -> Output layer"
   ]
  },
  {
   "cell_type": "code",
   "execution_count": 28,
   "id": "ebeef4de-69f6-47f1-b66c-2f448898ae6a",
   "metadata": {},
   "outputs": [
    {
     "data": {
      "text/plain": [
       "FashionMNISTModelV2(\n",
       "  (block_1): Sequential(\n",
       "    (0): Conv2d(1, 10, kernel_size=(3, 3), stride=(1, 1), padding=(1, 1))\n",
       "    (1): ReLU()\n",
       "    (2): Conv2d(10, 10, kernel_size=(3, 3), stride=(1, 1), padding=(1, 1))\n",
       "    (3): ReLU()\n",
       "    (4): MaxPool2d(kernel_size=2, stride=2, padding=0, dilation=1, ceil_mode=False)\n",
       "  )\n",
       "  (block_2): Sequential(\n",
       "    (0): Conv2d(10, 10, kernel_size=(3, 3), stride=(1, 1), padding=(1, 1))\n",
       "    (1): ReLU()\n",
       "    (2): Conv2d(10, 10, kernel_size=(3, 3), stride=(1, 1), padding=(1, 1))\n",
       "    (3): ReLU()\n",
       "    (4): MaxPool2d(kernel_size=2, stride=2, padding=0, dilation=1, ceil_mode=False)\n",
       "  )\n",
       "  (classifier): Sequential(\n",
       "    (0): Flatten(start_dim=1, end_dim=-1)\n",
       "    (1): Linear(in_features=490, out_features=10, bias=True)\n",
       "  )\n",
       ")"
      ]
     },
     "execution_count": 28,
     "metadata": {},
     "output_type": "execute_result"
    }
   ],
   "source": [
    "# Create a CNN\n",
    "class FashionMNISTModelV2(nn.Module):\n",
    "    '''TinyVGG model architecture'''\n",
    "    def __init__(self, input_shape: int, hidden_units: int, output_shape: int):\n",
    "        super().__init__()\n",
    "        self.block_1 = nn.Sequential(\n",
    "            # default stride is 1\n",
    "            # in_channels is the number of input channels in the input image\n",
    "            # out_channels is the number of channels produced by the convolution\n",
    "            nn.Conv2d(in_channels=input_shape, out_channels=hidden_units, kernel_size = 3, stride = 1, padding = 1),\n",
    "            # padding is either same or valid. But can be int as well for a specific number\n",
    "            nn.ReLU(),\n",
    "            nn.Conv2d(in_channels=hidden_units, out_channels=hidden_units, kernel_size=3, stride=1, padding=1),\n",
    "            nn.ReLU(),\n",
    "            nn.MaxPool2d(kernel_size=2, stride=2) # default stride value is same as kernel_size\n",
    "        )\n",
    "        self.block_2 = nn.Sequential(\n",
    "            nn.Conv2d(hidden_units, hidden_units, 3, padding=1),\n",
    "            nn.ReLU(),\n",
    "            nn.Conv2d(hidden_units, hidden_units, 3, padding = 1),\n",
    "            nn.ReLU(),\n",
    "            nn.MaxPool2d(2)\n",
    "        )\n",
    "        self.classifier = nn.Sequential(\n",
    "            nn.Flatten(),\n",
    "            nn.Linear(in_features=hidden_units*7*7, out_features=output_shape)\n",
    "        )\n",
    "\n",
    "    def forward(self, x: torch.Tensor):\n",
    "        x = self.block_1(x)\n",
    "        x = self.block_2(x)\n",
    "        x = self.classifier(x)\n",
    "        return x\n",
    "\n",
    "torch.manual_seed(77)\n",
    "model_2 = FashionMNISTModelV2(input_shape=1, hidden_units=10, output_shape=len(class_names)).to(device)\n",
    "model_2"
   ]
  },
  {
   "cell_type": "markdown",
   "id": "7c9efcea-84b3-4161-97d4-d922333091d8",
   "metadata": {},
   "source": [
    "#### 7.1 Stepping through nn.Conv2d(), 7.2 Stepping through nn.MaxPool2d()"
   ]
  },
  {
   "cell_type": "markdown",
   "id": "30bbfd80-cbe2-4e5c-81a5-b23d11decac2",
   "metadata": {},
   "source": [
    "Mostly theoretical with a very little new code knowledge added. Just a read. Done!\n",
    "\n",
    "In essence, lowering the dimensionality of a tensor whilst still remaining a (hopefully) significant portion of the information is the idea of nn.MaxPool3d().\n",
    "Same is the story for a nn.Conv2d() layer in some sense, but not completely."
   ]
  },
  {
   "cell_type": "markdown",
   "id": "5dfc8018-9f51-41bf-912a-23fcb9a51775",
   "metadata": {},
   "source": [
    "#### 7.3 Setup a loss function and optimizer for model_2"
   ]
  },
  {
   "cell_type": "code",
   "execution_count": 29,
   "id": "b35ca477-bed4-4832-beaf-2a3cda5fb731",
   "metadata": {},
   "outputs": [],
   "source": [
    "loss_fn = nn.CrossEntropyLoss()\n",
    "optimizer = torch.optim.SGD(params=model_2.parameters(), lr = 0.1)"
   ]
  },
  {
   "cell_type": "markdown",
   "id": "7b94965a-6e57-425a-a696-598a02aa442d",
   "metadata": {},
   "source": [
    "#### 7.4 Training and testing model_2 using the train and test functions created"
   ]
  },
  {
   "cell_type": "code",
   "execution_count": 30,
   "id": "d47d62ec-eb7b-4f08-b7ea-668c78e509ee",
   "metadata": {},
   "outputs": [
    {
     "name": "stderr",
     "output_type": "stream",
     "text": [
      "  0%|                                                                                            | 0/3 [00:00<?, ?it/s]"
     ]
    },
    {
     "name": "stdout",
     "output_type": "stream",
     "text": [
      "Epoch 0\n",
      "-------\n",
      "Train Loss: 0.59280 | Train Acc: 78.60%\n"
     ]
    },
    {
     "name": "stderr",
     "output_type": "stream",
     "text": [
      " 33%|████████████████████████████                                                        | 1/3 [00:21<00:42, 21.30s/it]"
     ]
    },
    {
     "name": "stdout",
     "output_type": "stream",
     "text": [
      "Test Loss: 0.38778 | Test Acc: 85.48%\n",
      "Epoch 1\n",
      "-------\n",
      "Train Loss: 0.34229 | Train Acc: 87.76%\n"
     ]
    },
    {
     "name": "stderr",
     "output_type": "stream",
     "text": [
      " 67%|████████████████████████████████████████████████████████                            | 2/3 [00:42<00:21, 21.09s/it]"
     ]
    },
    {
     "name": "stdout",
     "output_type": "stream",
     "text": [
      "Test Loss: 0.31809 | Test Acc: 88.46%\n",
      "Epoch 2\n",
      "-------\n",
      "Train Loss: 0.30915 | Train Acc: 88.88%\n"
     ]
    },
    {
     "name": "stderr",
     "output_type": "stream",
     "text": [
      "100%|████████████████████████████████████████████████████████████████████████████████████| 3/3 [01:03<00:00, 21.14s/it]"
     ]
    },
    {
     "name": "stdout",
     "output_type": "stream",
     "text": [
      "Test Loss: 0.30972 | Test Acc: 88.94%\n",
      "Train time on cuda: 63.428 seconds\n"
     ]
    },
    {
     "name": "stderr",
     "output_type": "stream",
     "text": [
      "\n"
     ]
    }
   ],
   "source": [
    "torch.manual_seed(77)\n",
    "\n",
    "train_time_start_model_2 = timer()\n",
    "\n",
    "epochs = 3\n",
    "\n",
    "for epoch in tqdm(range(epochs)):\n",
    "    print(f\"Epoch {epoch}\\n-------\")\n",
    "    train_step(model_2, train_dataloader, loss_fn, optimizer, accuracy_fn, device)\n",
    "    test_step(model_2, test_dataloader, loss_fn, accuracy_fn, device)\n",
    "\n",
    "train_time_end_model_2 = timer()\n",
    "total_train_time_model_2 = print_train_time(train_time_start_model_2, train_time_end_model_2, device)"
   ]
  },
  {
   "cell_type": "code",
   "execution_count": 31,
   "id": "a914b608-1679-4796-93e7-619b6af0983c",
   "metadata": {},
   "outputs": [
    {
     "data": {
      "text/plain": [
       "{'model_name': 'FashionMNISTModelV2',\n",
       " 'model_loss': 0.3097226023674011,\n",
       " 'model_acc': 88.93769979476929}"
      ]
     },
     "execution_count": 31,
     "metadata": {},
     "output_type": "execute_result"
    }
   ],
   "source": [
    "# Getting the model 2 results using eval_model() fn\n",
    "model_2_results = eval_model(model_2, test_dataloader, loss_fn, accuracy_fn, device)\n",
    "model_2_results"
   ]
  },
  {
   "cell_type": "markdown",
   "id": "1c370f6c-dd59-4a93-90d6-5d651c4cae07",
   "metadata": {},
   "source": [
    "### 8. Compare model results and training time"
   ]
  },
  {
   "cell_type": "code",
   "execution_count": 32,
   "id": "8269dad5-17f6-4d21-9d29-2f8d1d08223d",
   "metadata": {},
   "outputs": [
    {
     "data": {
      "text/html": [
       "<div>\n",
       "<style scoped>\n",
       "    .dataframe tbody tr th:only-of-type {\n",
       "        vertical-align: middle;\n",
       "    }\n",
       "\n",
       "    .dataframe tbody tr th {\n",
       "        vertical-align: top;\n",
       "    }\n",
       "\n",
       "    .dataframe thead th {\n",
       "        text-align: right;\n",
       "    }\n",
       "</style>\n",
       "<table border=\"1\" class=\"dataframe\">\n",
       "  <thead>\n",
       "    <tr style=\"text-align: right;\">\n",
       "      <th></th>\n",
       "      <th>model_name</th>\n",
       "      <th>model_loss</th>\n",
       "      <th>model_acc</th>\n",
       "    </tr>\n",
       "  </thead>\n",
       "  <tbody>\n",
       "    <tr>\n",
       "      <th>0</th>\n",
       "      <td>FashionMNISTModelV0</td>\n",
       "      <td>0.477697</td>\n",
       "      <td>82.907349</td>\n",
       "    </tr>\n",
       "    <tr>\n",
       "      <th>1</th>\n",
       "      <td>FashionMNISTModelV1</td>\n",
       "      <td>1.120559</td>\n",
       "      <td>58.736020</td>\n",
       "    </tr>\n",
       "    <tr>\n",
       "      <th>2</th>\n",
       "      <td>FashionMNISTModelV2</td>\n",
       "      <td>0.309723</td>\n",
       "      <td>88.937700</td>\n",
       "    </tr>\n",
       "  </tbody>\n",
       "</table>\n",
       "</div>"
      ],
      "text/plain": [
       "            model_name  model_loss  model_acc\n",
       "0  FashionMNISTModelV0    0.477697  82.907349\n",
       "1  FashionMNISTModelV1    1.120559  58.736020\n",
       "2  FashionMNISTModelV2    0.309723  88.937700"
      ]
     },
     "execution_count": 32,
     "metadata": {},
     "output_type": "execute_result"
    }
   ],
   "source": [
    "# Combining the model results disctionaries into a DataFrame and make inference about it\n",
    "import pandas as pd\n",
    "compare_results = pd.DataFrame([model_0_results, model_1_results, model_2_results])\n",
    "compare_results"
   ]
  },
  {
   "cell_type": "code",
   "execution_count": 33,
   "id": "0a045404-319b-4ab5-91ae-4a23238150ea",
   "metadata": {},
   "outputs": [
    {
     "data": {
      "text/html": [
       "<div>\n",
       "<style scoped>\n",
       "    .dataframe tbody tr th:only-of-type {\n",
       "        vertical-align: middle;\n",
       "    }\n",
       "\n",
       "    .dataframe tbody tr th {\n",
       "        vertical-align: top;\n",
       "    }\n",
       "\n",
       "    .dataframe thead th {\n",
       "        text-align: right;\n",
       "    }\n",
       "</style>\n",
       "<table border=\"1\" class=\"dataframe\">\n",
       "  <thead>\n",
       "    <tr style=\"text-align: right;\">\n",
       "      <th></th>\n",
       "      <th>model_name</th>\n",
       "      <th>model_loss</th>\n",
       "      <th>model_acc</th>\n",
       "      <th>training timme</th>\n",
       "    </tr>\n",
       "  </thead>\n",
       "  <tbody>\n",
       "    <tr>\n",
       "      <th>0</th>\n",
       "      <td>FashionMNISTModelV0</td>\n",
       "      <td>0.477697</td>\n",
       "      <td>82.907349</td>\n",
       "      <td>30.701519</td>\n",
       "    </tr>\n",
       "    <tr>\n",
       "      <th>1</th>\n",
       "      <td>FashionMNISTModelV1</td>\n",
       "      <td>1.120559</td>\n",
       "      <td>58.736020</td>\n",
       "      <td>57.094213</td>\n",
       "    </tr>\n",
       "    <tr>\n",
       "      <th>2</th>\n",
       "      <td>FashionMNISTModelV2</td>\n",
       "      <td>0.309723</td>\n",
       "      <td>88.937700</td>\n",
       "      <td>63.427684</td>\n",
       "    </tr>\n",
       "  </tbody>\n",
       "</table>\n",
       "</div>"
      ],
      "text/plain": [
       "            model_name  model_loss  model_acc  training timme\n",
       "0  FashionMNISTModelV0    0.477697  82.907349       30.701519\n",
       "1  FashionMNISTModelV1    1.120559  58.736020       57.094213\n",
       "2  FashionMNISTModelV2    0.309723  88.937700       63.427684"
      ]
     },
     "execution_count": 33,
     "metadata": {},
     "output_type": "execute_result"
    }
   ],
   "source": [
    "# Adding the training times to the df as well\n",
    "compare_results[\"training timme\"] = [total_train_time_model_0, total_train_time_model_1, total_train_time_model_2]\n",
    "compare_results"
   ]
  },
  {
   "cell_type": "raw",
   "id": "ff1005e1-73d2-45a7-9e60-3cb1ef5cc535",
   "metadata": {},
   "source": [
    "One has to be aware of Performance-Speed Tradeoff in ML.\n",
    "\n",
    "The performance increase by larger and more complex models, generally, often comes at a sacrifice of training speed and inference speed.\n",
    "\n",
    "Also, the training times are very dependent on the hardware used.\n",
    "Generally, more CPU/GPU core, faster the training."
   ]
  },
  {
   "cell_type": "code",
   "execution_count": 34,
   "id": "1c6df205-477f-4b9a-b0af-94739fb56d5a",
   "metadata": {},
   "outputs": [
    {
     "data": {
      "text/plain": [
       "Text(0, 0.5, 'model')"
      ]
     },
     "execution_count": 34,
     "metadata": {},
     "output_type": "execute_result"
    },
    {
     "data": {
      "image/png": "[encoded data removed]",
      "text/plain": [
       "<Figure size 640x480 with 1 Axes>"
      ]
     },
     "metadata": {},
     "output_type": "display_data"
    }
   ],
   "source": [
    "# Visualize the model comparison results\n",
    "compare_results.set_index(\"model_name\")[\"model_acc\"].plot(kind = \"barh\")\n",
    "plt.xlabel(\"accuracy (%)\")\n",
    "plt.ylabel(\"model\")"
   ]
  },
  {
   "cell_type": "markdown",
   "id": "81cb8c92-88f5-4302-b917-3ed375fca2e9",
   "metadata": {},
   "source": [
    "### 9. Make and evaluate random predictions with the best model"
   ]
  },
  {
   "cell_type": "code",
   "execution_count": 35,
   "id": "764deeca-b282-4080-aa2c-6185728f2e6a",
   "metadata": {},
   "outputs": [],
   "source": [
    "def make_predictions(model: torch.nn.Module, data: list, device: torch.device = device):\n",
    "    pred_probs = []\n",
    "    model.eval()\n",
    "    with torch.inference_mode():\n",
    "        for sample in data:\n",
    "            # Prepare sample\n",
    "            sample = torch.unsqueeze(sample, dim=0).to(device)\n",
    "            #F Forward pass\n",
    "            pred_logit = model(sample)\n",
    "            # Convert to pred prob\n",
    "            pred_prob = torch.softmax(pred_logit.squeeze(), dim=0) # perform softmax along the logits dim, not the batch dim\n",
    "            pred_probs.append(pred_prob.cpu())\n",
    "    # Turn list into a tensor\n",
    "    return torch.stack(pred_probs)"
   ]
  },
  {
   "cell_type": "code",
   "execution_count": 36,
   "id": "a2527ef2-83f3-4d3b-a9db-611c0a9281a4",
   "metadata": {},
   "outputs": [
    {
     "data": {
      "text/plain": [
       "(torch.Size([1, 28, 28]), 6, 'Shirt')"
      ]
     },
     "execution_count": 36,
     "metadata": {},
     "output_type": "execute_result"
    }
   ],
   "source": [
    "import random\n",
    "random.seed(77)\n",
    "test_samples = []\n",
    "test_labels = []\n",
    "for sample, label in random.sample(list(test_data), k = 9):\n",
    "    test_samples.append(sample)\n",
    "    test_labels.append(label)\n",
    "\n",
    "test_samples[0].shape, test_labels[0], class_names[test_labels[0]]"
   ]
  },
  {
   "cell_type": "code",
   "execution_count": 37,
   "id": "2f5244db-34dd-41b5-bcd5-edad65e9c96a",
   "metadata": {},
   "outputs": [
    {
     "data": {
      "text/plain": [
       "tensor([[2.4576e-01, 5.3499e-06, 1.6668e-02, 1.9035e-03, 5.4242e-05, 9.3488e-06,\n",
       "         7.3512e-01, 9.4249e-06, 4.6654e-04, 3.8315e-07],\n",
       "        [3.9557e-05, 4.5101e-08, 2.1469e-06, 1.2123e-05, 7.1790e-05, 2.5178e-05,\n",
       "         4.5308e-05, 2.0852e-05, 9.9976e-01, 1.8578e-05]])"
      ]
     },
     "execution_count": 37,
     "metadata": {},
     "output_type": "execute_result"
    }
   ],
   "source": [
    "# Predictions with model 2\n",
    "pred_probs = make_predictions(model_2, test_samples)\n",
    "\n",
    "pred_probs[:2]"
   ]
  },
  {
   "cell_type": "code",
   "execution_count": 38,
   "id": "cde7bbdc-286f-43cc-821c-b7228c2e5b50",
   "metadata": {},
   "outputs": [
    {
     "data": {
      "text/plain": [
       "tensor([6, 8, 0, 4, 2, 1, 2, 5, 6])"
      ]
     },
     "execution_count": 38,
     "metadata": {},
     "output_type": "execute_result"
    }
   ],
   "source": [
    "pred_classes = pred_probs.argmax(dim=1)\n",
    "pred_classes"
   ]
  },
  {
   "cell_type": "code",
   "execution_count": 39,
   "id": "81b021ca-554e-4fda-a9cd-eb9f8b44de05",
   "metadata": {},
   "outputs": [
    {
     "data": {
      "text/plain": [
       "([6, 8, 6, 3, 2, 1, 4, 5, 6], tensor([6, 8, 0, 4, 2, 1, 2, 5, 6]))"
      ]
     },
     "execution_count": 39,
     "metadata": {},
     "output_type": "execute_result"
    }
   ],
   "source": [
    "test_labels, pred_classes"
   ]
  },
  {
   "cell_type": "code",
   "execution_count": 40,
   "id": "25bba671-1f52-47bd-b22a-0914b3bfdec5",
   "metadata": {},
   "outputs": [
    {
     "data": {
      "image/png": "[encoded data removed]",
      "text/plain": [
       "<Figure size 900x900 with 9 Axes>"
      ]
     },
     "metadata": {},
     "output_type": "display_data"
    }
   ],
   "source": [
    "# Plot predicitons\n",
    "plt.figure(figsize=(9, 9))\n",
    "nrows = 3\n",
    "ncols = 3\n",
    "for i, sample in enumerate(test_samples):\n",
    "    plt.subplot(nrows, ncols, i+1)\n",
    "    plt.imshow(sample.squeeze(), cmap = \"gray\")\n",
    "    pred_label = class_names[pred_classes[i]]\n",
    "    truth_label = class_names[test_labels[i]]\n",
    "    title_text = f\"Pred: {pred_label} | Truth: {truth_label}\"\n",
    "    if pred_label == truth_label:\n",
    "        plt.title(title_text, fontsize=10, c=\"g\")\n",
    "    else:\n",
    "        plt.title(title_text, fontsize=10, c=\"r\")\n",
    "    plt.axis(False)"
   ]
  },
  {
   "cell_type": "markdown",
   "id": "9eab9f13-f726-4a0f-bfe2-9009c1510195",
   "metadata": {},
   "source": [
    "### 10. Making a confusion matrix for further prediciton evaluation"
   ]
  },
  {
   "cell_type": "markdown",
   "id": "fe2e04d2-fbe4-4028-a31f-3942a863f68c",
   "metadata": {},
   "source": [
    "One of the most visual evaluation metric for classification problems is **confusion matrix**."
   ]
  },
  {
   "cell_type": "raw",
   "id": "f81d1f50-d2e9-4919-9569-d2c281cb08f1",
   "metadata": {},
   "source": [
    "A confusion matrix shows one where the model got confused between predictions and true labels."
   ]
  },
  {
   "cell_type": "code",
   "execution_count": 41,
   "id": "0f784fa8-b707-45cc-bd8a-7998b86bc70e",
   "metadata": {},
   "outputs": [
    {
     "name": "stderr",
     "output_type": "stream",
     "text": [
      "Making predictions: 100%|███████████████████████████████████████████████████████████| 313/313 [00:02<00:00, 132.94it/s]\n"
     ]
    }
   ],
   "source": [
    "# 1. Make preds using the trained model\n",
    "y_preds = []\n",
    "model_2.eval()\n",
    "with torch.inference_mode():\n",
    "    for X, y in tqdm(test_dataloader, desc=\"Making predictions\"):\n",
    "        X, y = X.to(device), y.to(device)\n",
    "        # Forward pass\n",
    "        y_logit = model_2(X)\n",
    "        # logits to pred labels\n",
    "        y_pred = torch.softmax(y_logit, dim=1).argmax(dim=1)\n",
    "        # Put preds on cpu for further work\n",
    "        y_preds.append(y_pred.cpu())\n",
    "# Convert from list to tensor by concatenation\n",
    "y_pred_tensor = torch.cat(y_preds)"
   ]
  },
  {
   "cell_type": "code",
   "execution_count": 42,
   "id": "50b0de0b-417b-4882-9bc7-e35610b05b67",
   "metadata": {},
   "outputs": [
    {
     "name": "stdout",
     "output_type": "stream",
     "text": [
      "0.23.4\n"
     ]
    }
   ],
   "source": [
    "try:\n",
    "    import torchmetrics, mlxtend\n",
    "    print(mlxtend.__version__)\n",
    "    assert int(mlxtend.__version__.split(\".\")[1]) >= 19, \"mlxtend version should be 0.19.0 or higher\"\n",
    "except:\n",
    "    !pip install -q torchmetrics -U mlxtend\n",
    "    import torchmetrics, mlxtend\n",
    "    print(mlxtend.__version__)"
   ]
  },
  {
   "cell_type": "code",
   "execution_count": 43,
   "id": "0ff429b5-b650-4f6b-88f8-1be6d00f4657",
   "metadata": {},
   "outputs": [
    {
     "data": {
      "image/png": "[encoded data removed]",
      "text/plain": [
       "<Figure size 1000x700 with 1 Axes>"
      ]
     },
     "metadata": {},
     "output_type": "display_data"
    }
   ],
   "source": [
    "from torchmetrics import ConfusionMatrix\n",
    "from mlxtend.plotting import plot_confusion_matrix\n",
    "\n",
    "# 2. Making the confusion matrix\n",
    "conf_mat = ConfusionMatrix(num_classes=len(class_names), task=\"multiclass\")\n",
    "conf_mat_tensor = conf_mat(preds = y_pred_tensor, target = test_data.targets)\n",
    "\n",
    "# 3. Plot the confusion matrix\n",
    "fig, ax = plot_confusion_matrix(conf_mat = conf_mat_tensor.numpy(), # internally uses matplotlibb and thus, using numpy\n",
    "                               class_names=class_names, # row and col labels of the matric\n",
    "                               figsize=(10,7))"
   ]
  },
  {
   "cell_type": "raw",
   "id": "3494396d-d93c-4720-a5de-0dd29adbd052",
   "metadata": {},
   "source": [
    "The confusion matrix helps in understanding why the model may be getting certain things wrong and is often more helpful than a single real-valued metric like Accuracy.\n",
    "This knida info can be used to further inspect the models and data to see the room for improvisation."
   ]
  },
  {
   "cell_type": "markdown",
   "id": "bd588ffd-6bf9-42a8-af6b-c7b3873efbb7",
   "metadata": {},
   "source": [
    "### 11. Save and load the best performing model"
   ]
  },
  {
   "cell_type": "code",
   "execution_count": 44,
   "id": "4fff1e50-25f4-4621-89d8-50f2c1ea824f",
   "metadata": {},
   "outputs": [
    {
     "name": "stdout",
     "output_type": "stream",
     "text": [
      "Saved model to models\\03_pytorch_computer_vision_model_2.pth\n"
     ]
    }
   ],
   "source": [
    "from pathlib import Path\n",
    "\n",
    "MODEL_PATH = Path(\"models\")\n",
    "MODEL_PATH.mkdir(parents = True, exist_ok = True)\n",
    "\n",
    "MODEL_NAME = \"03_pytorch_computer_vision_model_2.pth\"\n",
    "MODEL_SAVE_PATH = MODEL_PATH / MODEL_NAME\n",
    "\n",
    "print(f\"Saved model to {MODEL_SAVE_PATH}\")\n",
    "torch.save(obj=model_2.state_dict(), f = MODEL_SAVE_PATH)"
   ]
  },
  {
   "cell_type": "code",
   "execution_count": 45,
   "id": "19ede404-68ff-4b0e-b3aa-ee48cf007764",
   "metadata": {},
   "outputs": [],
   "source": [
    "loaded_model_2 = FashionMNISTModelV2(input_shape=1, hidden_units=10, output_shape=10)\n",
    "\n",
    "loaded_model_2.load_state_dict(torch.load(f=MODEL_SAVE_PATH, weights_only=True))\n",
    "\n",
    "loaded_model_2 = loaded_model_2.to(device)"
   ]
  },
  {
   "cell_type": "code",
   "execution_count": 46,
   "id": "d3917853-18d5-4b44-bbc6-c18c516ad087",
   "metadata": {},
   "outputs": [
    {
     "data": {
      "text/plain": [
       "{'model_name': 'FashionMNISTModelV2',\n",
       " 'model_loss': 0.3097226023674011,\n",
       " 'model_acc': 88.93769979476929}"
      ]
     },
     "execution_count": 46,
     "metadata": {},
     "output_type": "execute_result"
    }
   ],
   "source": [
    "# Evaluate the loaded model\n",
    "torch.manual_seed(77)\n",
    "loaded_model_2_results = eval_model(loaded_model_2, test_dataloader, loss_fn, accuracy_fn, device)\n",
    "loaded_model_2_results"
   ]
  },
  {
   "cell_type": "code",
   "execution_count": 47,
   "id": "74de3383-1cf7-4f4e-bee7-52e0a2b62eba",
   "metadata": {},
   "outputs": [
    {
     "data": {
      "text/plain": [
       "{'model_name': 'FashionMNISTModelV2',\n",
       " 'model_loss': 0.3097226023674011,\n",
       " 'model_acc': 88.93769979476929}"
      ]
     },
     "execution_count": 47,
     "metadata": {},
     "output_type": "execute_result"
    }
   ],
   "source": [
    "model_2_results"
   ]
  },
  {
   "cell_type": "code",
   "execution_count": 48,
   "id": "ac6738a1-a4f8-4ff0-84d0-661370abd207",
   "metadata": {},
   "outputs": [
    {
     "data": {
      "text/plain": [
       "tensor(True)"
      ]
     },
     "execution_count": 48,
     "metadata": {},
     "output_type": "execute_result"
    }
   ],
   "source": [
    "# Checking if the results of both the models are close to each other (being too far away may result in an error)\n",
    "torch.isclose(torch.tensor(model_2_results[\"model_loss\"]), torch.tensor(loaded_model_2_results[\"model_loss\"]),\n",
    "             atol = 1e-08, rtol = 0.0001) # Absolute tolerance, relative tolerance"
   ]
  },
  {
   "cell_type": "markdown",
   "id": "0dc81e2d-95db-4376-b004-def0e6f597f9",
   "metadata": {},
   "source": [
    "## Exercises"
   ]
  },
  {
   "cell_type": "code",
   "execution_count": 49,
   "id": "ea499e93-cf01-4cd3-b58c-13a255689c2d",
   "metadata": {},
   "outputs": [
    {
     "data": {
      "text/plain": [
       "'cuda'"
      ]
     },
     "execution_count": 49,
     "metadata": {},
     "output_type": "execute_result"
    }
   ],
   "source": [
    "import torch\n",
    "import torchvision\n",
    "from torchvision import datasets\n",
    "from torchvision.transforms import ToTensor\n",
    "import matplotlib.pyplot as plt\n",
    "from torch.utils.data import DataLoader\n",
    "\n",
    "device = \"cuda\" if torch.cuda.is_available() else \"cpu\"\n",
    "device"
   ]
  },
  {
   "cell_type": "code",
   "execution_count": 50,
   "id": "69d1e57a-38d8-4b57-bbbb-adfbb5107b83",
   "metadata": {},
   "outputs": [],
   "source": [
    "train_data_ex = datasets.MNIST(root = \"data\", train = True, download = True, transform = ToTensor())\n",
    "test_data_ex = datasets.MNIST(root = \"data\", train = False, download = True, transform = ToTensor())"
   ]
  },
  {
   "cell_type": "code",
   "execution_count": 51,
   "id": "a160800d-6e39-4044-abf7-3943803ac716",
   "metadata": {},
   "outputs": [
    {
     "data": {
      "text/plain": [
       "(Dataset MNIST\n",
       "     Number of datapoints: 60000\n",
       "     Root location: data\n",
       "     Split: Train\n",
       "     StandardTransform\n",
       " Transform: ToTensor(),\n",
       " Dataset MNIST\n",
       "     Number of datapoints: 10000\n",
       "     Root location: data\n",
       "     Split: Test\n",
       "     StandardTransform\n",
       " Transform: ToTensor())"
      ]
     },
     "execution_count": 51,
     "metadata": {},
     "output_type": "execute_result"
    }
   ],
   "source": [
    "train_data_ex, test_data_ex"
   ]
  },
  {
   "cell_type": "code",
   "execution_count": 52,
   "id": "166a4158-811a-4312-a9a2-57ed58562cea",
   "metadata": {},
   "outputs": [
    {
     "data": {
      "text/plain": [
       "(tensor([[[0.0000, 0.0000, 0.0000, 0.0000, 0.0000, 0.0000, 0.0000, 0.0000,\n",
       "           0.0000, 0.0000, 0.0000, 0.0000, 0.0000, 0.0000, 0.0000, 0.0000,\n",
       "           0.0000, 0.0000, 0.0000, 0.0000, 0.0000, 0.0000, 0.0000, 0.0000,\n",
       "           0.0000, 0.0000, 0.0000, 0.0000],\n",
       "          [0.0000, 0.0000, 0.0000, 0.0000, 0.0000, 0.0000, 0.0000, 0.0000,\n",
       "           0.0000, 0.0000, 0.0000, 0.0000, 0.0000, 0.0000, 0.0000, 0.0000,\n",
       "           0.0000, 0.0000, 0.0000, 0.0000, 0.0000, 0.0000, 0.0000, 0.0000,\n",
       "           0.0000, 0.0000, 0.0000, 0.0000],\n",
       "          [0.0000, 0.0000, 0.0000, 0.0000, 0.0000, 0.0000, 0.0000, 0.0000,\n",
       "           0.0000, 0.0000, 0.0000, 0.0000, 0.0000, 0.0000, 0.0000, 0.0000,\n",
       "           0.0000, 0.0000, 0.0000, 0.0000, 0.0000, 0.0000, 0.0000, 0.0000,\n",
       "           0.0000, 0.0000, 0.0000, 0.0000],\n",
       "          [0.0000, 0.0000, 0.0000, 0.0000, 0.0000, 0.0000, 0.0000, 0.0000,\n",
       "           0.0000, 0.0000, 0.0000, 0.0000, 0.0000, 0.0000, 0.0000, 0.0000,\n",
       "           0.0000, 0.0000, 0.0000, 0.0000, 0.0000, 0.0000, 0.0000, 0.0000,\n",
       "           0.0000, 0.0000, 0.0000, 0.0000],\n",
       "          [0.0000, 0.0000, 0.0000, 0.0000, 0.0000, 0.0000, 0.0000, 0.0000,\n",
       "           0.0000, 0.0000, 0.0000, 0.0000, 0.0000, 0.0000, 0.0000, 0.0000,\n",
       "           0.0000, 0.0000, 0.0000, 0.0000, 0.0000, 0.0000, 0.0000, 0.0000,\n",
       "           0.0000, 0.0000, 0.0000, 0.0000],\n",
       "          [0.0000, 0.0000, 0.0000, 0.0000, 0.0000, 0.0000, 0.0000, 0.0000,\n",
       "           0.0000, 0.0000, 0.0000, 0.0000, 0.0118, 0.0706, 0.0706, 0.0706,\n",
       "           0.4941, 0.5333, 0.6863, 0.1020, 0.6510, 1.0000, 0.9686, 0.4980,\n",
       "           0.0000, 0.0000, 0.0000, 0.0000],\n",
       "          [0.0000, 0.0000, 0.0000, 0.0000, 0.0000, 0.0000, 0.0000, 0.0000,\n",
       "           0.1176, 0.1412, 0.3686, 0.6039, 0.6667, 0.9922, 0.9922, 0.9922,\n",
       "           0.9922, 0.9922, 0.8824, 0.6745, 0.9922, 0.9490, 0.7647, 0.2510,\n",
       "           0.0000, 0.0000, 0.0000, 0.0000],\n",
       "          [0.0000, 0.0000, 0.0000, 0.0000, 0.0000, 0.0000, 0.0000, 0.1922,\n",
       "           0.9333, 0.9922, 0.9922, 0.9922, 0.9922, 0.9922, 0.9922, 0.9922,\n",
       "           0.9922, 0.9843, 0.3647, 0.3216, 0.3216, 0.2196, 0.1529, 0.0000,\n",
       "           0.0000, 0.0000, 0.0000, 0.0000],\n",
       "          [0.0000, 0.0000, 0.0000, 0.0000, 0.0000, 0.0000, 0.0000, 0.0706,\n",
       "           0.8588, 0.9922, 0.9922, 0.9922, 0.9922, 0.9922, 0.7765, 0.7137,\n",
       "           0.9686, 0.9451, 0.0000, 0.0000, 0.0000, 0.0000, 0.0000, 0.0000,\n",
       "           0.0000, 0.0000, 0.0000, 0.0000],\n",
       "          [0.0000, 0.0000, 0.0000, 0.0000, 0.0000, 0.0000, 0.0000, 0.0000,\n",
       "           0.3137, 0.6118, 0.4196, 0.9922, 0.9922, 0.8039, 0.0431, 0.0000,\n",
       "           0.1686, 0.6039, 0.0000, 0.0000, 0.0000, 0.0000, 0.0000, 0.0000,\n",
       "           0.0000, 0.0000, 0.0000, 0.0000],\n",
       "          [0.0000, 0.0000, 0.0000, 0.0000, 0.0000, 0.0000, 0.0000, 0.0000,\n",
       "           0.0000, 0.0549, 0.0039, 0.6039, 0.9922, 0.3529, 0.0000, 0.0000,\n",
       "           0.0000, 0.0000, 0.0000, 0.0000, 0.0000, 0.0000, 0.0000, 0.0000,\n",
       "           0.0000, 0.0000, 0.0000, 0.0000],\n",
       "          [0.0000, 0.0000, 0.0000, 0.0000, 0.0000, 0.0000, 0.0000, 0.0000,\n",
       "           0.0000, 0.0000, 0.0000, 0.5451, 0.9922, 0.7451, 0.0078, 0.0000,\n",
       "           0.0000, 0.0000, 0.0000, 0.0000, 0.0000, 0.0000, 0.0000, 0.0000,\n",
       "           0.0000, 0.0000, 0.0000, 0.0000],\n",
       "          [0.0000, 0.0000, 0.0000, 0.0000, 0.0000, 0.0000, 0.0000, 0.0000,\n",
       "           0.0000, 0.0000, 0.0000, 0.0431, 0.7451, 0.9922, 0.2745, 0.0000,\n",
       "           0.0000, 0.0000, 0.0000, 0.0000, 0.0000, 0.0000, 0.0000, 0.0000,\n",
       "           0.0000, 0.0000, 0.0000, 0.0000],\n",
       "          [0.0000, 0.0000, 0.0000, 0.0000, 0.0000, 0.0000, 0.0000, 0.0000,\n",
       "           0.0000, 0.0000, 0.0000, 0.0000, 0.1373, 0.9451, 0.8824, 0.6275,\n",
       "           0.4235, 0.0039, 0.0000, 0.0000, 0.0000, 0.0000, 0.0000, 0.0000,\n",
       "           0.0000, 0.0000, 0.0000, 0.0000],\n",
       "          [0.0000, 0.0000, 0.0000, 0.0000, 0.0000, 0.0000, 0.0000, 0.0000,\n",
       "           0.0000, 0.0000, 0.0000, 0.0000, 0.0000, 0.3176, 0.9412, 0.9922,\n",
       "           0.9922, 0.4667, 0.0980, 0.0000, 0.0000, 0.0000, 0.0000, 0.0000,\n",
       "           0.0000, 0.0000, 0.0000, 0.0000],\n",
       "          [0.0000, 0.0000, 0.0000, 0.0000, 0.0000, 0.0000, 0.0000, 0.0000,\n",
       "           0.0000, 0.0000, 0.0000, 0.0000, 0.0000, 0.0000, 0.1765, 0.7294,\n",
       "           0.9922, 0.9922, 0.5882, 0.1059, 0.0000, 0.0000, 0.0000, 0.0000,\n",
       "           0.0000, 0.0000, 0.0000, 0.0000],\n",
       "          [0.0000, 0.0000, 0.0000, 0.0000, 0.0000, 0.0000, 0.0000, 0.0000,\n",
       "           0.0000, 0.0000, 0.0000, 0.0000, 0.0000, 0.0000, 0.0000, 0.0627,\n",
       "           0.3647, 0.9882, 0.9922, 0.7333, 0.0000, 0.0000, 0.0000, 0.0000,\n",
       "           0.0000, 0.0000, 0.0000, 0.0000],\n",
       "          [0.0000, 0.0000, 0.0000, 0.0000, 0.0000, 0.0000, 0.0000, 0.0000,\n",
       "           0.0000, 0.0000, 0.0000, 0.0000, 0.0000, 0.0000, 0.0000, 0.0000,\n",
       "           0.0000, 0.9765, 0.9922, 0.9765, 0.2510, 0.0000, 0.0000, 0.0000,\n",
       "           0.0000, 0.0000, 0.0000, 0.0000],\n",
       "          [0.0000, 0.0000, 0.0000, 0.0000, 0.0000, 0.0000, 0.0000, 0.0000,\n",
       "           0.0000, 0.0000, 0.0000, 0.0000, 0.0000, 0.0000, 0.1804, 0.5098,\n",
       "           0.7176, 0.9922, 0.9922, 0.8118, 0.0078, 0.0000, 0.0000, 0.0000,\n",
       "           0.0000, 0.0000, 0.0000, 0.0000],\n",
       "          [0.0000, 0.0000, 0.0000, 0.0000, 0.0000, 0.0000, 0.0000, 0.0000,\n",
       "           0.0000, 0.0000, 0.0000, 0.0000, 0.1529, 0.5804, 0.8980, 0.9922,\n",
       "           0.9922, 0.9922, 0.9804, 0.7137, 0.0000, 0.0000, 0.0000, 0.0000,\n",
       "           0.0000, 0.0000, 0.0000, 0.0000],\n",
       "          [0.0000, 0.0000, 0.0000, 0.0000, 0.0000, 0.0000, 0.0000, 0.0000,\n",
       "           0.0000, 0.0000, 0.0941, 0.4471, 0.8667, 0.9922, 0.9922, 0.9922,\n",
       "           0.9922, 0.7882, 0.3059, 0.0000, 0.0000, 0.0000, 0.0000, 0.0000,\n",
       "           0.0000, 0.0000, 0.0000, 0.0000],\n",
       "          [0.0000, 0.0000, 0.0000, 0.0000, 0.0000, 0.0000, 0.0000, 0.0000,\n",
       "           0.0902, 0.2588, 0.8353, 0.9922, 0.9922, 0.9922, 0.9922, 0.7765,\n",
       "           0.3176, 0.0078, 0.0000, 0.0000, 0.0000, 0.0000, 0.0000, 0.0000,\n",
       "           0.0000, 0.0000, 0.0000, 0.0000],\n",
       "          [0.0000, 0.0000, 0.0000, 0.0000, 0.0000, 0.0000, 0.0706, 0.6706,\n",
       "           0.8588, 0.9922, 0.9922, 0.9922, 0.9922, 0.7647, 0.3137, 0.0353,\n",
       "           0.0000, 0.0000, 0.0000, 0.0000, 0.0000, 0.0000, 0.0000, 0.0000,\n",
       "           0.0000, 0.0000, 0.0000, 0.0000],\n",
       "          [0.0000, 0.0000, 0.0000, 0.0000, 0.2157, 0.6745, 0.8863, 0.9922,\n",
       "           0.9922, 0.9922, 0.9922, 0.9569, 0.5216, 0.0431, 0.0000, 0.0000,\n",
       "           0.0000, 0.0000, 0.0000, 0.0000, 0.0000, 0.0000, 0.0000, 0.0000,\n",
       "           0.0000, 0.0000, 0.0000, 0.0000],\n",
       "          [0.0000, 0.0000, 0.0000, 0.0000, 0.5333, 0.9922, 0.9922, 0.9922,\n",
       "           0.8314, 0.5294, 0.5176, 0.0627, 0.0000, 0.0000, 0.0000, 0.0000,\n",
       "           0.0000, 0.0000, 0.0000, 0.0000, 0.0000, 0.0000, 0.0000, 0.0000,\n",
       "           0.0000, 0.0000, 0.0000, 0.0000],\n",
       "          [0.0000, 0.0000, 0.0000, 0.0000, 0.0000, 0.0000, 0.0000, 0.0000,\n",
       "           0.0000, 0.0000, 0.0000, 0.0000, 0.0000, 0.0000, 0.0000, 0.0000,\n",
       "           0.0000, 0.0000, 0.0000, 0.0000, 0.0000, 0.0000, 0.0000, 0.0000,\n",
       "           0.0000, 0.0000, 0.0000, 0.0000],\n",
       "          [0.0000, 0.0000, 0.0000, 0.0000, 0.0000, 0.0000, 0.0000, 0.0000,\n",
       "           0.0000, 0.0000, 0.0000, 0.0000, 0.0000, 0.0000, 0.0000, 0.0000,\n",
       "           0.0000, 0.0000, 0.0000, 0.0000, 0.0000, 0.0000, 0.0000, 0.0000,\n",
       "           0.0000, 0.0000, 0.0000, 0.0000],\n",
       "          [0.0000, 0.0000, 0.0000, 0.0000, 0.0000, 0.0000, 0.0000, 0.0000,\n",
       "           0.0000, 0.0000, 0.0000, 0.0000, 0.0000, 0.0000, 0.0000, 0.0000,\n",
       "           0.0000, 0.0000, 0.0000, 0.0000, 0.0000, 0.0000, 0.0000, 0.0000,\n",
       "           0.0000, 0.0000, 0.0000, 0.0000]]]),\n",
       " 5)"
      ]
     },
     "execution_count": 52,
     "metadata": {},
     "output_type": "execute_result"
    }
   ],
   "source": [
    "train_data_ex[0]"
   ]
  },
  {
   "cell_type": "code",
   "execution_count": 53,
   "id": "8bca8b3f-f9c4-4c8e-b5ab-078a7eafde03",
   "metadata": {},
   "outputs": [
    {
     "data": {
      "text/plain": [
       "torch.Size([1, 28, 28])"
      ]
     },
     "execution_count": 53,
     "metadata": {},
     "output_type": "execute_result"
    }
   ],
   "source": [
    "train_data_ex[0][0].shape"
   ]
  },
  {
   "cell_type": "code",
   "execution_count": 54,
   "id": "defb09e3-ca66-461f-babe-f605199f04d0",
   "metadata": {},
   "outputs": [
    {
     "data": {
      "text/plain": [
       "['0 - zero',\n",
       " '1 - one',\n",
       " '2 - two',\n",
       " '3 - three',\n",
       " '4 - four',\n",
       " '5 - five',\n",
       " '6 - six',\n",
       " '7 - seven',\n",
       " '8 - eight',\n",
       " '9 - nine']"
      ]
     },
     "execution_count": 54,
     "metadata": {},
     "output_type": "execute_result"
    }
   ],
   "source": [
    "classes = train_data_ex.classes\n",
    "classes"
   ]
  },
  {
   "cell_type": "code",
   "execution_count": 55,
   "id": "fd487bef-6055-41de-a217-1797bab57687",
   "metadata": {},
   "outputs": [
    {
     "data": {
      "image/png": "[encoded data removed]",
      "text/plain": [
       "<Figure size 600x600 with 5 Axes>"
      ]
     },
     "metadata": {},
     "output_type": "display_data"
    }
   ],
   "source": [
    "plt.figure(figsize=(6, 6))\n",
    "for i in range(5):\n",
    "    plt.subplot(2, 3, i+1)\n",
    "    image = train_data_ex[i][0]\n",
    "    label = train_data_ex[i][1]\n",
    "    plt.imshow(image.squeeze(), cmap=\"gray\")\n",
    "    plt.title(label)\n",
    "    plt.axis(False)\n",
    "    plt.tight_layout()"
   ]
  },
  {
   "cell_type": "code",
   "execution_count": 56,
   "id": "2dde63c0-211d-46f1-a826-0077752700c5",
   "metadata": {},
   "outputs": [
    {
     "name": "stdout",
     "output_type": "stream",
     "text": [
      "Total batches in train_datalooader: 1875\n",
      "Total batches in test_dataloader: 313\n"
     ]
    }
   ],
   "source": [
    "train_dataloader_ex = DataLoader(train_data_ex, batch_size=32, shuffle = True)\n",
    "test_dataloader_ex = DataLoader(test_data_ex, batch_size=32)\n",
    "\n",
    "print(f\"Total batches in train_datalooader: {len(train_dataloader_ex)}\")\n",
    "print(f\"Total batches in test_dataloader: {len(test_dataloader_ex)}\")"
   ]
  },
  {
   "cell_type": "code",
   "execution_count": 57,
   "id": "0bc1d73f-9846-428d-bbc4-82bc0f96f221",
   "metadata": {},
   "outputs": [
    {
     "data": {
      "text/plain": [
       "(torch.Size([32, 1, 28, 28]), torch.Size([32]))"
      ]
     },
     "execution_count": 57,
     "metadata": {},
     "output_type": "execute_result"
    }
   ],
   "source": [
    "batch1, labels1 = next(iter(train_dataloader_ex))\n",
    "batch1.shape, labels1.shape"
   ]
  },
  {
   "cell_type": "code",
   "execution_count": 58,
   "id": "c87d2603-383f-431f-b30b-4b19e28add6e",
   "metadata": {},
   "outputs": [
    {
     "data": {
      "text/plain": [
       "MNISTModelV0(\n",
       "  (block_1): Sequential(\n",
       "    (0): Conv2d(1, 10, kernel_size=(3, 3), stride=(1, 1), padding=(1, 1))\n",
       "    (1): ReLU()\n",
       "    (2): Conv2d(10, 10, kernel_size=(3, 3), stride=(1, 1), padding=(1, 1))\n",
       "    (3): ReLU()\n",
       "    (4): MaxPool2d(kernel_size=2, stride=2, padding=0, dilation=1, ceil_mode=False)\n",
       "  )\n",
       "  (block_2): Sequential(\n",
       "    (0): Conv2d(10, 10, kernel_size=(3, 3), stride=(1, 1), padding=(1, 1))\n",
       "    (1): ReLU()\n",
       "    (2): Conv2d(10, 10, kernel_size=(2, 2), stride=(1, 1), padding=(1, 1))\n",
       "    (3): ReLU()\n",
       "    (4): MaxPool2d(kernel_size=2, stride=2, padding=0, dilation=1, ceil_mode=False)\n",
       "  )\n",
       "  (classifier): Sequential(\n",
       "    (0): Flatten(start_dim=1, end_dim=-1)\n",
       "    (1): Linear(in_features=490, out_features=10, bias=True)\n",
       "  )\n",
       ")"
      ]
     },
     "execution_count": 58,
     "metadata": {},
     "output_type": "execute_result"
    }
   ],
   "source": [
    "class MNISTModelV0(nn.Module):\n",
    "    def __init__(self, input_shape: int, hidden_units: int, output_shape: int):\n",
    "        super().__init__()\n",
    "        self.block_1 = nn.Sequential(\n",
    "            nn.Conv2d(in_channels=input_shape, out_channels=hidden_units, kernel_size=3, stride = 1, padding = 1),\n",
    "            nn.ReLU(),\n",
    "            nn.Conv2d(in_channels=hidden_units, out_channels=hidden_units, kernel_size=3, stride = 1, padding = 1),\n",
    "            nn.ReLU(),\n",
    "            nn.MaxPool2d(kernel_size=2, stride = 2)\n",
    "        )\n",
    "        self.block_2 = nn.Sequential(\n",
    "            nn.Conv2d(hidden_units, hidden_units, 3, 1, padding=1),\n",
    "            nn.ReLU(),\n",
    "            nn.Conv2d(hidden_units, hidden_units, 2, 1, padding=1),\n",
    "            nn.ReLU(),\n",
    "            nn.MaxPool2d(2)\n",
    "        )\n",
    "        self.classifier = nn.Sequential(\n",
    "            nn.Flatten(),\n",
    "            nn.Linear(in_features=hidden_units*7*7, out_features=output_shape)\n",
    "        )\n",
    "\n",
    "    def forward(self, x: torch.Tensor):\n",
    "        z = self.block_1(x)\n",
    "        z = self.block_2(z)\n",
    "        z = self.classifier(z)\n",
    "        return z\n",
    "\n",
    "model_2_ex = MNISTModelV0(input_shape=1, hidden_units=10, output_shape=len(classes)).to(\"cpu\")\n",
    "model_2_ex"
   ]
  },
  {
   "cell_type": "code",
   "execution_count": 59,
   "id": "bf4af5fe-d90e-47b2-acd4-b8151ed0d871",
   "metadata": {},
   "outputs": [
    {
     "name": "stdout",
     "output_type": "stream",
     "text": [
      "1/5 Epoch\n",
      "----------\n"
     ]
    },
    {
     "name": "stderr",
     "output_type": "stream",
     "text": [
      "Training the model: 100%|██████████████████████████████████████████████████████████| 1875/1875 [00:29<00:00, 64.11it/s]\n"
     ]
    },
    {
     "name": "stdout",
     "output_type": "stream",
     "text": [
      "Train Loss: 0.274, Train Accuracy: 0.91\n"
     ]
    },
    {
     "name": "stderr",
     "output_type": "stream",
     "text": [
      "Evaluating the model: 100%|█████████████████████████████████████████████████████████| 313/313 [00:02<00:00, 137.08it/s]\n"
     ]
    },
    {
     "name": "stdout",
     "output_type": "stream",
     "text": [
      "Test_loss: 0.064, Test Accuracy: 0.98\n",
      "\n",
      "2/5 Epoch\n",
      "----------\n"
     ]
    },
    {
     "name": "stderr",
     "output_type": "stream",
     "text": [
      "Training the model: 100%|██████████████████████████████████████████████████████████| 1875/1875 [00:25<00:00, 72.50it/s]\n"
     ]
    },
    {
     "name": "stdout",
     "output_type": "stream",
     "text": [
      "Train Loss: 0.069, Train Accuracy: 0.98\n"
     ]
    },
    {
     "name": "stderr",
     "output_type": "stream",
     "text": [
      "Evaluating the model: 100%|█████████████████████████████████████████████████████████| 313/313 [00:02<00:00, 138.12it/s]\n"
     ]
    },
    {
     "name": "stdout",
     "output_type": "stream",
     "text": [
      "Test_loss: 0.054, Test Accuracy: 0.98\n",
      "\n",
      "3/5 Epoch\n",
      "----------\n"
     ]
    },
    {
     "name": "stderr",
     "output_type": "stream",
     "text": [
      "Training the model: 100%|██████████████████████████████████████████████████████████| 1875/1875 [00:25<00:00, 73.20it/s]\n"
     ]
    },
    {
     "name": "stdout",
     "output_type": "stream",
     "text": [
      "Train Loss: 0.053, Train Accuracy: 0.98\n"
     ]
    },
    {
     "name": "stderr",
     "output_type": "stream",
     "text": [
      "Evaluating the model: 100%|█████████████████████████████████████████████████████████| 313/313 [00:02<00:00, 135.52it/s]\n"
     ]
    },
    {
     "name": "stdout",
     "output_type": "stream",
     "text": [
      "Test_loss: 0.048, Test Accuracy: 0.98\n",
      "\n",
      "4/5 Epoch\n",
      "----------\n"
     ]
    },
    {
     "name": "stderr",
     "output_type": "stream",
     "text": [
      "Training the model: 100%|██████████████████████████████████████████████████████████| 1875/1875 [00:25<00:00, 73.52it/s]\n"
     ]
    },
    {
     "name": "stdout",
     "output_type": "stream",
     "text": [
      "Train Loss: 0.045, Train Accuracy: 0.99\n"
     ]
    },
    {
     "name": "stderr",
     "output_type": "stream",
     "text": [
      "Evaluating the model: 100%|█████████████████████████████████████████████████████████| 313/313 [00:02<00:00, 138.56it/s]\n"
     ]
    },
    {
     "name": "stdout",
     "output_type": "stream",
     "text": [
      "Test_loss: 0.050, Test Accuracy: 0.98\n",
      "\n",
      "5/5 Epoch\n",
      "----------\n"
     ]
    },
    {
     "name": "stderr",
     "output_type": "stream",
     "text": [
      "Training the model: 100%|██████████████████████████████████████████████████████████| 1875/1875 [00:25<00:00, 73.44it/s]\n"
     ]
    },
    {
     "name": "stdout",
     "output_type": "stream",
     "text": [
      "Train Loss: 0.040, Train Accuracy: 0.99\n"
     ]
    },
    {
     "name": "stderr",
     "output_type": "stream",
     "text": [
      "Evaluating the model: 100%|█████████████████████████████████████████████████████████| 313/313 [00:02<00:00, 137.75it/s]"
     ]
    },
    {
     "name": "stdout",
     "output_type": "stream",
     "text": [
      "Test_loss: 0.045, Test Accuracy: 0.98\n",
      "\n",
      "Train time on cpu: 143.283 seconds\n"
     ]
    },
    {
     "name": "stderr",
     "output_type": "stream",
     "text": [
      "\n"
     ]
    }
   ],
   "source": [
    "torch.manual_seed(77)\n",
    "\n",
    "epochs = 5\n",
    "\n",
    "loss_fn = nn.CrossEntropyLoss()\n",
    "optimizer = torch.optim.SGD(model_2_ex.parameters(), lr=0.1)\n",
    "accuracy_fn = Accuracy(task=\"multiclass\", num_classes=10).to(\"cpu\")\n",
    "\n",
    "train_time_start_model_2_ex_cpu = timer()\n",
    "\n",
    "for epoch in range(epochs):\n",
    "    print(f\"{epoch+1}/{epochs} Epoch\\n----------\")\n",
    "    train_loss, train_acc = 0, 0\n",
    "    for X, y in tqdm(train_dataloader_ex, desc = \"Training the model\"):\n",
    "        # Training\n",
    "        model_2_ex.train()\n",
    "        X, y = X.to(\"cpu\"), y.to(\"cpu\")\n",
    "        y_logits = model_2_ex(X)\n",
    "        y_pred = torch.softmax(y_logits, dim=1).argmax(dim=1)\n",
    "        loss = loss_fn(y_logits, y)\n",
    "        train_loss += loss\n",
    "        train_acc += accuracy_fn(y, y_pred)\n",
    "        optimizer.zero_grad()\n",
    "        loss.backward()\n",
    "        optimizer.step()\n",
    "    train_loss /= len(train_dataloader_ex)\n",
    "    train_acc /= len(train_dataloader_ex)\n",
    "    print(f\"Train Loss: {train_loss:.3f}, Train Accuracy: {train_acc:.2f}\")\n",
    "\n",
    "    # Testing\n",
    "    test_loss, test_acc = 0, 0\n",
    "    model_2_ex.eval()\n",
    "    with torch.inference_mode():\n",
    "        for X, y in tqdm(test_dataloader_ex, desc=\"Evaluating the model\"):\n",
    "            X, y = X.to(\"cpu\"), y.to(\"cpu\")\n",
    "            test_logits = model_2_ex(X)\n",
    "            test_pred = torch.softmax(test_logits, dim=1).argmax(dim=1)\n",
    "            test_loss += loss_fn(test_logits, y)\n",
    "            test_acc += accuracy_fn(y, test_pred)\n",
    "        test_loss /= len(test_dataloader_ex)\n",
    "        test_acc /= len(test_dataloader_ex)\n",
    "        print(f\"Test_loss: {test_loss:.3f}, Test Accuracy: {test_acc:.2f}\\n\")\n",
    "\n",
    "train_time_end_model_2_ex_cpu = timer()\n",
    "total_time_model_2_ex_on_cpu = print_train_time(train_time_start_model_2_ex_cpu, train_time_end_model_2_ex_cpu, \"cpu\")"
   ]
  },
  {
   "cell_type": "code",
   "execution_count": 60,
   "id": "3e60fab1-a4b1-4b1d-849a-d3d54ef756a8",
   "metadata": {},
   "outputs": [
    {
     "data": {
      "text/plain": [
       "MNISTModelV0(\n",
       "  (block_1): Sequential(\n",
       "    (0): Conv2d(1, 10, kernel_size=(3, 3), stride=(1, 1), padding=(1, 1))\n",
       "    (1): ReLU()\n",
       "    (2): Conv2d(10, 10, kernel_size=(3, 3), stride=(1, 1), padding=(1, 1))\n",
       "    (3): ReLU()\n",
       "    (4): MaxPool2d(kernel_size=2, stride=2, padding=0, dilation=1, ceil_mode=False)\n",
       "  )\n",
       "  (block_2): Sequential(\n",
       "    (0): Conv2d(10, 10, kernel_size=(3, 3), stride=(1, 1), padding=(1, 1))\n",
       "    (1): ReLU()\n",
       "    (2): Conv2d(10, 10, kernel_size=(2, 2), stride=(1, 1), padding=(1, 1))\n",
       "    (3): ReLU()\n",
       "    (4): MaxPool2d(kernel_size=2, stride=2, padding=0, dilation=1, ceil_mode=False)\n",
       "  )\n",
       "  (classifier): Sequential(\n",
       "    (0): Flatten(start_dim=1, end_dim=-1)\n",
       "    (1): Linear(in_features=490, out_features=10, bias=True)\n",
       "  )\n",
       ")"
      ]
     },
     "execution_count": 60,
     "metadata": {},
     "output_type": "execute_result"
    }
   ],
   "source": [
    "model_2_ex = MNISTModelV0(input_shape=1, hidden_units=10, output_shape=len(classes)).to(device)\n",
    "model_2_ex"
   ]
  },
  {
   "cell_type": "code",
   "execution_count": 61,
   "id": "593619a4-741e-4092-9894-4f0088bcde0b",
   "metadata": {},
   "outputs": [
    {
     "name": "stdout",
     "output_type": "stream",
     "text": [
      "1/5 Epoch\n",
      "----------\n"
     ]
    },
    {
     "name": "stderr",
     "output_type": "stream",
     "text": [
      "Training the model: 100%|█████████████████████████████████████████████████████████| 1875/1875 [00:17<00:00, 106.16it/s]\n"
     ]
    },
    {
     "name": "stdout",
     "output_type": "stream",
     "text": [
      "Train Loss: 0.245, Train Accuracy: 0.92\n"
     ]
    },
    {
     "name": "stderr",
     "output_type": "stream",
     "text": [
      "Evaluating the model: 100%|█████████████████████████████████████████████████████████| 313/313 [00:02<00:00, 136.69it/s]\n"
     ]
    },
    {
     "name": "stdout",
     "output_type": "stream",
     "text": [
      "Test_loss: 0.070, Test Accuracy: 0.98\n",
      "\n",
      "2/5 Epoch\n",
      "----------\n"
     ]
    },
    {
     "name": "stderr",
     "output_type": "stream",
     "text": [
      "Training the model: 100%|█████████████████████████████████████████████████████████| 1875/1875 [00:18<00:00, 102.66it/s]\n"
     ]
    },
    {
     "name": "stdout",
     "output_type": "stream",
     "text": [
      "Train Loss: 0.077, Train Accuracy: 0.98\n"
     ]
    },
    {
     "name": "stderr",
     "output_type": "stream",
     "text": [
      "Evaluating the model: 100%|█████████████████████████████████████████████████████████| 313/313 [00:02<00:00, 137.86it/s]\n"
     ]
    },
    {
     "name": "stdout",
     "output_type": "stream",
     "text": [
      "Test_loss: 0.077, Test Accuracy: 0.98\n",
      "\n",
      "3/5 Epoch\n",
      "----------\n"
     ]
    },
    {
     "name": "stderr",
     "output_type": "stream",
     "text": [
      "Training the model: 100%|█████████████████████████████████████████████████████████| 1875/1875 [00:17<00:00, 105.91it/s]\n"
     ]
    },
    {
     "name": "stdout",
     "output_type": "stream",
     "text": [
      "Train Loss: 0.061, Train Accuracy: 0.98\n"
     ]
    },
    {
     "name": "stderr",
     "output_type": "stream",
     "text": [
      "Evaluating the model: 100%|█████████████████████████████████████████████████████████| 313/313 [00:02<00:00, 142.50it/s]\n"
     ]
    },
    {
     "name": "stdout",
     "output_type": "stream",
     "text": [
      "Test_loss: 0.044, Test Accuracy: 0.99\n",
      "\n",
      "4/5 Epoch\n",
      "----------\n"
     ]
    },
    {
     "name": "stderr",
     "output_type": "stream",
     "text": [
      "Training the model: 100%|█████████████████████████████████████████████████████████| 1875/1875 [00:17<00:00, 107.47it/s]\n"
     ]
    },
    {
     "name": "stdout",
     "output_type": "stream",
     "text": [
      "Train Loss: 0.051, Train Accuracy: 0.98\n"
     ]
    },
    {
     "name": "stderr",
     "output_type": "stream",
     "text": [
      "Evaluating the model: 100%|█████████████████████████████████████████████████████████| 313/313 [00:02<00:00, 138.38it/s]\n"
     ]
    },
    {
     "name": "stdout",
     "output_type": "stream",
     "text": [
      "Test_loss: 0.048, Test Accuracy: 0.98\n",
      "\n",
      "5/5 Epoch\n",
      "----------\n"
     ]
    },
    {
     "name": "stderr",
     "output_type": "stream",
     "text": [
      "Training the model: 100%|█████████████████████████████████████████████████████████| 1875/1875 [00:17<00:00, 107.03it/s]\n"
     ]
    },
    {
     "name": "stdout",
     "output_type": "stream",
     "text": [
      "Train Loss: 0.046, Train Accuracy: 0.99\n"
     ]
    },
    {
     "name": "stderr",
     "output_type": "stream",
     "text": [
      "Evaluating the model: 100%|█████████████████████████████████████████████████████████| 313/313 [00:02<00:00, 139.76it/s]"
     ]
    },
    {
     "name": "stdout",
     "output_type": "stream",
     "text": [
      "Test_loss: 0.050, Test Accuracy: 0.98\n",
      "\n",
      "Train time on cuda: 100.000 seconds\n"
     ]
    },
    {
     "name": "stderr",
     "output_type": "stream",
     "text": [
      "\n"
     ]
    }
   ],
   "source": [
    "torch.manual_seed(77)\n",
    "\n",
    "epochs = 5\n",
    "\n",
    "loss_fn = nn.CrossEntropyLoss()\n",
    "optimizer = torch.optim.SGD(model_2_ex.parameters(), lr=0.1)\n",
    "accuracy_fn = Accuracy(task=\"multiclass\", num_classes=10).to(device)\n",
    "\n",
    "train_time_start_model_2_ex_gpu = timer()\n",
    "\n",
    "for epoch in range(epochs):\n",
    "    print(f\"{epoch+1}/{epochs} Epoch\\n----------\")\n",
    "    train_loss, train_acc = 0, 0\n",
    "    for X, y in tqdm(train_dataloader_ex, desc = \"Training the model\"):\n",
    "        # Training\n",
    "        model_2_ex.train()\n",
    "        X, y = X.to(device), y.to(device)\n",
    "        y_logits = model_2_ex(X)\n",
    "        y_pred = torch.softmax(y_logits, dim=1).argmax(dim=1)\n",
    "        loss = loss_fn(y_logits, y)\n",
    "        train_loss += loss\n",
    "        train_acc += accuracy_fn(y, y_pred)\n",
    "        optimizer.zero_grad()\n",
    "        loss.backward()\n",
    "        optimizer.step()\n",
    "    train_loss /= len(train_dataloader_ex)\n",
    "    train_acc /= len(train_dataloader_ex)\n",
    "    print(f\"Train Loss: {train_loss:.3f}, Train Accuracy: {train_acc:.2f}\")\n",
    "\n",
    "    # Testing\n",
    "    test_loss, test_acc = 0, 0\n",
    "    model_2_ex.eval()\n",
    "    with torch.inference_mode():\n",
    "        for X, y in tqdm(test_dataloader_ex, desc=\"Evaluating the model\"):\n",
    "            X, y = X.to(device), y.to(device)\n",
    "            test_logits = model_2_ex(X)\n",
    "            test_pred = torch.softmax(test_logits, dim=1).argmax(dim=1)\n",
    "            test_loss += loss_fn(test_logits, y)\n",
    "            test_acc += accuracy_fn(y, test_pred)\n",
    "        test_loss /= len(test_dataloader_ex)\n",
    "        test_acc /= len(test_dataloader_ex)\n",
    "        print(f\"Test_loss: {test_loss:.3f}, Test Accuracy: {test_acc:.2f}\\n\")\n",
    "\n",
    "train_time_end_model_2_ex_gpu = timer()\n",
    "total_time_model_2_ex_on_gpu = print_train_time(train_time_start_model_2_ex_gpu, train_time_end_model_2_ex_gpu, device)"
   ]
  },
  {
   "cell_type": "code",
   "execution_count": 62,
   "id": "53470588-7f2e-4f1f-af48-f45c1e555197",
   "metadata": {},
   "outputs": [
    {
     "data": {
      "image/png": "[encoded data removed]",
      "text/plain": [
       "<Figure size 900x900 with 9 Axes>"
      ]
     },
     "metadata": {},
     "output_type": "display_data"
    }
   ],
   "source": [
    "plt.figure(figsize=(9,9))\n",
    "for i, example in enumerate(random.sample(list(test_data_ex), k = 9)):\n",
    "    plt.subplot(3, 3, i+1)\n",
    "    image = example[0].unsqueeze(dim=0).to(device)\n",
    "    label = example[1]\n",
    "    pred_label = torch.softmax(model_2_ex(image), dim=1).argmax(dim=1).item()\n",
    "    plt.imshow(image.squeeze().cpu(), cmap=\"gray\")\n",
    "    title = f\"true: {label} | prediciton: {pred_label}\"\n",
    "    if label == pred_label:\n",
    "        plt.title(title, c = \"g\")\n",
    "    else:\n",
    "        plt.title(title, c = \"r\")"
   ]
  },
  {
   "cell_type": "code",
   "execution_count": 63,
   "id": "be060321-6b65-4c49-89c1-27dbea9f2d01",
   "metadata": {},
   "outputs": [
    {
     "name": "stdout",
     "output_type": "stream",
     "text": [
      "tensor([7, 2, 1,  ..., 4, 5, 6], device='cuda:0') cuda:0\n"
     ]
    },
    {
     "data": {
      "text/plain": [
       "(<Figure size 1000x700 with 1 Axes>,\n",
       " <Axes: xlabel='predicted label', ylabel='true label'>)"
      ]
     },
     "execution_count": 63,
     "metadata": {},
     "output_type": "execute_result"
    },
    {
     "data": {
      "image/png": "[encoded data removed]",
      "text/plain": [
       "<Figure size 1000x700 with 1 Axes>"
      ]
     },
     "metadata": {},
     "output_type": "display_data"
    }
   ],
   "source": [
    "from torchmetrics import ConfusionMatrix\n",
    "from mlxtend.plotting import plot_confusion_matrix\n",
    "\n",
    "test_preds = []\n",
    "for X, y in test_dataloader_ex:\n",
    "    model_2_ex.eval()\n",
    "    with torch.inference_mode():\n",
    "        test_preds.append(torch.softmax(model_2_ex(X.to(device)).to(device), dim=1).argmax(dim=1))\n",
    "test_preds_tensor = torch.cat(test_preds)\n",
    "print(test_preds_tensor, test_preds_tensor.device)\n",
    "\n",
    "confuion_matrix = ConfusionMatrix(task=\"multiclass\", num_classes=10)\n",
    "confmat = confuion_matrix(test_preds_tensor.cpu(), test_data_ex.targets)\n",
    "plot_confusion_matrix(confmat.numpy(), class_names=classes, figsize=(10, 7))"
   ]
  },
  {
   "cell_type": "code",
   "execution_count": 64,
   "id": "1aee312f-3075-497b-b9b9-a7c12ef4da62",
   "metadata": {},
   "outputs": [
    {
     "name": "stdout",
     "output_type": "stream",
     "text": [
      "torch.Size([1, 5, 66, 66])\n"
     ]
    }
   ],
   "source": [
    "random_tensor = torch.randn(size=(1, 3, 64, 64))\n",
    "conv_layer = nn.Conv2d(in_channels=3, out_channels=5, kernel_size=1, stride = 1, padding=1) # 0 padding is the same as valid and 1 is same as \"same\"\n",
    "output = conv_layer(random_tensor)\n",
    "print(output.shape)"
   ]
  },
  {
   "cell_type": "code",
   "execution_count": null,
   "id": "15f12db8-fdcf-46c1-a688-8a57d1dd452a",
   "metadata": {},
   "outputs": [],
   "source": []
  }
 ],
 "metadata": {
  "kernelspec": {
   "display_name": "Python (pytorch-env)",
   "language": "python",
   "name": "pytorch-env"
  },
  "language_info": {
   "codemirror_mode": {
    "name": "ipython",
    "version": 3
   },
   "file_extension": ".py",
   "mimetype": "text/x-python",
   "name": "python",
   "nbconvert_exporter": "python",
   "pygments_lexer": "ipython3",
   "version": "3.11.13"
  }
 },
 "nbformat": 4,
 "nbformat_minor": 5
}
