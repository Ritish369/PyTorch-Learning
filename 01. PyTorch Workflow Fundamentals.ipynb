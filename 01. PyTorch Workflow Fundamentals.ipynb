{
 "cells": [
  {
   "cell_type": "markdown",
   "id": "d81de1b3-0045-4d78-86c3-721b2cea28b2",
   "metadata": {},
   "source": [
    "**Essence of ML & DL is:** Take data fron the past -> build an algo(like NN) to discover patterns in it -> Use the diacovered patterns to predict the future."
   ]
  },
  {
   "cell_type": "raw",
   "id": "7823d025-2a97-4c61-8bbf-b6feeed85e65",
   "metadata": {},
   "source": [
    "Workflow steps can be repeated and changed depending on the problem being worked on."
   ]
  },
  {
   "cell_type": "code",
   "execution_count": 1,
   "id": "3e0f7c05-3bf5-4c7b-ac83-fa62ebf50fae",
   "metadata": {},
   "outputs": [],
   "source": [
    "# Required imports\n",
    "import torch\n",
    "from torch import nn # nn, for Neural Networks, module contains all of PyTorch's building blocks for NNs\n",
    "import matplotlib.pyplot as plt"
   ]
  },
  {
   "cell_type": "markdown",
   "id": "c02634a4-ea12-47de-bd67-3fb12aaadec3",
   "metadata": {},
   "source": [
    "### 1. Data (preparing and loading)"
   ]
  },
  {
   "cell_type": "markdown",
   "id": "ee00f18d-f6d4-47bf-9378-e401bf4477d4",
   "metadata": {},
   "source": [
    "Data can be anything."
   ]
  },
  {
   "cell_type": "markdown",
   "id": "d7c1b536-1fd5-4057-9af8-491d0b73b70f",
   "metadata": {},
   "source": [
    "ML has two parts: 1) Turn data into numbers i.e., a representation.\n",
    "                   2) Pick/build a model to learn that representation as best as possible."
   ]
  },
  {
   "cell_type": "markdown",
   "id": "4ca63273-dba2-4171-bf9a-a0648a54b6f2",
   "metadata": {},
   "source": [
    "Parameters are what are learned by these models."
   ]
  },
  {
   "cell_type": "code",
   "execution_count": 2,
   "id": "7ddb3560-d7ca-4c2a-bb3a-8341410cda20",
   "metadata": {},
   "outputs": [
    {
     "data": {
      "text/plain": [
       "(tensor([[0.0000],\n",
       "         [0.0200],\n",
       "         [0.0400],\n",
       "         [0.0600],\n",
       "         [0.0800],\n",
       "         [0.1000],\n",
       "         [0.1200],\n",
       "         [0.1400],\n",
       "         [0.1600],\n",
       "         [0.1800]]),\n",
       " tensor([[0.3000],\n",
       "         [0.3140],\n",
       "         [0.3280],\n",
       "         [0.3420],\n",
       "         [0.3560],\n",
       "         [0.3700],\n",
       "         [0.3840],\n",
       "         [0.3980],\n",
       "         [0.4120],\n",
       "         [0.4260]]))"
      ]
     },
     "execution_count": 2,
     "metadata": {},
     "output_type": "execute_result"
    }
   ],
   "source": [
    "# Known params\n",
    "weight = 0.7\n",
    "bias = 0.3\n",
    "\n",
    "# Data\n",
    "start = 0\n",
    "end = 1\n",
    "step = 0.02\n",
    "# Turning row vectors into col vectors using unsqueeze()\n",
    "X = torch.arange(start, end, step).unsqueeze(dim=1) # features (input)\n",
    "y = weight * X + bias # labels (input)\n",
    "\n",
    "X[:10], y[:10]"
   ]
  },
  {
   "cell_type": "markdown",
   "id": "bd416e85-5fa3-4bfa-93b7-0e80c32239f4",
   "metadata": {},
   "source": [
    "#### Data Splitting"
   ]
  },
  {
   "cell_type": "markdown",
   "id": "ab933652-33ec-4377-ba55-b87cc81f1282",
   "metadata": {},
   "source": [
    "Typically, done right at the start of the project when dealing with real-world data. Test of Generalization of models is done by test set."
   ]
  },
  {
   "cell_type": "code",
   "execution_count": 3,
   "id": "3a1131d0-e549-4bdd-abd6-4552e20637f5",
   "metadata": {},
   "outputs": [
    {
     "data": {
      "text/plain": [
       "(40, 40, 10, 10)"
      ]
     },
     "execution_count": 3,
     "metadata": {},
     "output_type": "execute_result"
    }
   ],
   "source": [
    "# Train/Test Split\n",
    "train_split = int(0.8 * len(X)) # 80% data used for training set; 20% for test set\n",
    "X_train, y_train = X[:train_split], y[:train_split]\n",
    "X_test, y_test = X[train_split:], y[train_split:]\n",
    "len(X_train), len(y_train), len(X_test), len(y_test)"
   ]
  },
  {
   "cell_type": "markdown",
   "id": "abd0358c-11bd-4bc0-b494-9378db57012f",
   "metadata": {},
   "source": [
    "#### Data Visualization"
   ]
  },
  {
   "cell_type": "code",
   "execution_count": 4,
   "id": "7cccac39-702f-4470-b438-e99018e52c52",
   "metadata": {},
   "outputs": [],
   "source": [
    "def plot_predictions(train_data = X_train, train_labels = y_train, test_data = X_test, test_labels = y_test, predictions = None):\n",
    "    # Plots training, testing data and compares predicitons.\n",
    "    plt.figure(figsize=(10, 7))\n",
    "    # train in blue\n",
    "    plt.scatter(train_data, train_labels, c=\"b\", s = 4, label = \"Train\")\n",
    "    # test in green\n",
    "    plt.scatter(test_data, test_labels, c=\"g\", s=4, label = \"Test\")\n",
    "\n",
    "    if predictions is not None:\n",
    "        # predictions in red\n",
    "        plt.scatter(test_data, predictions, c=\"r\", s=4, label = \"Predictions\")\n",
    "\n",
    "    # Show legend\n",
    "    plt.legend(prop={\"size\" : 4})"
   ]
  },
  {
   "cell_type": "code",
   "execution_count": 5,
   "id": "906be40d-2eed-41c9-a595-f71b0525cdf3",
   "metadata": {},
   "outputs": [
    {
     "data": {
      "image/png": "[encoded data removed]",
      "text/plain": [
       "<Figure size 1000x700 with 1 Axes>"
      ]
     },
     "metadata": {},
     "output_type": "display_data"
    }
   ],
   "source": [
    "plot_predictions()"
   ]
  },
  {
   "cell_type": "markdown",
   "id": "43d5cd10-2016-42e9-895e-b70ee6cb9fac",
   "metadata": {},
   "source": [
    "Visualize, Visualize, Visualize!! To understand the data better."
   ]
  },
  {
   "cell_type": "markdown",
   "id": "7ecafe4c-4311-4f94-83ec-8f3c22075f5b",
   "metadata": {},
   "source": [
    "### 2. Build Model"
   ]
  },
  {
   "cell_type": "markdown",
   "id": "8a1af328-3d23-406b-81fb-3b1d933fc0aa",
   "metadata": {},
   "source": [
    "Linear Regression, ex."
   ]
  },
  {
   "cell_type": "code",
   "execution_count": 6,
   "id": "f86c4f7f-6cea-4b46-89cd-f3cd8d230343",
   "metadata": {},
   "outputs": [],
   "source": [
    "# Creating a Linear Regression model class\n",
    "\n",
    "# Almost everything in PyTorch is a nn.Module (as a NN lego block); torch.nn.Module is the base class for all NN modules.\n",
    "                                                                  # All the building blocks for NNs are subclasses.\n",
    "                                # While building a NN in PyTorch, the models should subclass nn.Module.\n",
    "                                # Requires a forward() method to be implemented (kinda mandatory).\n",
    "class LinearRegressionModel(nn.Module): # torch.nn contains all of the building blocks for computational graphs.\n",
    "    def __init__(self):\n",
    "        super().__init__()\n",
    "        # torch.nn.Parameter stores tensors that can be used with nn.Module; If requires_grad = True, then gradients are\n",
    "                                                # calculated automatically and thus, often referred to as AUTOGRAD.\n",
    "        # starts with random weights as done below\n",
    "        self.weights = nn.Parameter(torch.randn(1, dtype = torch.float), requires_grad = True) # requires_grad means that can \n",
    "                                                                                               # we update this value with gradient descent ?\n",
    "        self.bias = nn.Parameter(torch.randn(1, dtype = torch.float), requires_grad = True)\n",
    "\n",
    "    # forward function defines the computation in the model (forward pass, kinda.)\n",
    "    def forward(self, x: torch.Tensor) -> torch.Tensor: # x is the input data\n",
    "        # Returning the linear regresssion formula (y = m*x +b)\n",
    "        return self.weights * x + self.bias"
   ]
  },
  {
   "cell_type": "markdown",
   "id": "bd80693b-a41c-434c-85dd-96d5cfb98396",
   "metadata": {},
   "source": [
    "#### PyTorch model building essentials"
   ]
  },
  {
   "cell_type": "markdown",
   "id": "28770a6c-ced5-4919-9b54-8d4463c5a04d",
   "metadata": {},
   "source": [
    "PyTorch has **four essential modules** that are used to create any kind of NN imaginable. These are as follows:"
   ]
  },
  {
   "cell_type": "raw",
   "id": "c1c79258-b539-4edd-9af6-4e2687913971",
   "metadata": {},
   "source": [
    "torch.nn, torch.optim, torch.utils.data.Dataset and torch.utils.data.DataLoader"
   ]
  },
  {
   "cell_type": "markdown",
   "id": "6daae21e-5aec-40b4-a825-c522ebf9449a",
   "metadata": {},
   "source": [
    "**torch.optim** contains various optimization algorithms, telling the params in nn.Parameter how to best change to improve gradient descent and in turn, reduce loss. "
   ]
  },
  {
   "cell_type": "raw",
   "id": "57974bdc-27d5-41d1-b8e7-5ae3ca04e0d5",
   "metadata": {},
   "source": [
    "All nn.Module subclasses require a (def) forward() method. It will work like the forward pass in NNs, i suppose."
   ]
  },
  {
   "cell_type": "markdown",
   "id": "cc6f9bdc-0876-48a6-aae9-07c466f788bf",
   "metadata": {},
   "source": [
    "For easier understanding, think of the above as follows:\n",
    "\n",
    "nn.Module -> Has larger building blocks (layers)\n",
    "\n",
    "nn.Parameter -> Has smaller params like wts & biases (put together to make nn.Module(s))\n",
    "\n",
    "forward() -> Tells the larger blocks how to make calculations on inputs within nn.Module(s)  {Must override the forward method of nn.Module.}\n",
    "\n",
    "torch.optim -> Has optimizers to improve the params within nn.Parameter to better represent input data."
   ]
  },
  {
   "cell_type": "markdown",
   "id": "ef7d8bbc-9396-4474-86b8-de3b228e8a4a",
   "metadata": {},
   "source": [
    "#### Checking the contents pf a PyTorch Model"
   ]
  },
  {
   "cell_type": "markdown",
   "id": "5b970c17-315b-4d14-a899-5f5a526b07e2",
   "metadata": {},
   "source": [
    "Creating a model instance with the class made and doing some checks."
   ]
  },
  {
   "cell_type": "code",
   "execution_count": 7,
   "id": "2389b0a0-7677-4f62-a065-a7d9954c4278",
   "metadata": {},
   "outputs": [
    {
     "data": {
      "text/plain": [
       "[Parameter containing:\n",
       " tensor([0.3367], requires_grad=True),\n",
       " Parameter containing:\n",
       " tensor([0.1288], requires_grad=True)]"
      ]
     },
     "execution_count": 7,
     "metadata": {},
     "output_type": "execute_result"
    }
   ],
   "source": [
    "torch.manual_seed(42) # Set because random initialization in nn.Parameter; reproducibility reasons.\n",
    "\n",
    "# Instance Creation of model; a subclass of nn.Module\n",
    "model_0 = LinearRegressionModel()\n",
    "\n",
    "# Checks\n",
    "list(model_0.parameters())"
   ]
  },
  {
   "cell_type": "code",
   "execution_count": 8,
   "id": "61f13283-1ee5-4166-8fcb-1617b069d00c",
   "metadata": {},
   "outputs": [
    {
     "data": {
      "text/plain": [
       "OrderedDict([('weights', tensor([0.3367])), ('bias', tensor([0.1288]))])"
      ]
     },
     "execution_count": 8,
     "metadata": {},
     "output_type": "execute_result"
    }
   ],
   "source": [
    "# The state (what model contains) of the model check; Listing named params using state_dict() method.\n",
    "model_0.state_dict()"
   ]
  },
  {
   "cell_type": "markdown",
   "id": "1f7cbc2c-b910-413b-8202-b161c24c4fc3",
   "metadata": {},
   "source": [
    "#### Making predictions using **torch.inference_mode()**"
   ]
  },
  {
   "cell_type": "code",
   "execution_count": 9,
   "id": "10093db8-7e2c-46cc-89e1-3f222a8abeda",
   "metadata": {},
   "outputs": [],
   "source": [
    "# Predictions using the model\n",
    "with torch.inference_mode(): # torch.inference_mode() as a context manager\n",
    "    y_preds = model_0(X_test)\n",
    "\n",
    "# torch.inference_mode() turns off a bunch of things (gradient tracking, necessary for training but not for inference/preds) to make things faster"
   ]
  },
  {
   "cell_type": "code",
   "execution_count": 10,
   "id": "d5cdd648-94b8-4ef3-b90d-51b1d935083b",
   "metadata": {},
   "outputs": [
    {
     "data": {
      "text/plain": [
       "(10,\n",
       " 10,\n",
       " tensor([[0.3982],\n",
       "         [0.4049],\n",
       "         [0.4116],\n",
       "         [0.4184],\n",
       "         [0.4251],\n",
       "         [0.4318],\n",
       "         [0.4386],\n",
       "         [0.4453],\n",
       "         [0.4520],\n",
       "         [0.4588]]))"
      ]
     },
     "execution_count": 10,
     "metadata": {},
     "output_type": "execute_result"
    }
   ],
   "source": [
    "len(X_test), len(y_preds), y_preds"
   ]
  },
  {
   "cell_type": "code",
   "execution_count": 11,
   "id": "e2469c4a-6d6c-468e-99b8-fc9ebcbc93d2",
   "metadata": {},
   "outputs": [
    {
     "data": {
      "image/png": "[encoded data removed]",
      "text/plain": [
       "<Figure size 1000x700 with 1 Axes>"
      ]
     },
     "metadata": {},
     "output_type": "display_data"
    }
   ],
   "source": [
    "plot_predictions(predictions = y_preds)"
   ]
  },
  {
   "cell_type": "code",
   "execution_count": 12,
   "id": "53846286-aaba-470a-a62f-2f3f9419a504",
   "metadata": {},
   "outputs": [
    {
     "data": {
      "text/plain": [
       "tensor([[0.4618],\n",
       "        [0.4691],\n",
       "        [0.4764],\n",
       "        [0.4836],\n",
       "        [0.4909],\n",
       "        [0.4982],\n",
       "        [0.5054],\n",
       "        [0.5127],\n",
       "        [0.5200],\n",
       "        [0.5272]])"
      ]
     },
     "execution_count": 12,
     "metadata": {},
     "output_type": "execute_result"
    }
   ],
   "source": [
    "y_test - y_preds"
   ]
  },
  {
   "cell_type": "markdown",
   "id": "5914160d-8f3c-4c2f-ba6e-3f883b213e91",
   "metadata": {},
   "source": [
    "### 3. Train Model"
   ]
  },
  {
   "cell_type": "markdown",
   "id": "98eb5f74-987c-4f33-baec-d6d2f26f566d",
   "metadata": {},
   "source": [
    "parameters are also referred to as patterns by the author."
   ]
  },
  {
   "cell_type": "markdown",
   "id": "7e7244cd-9ff8-4f27-a0b7-6cd20256b77b",
   "metadata": {},
   "source": [
    "#### Creating a loss function and optimizer in PyTorch"
   ]
  },
  {
   "cell_type": "markdown",
   "id": "8d8ba67b-faae-4f68-ace7-7c1b798b1662",
   "metadata": {},
   "source": [
    "Loss function measures how wrong the model's predictions are compared to the truth labels. Lower the better. In torch.nn. Common ar MAE & Binary cross entrpy\n",
    "\n",
    "Optimizer tells the model how to update its internal parameters to best lower the loss. In torch.optim. Common are SGD & Adam."
   ]
  },
  {
   "cell_type": "raw",
   "id": "621d5842-0c20-40fc-98fa-bd0cbd7e975d",
   "metadata": {},
   "source": [
    "Learning rate is considered a hyperparameter. Common starting values are 0.01, 0.001, 0.0001. However, can be adjusted later by learning rate scheduling."
   ]
  },
  {
   "cell_type": "code",
   "execution_count": 13,
   "id": "50211c5b-6e13-4604-93f7-2c8f11343c3a",
   "metadata": {},
   "outputs": [],
   "source": [
    "# Loss Function Creation\n",
    "loss_fn = nn.L1Loss() # MAE\n",
    "\n",
    "# Optimizer Creation\n",
    "optimizer = torch.optim.SGD(params=model_0.parameters(), lr=0.01)"
   ]
  },
  {
   "cell_type": "markdown",
   "id": "4a313722-1169-451f-896b-4c76a84c3914",
   "metadata": {},
   "source": [
    "#### Creating an optimization loop in PyTorch"
   ]
  },
  {
   "cell_type": "markdown",
   "id": "97598bb0-1b3f-4b1f-b2c8-0dfe9b8e651d",
   "metadata": {},
   "source": [
    "It involves the creation of training and testing loops. Remember the Unofficial PyTorch Optimization song."
   ]
  },
  {
   "cell_type": "markdown",
   "id": "0af3f6f2-5143-4349-88ed-a8fff5a92ebf",
   "metadata": {},
   "source": [
    "##### PyTorch training loop"
   ]
  },
  {
   "cell_type": "raw",
   "id": "0d23da19-d731-4172-98ef-2e63e6ff8d30",
   "metadata": {},
   "source": [
    "Forward pass -> Calculate the loss -> Zero gradients -> Perform backpropagration on the loss -> Update the optimizer (gradient descent)"
   ]
  },
  {
   "cell_type": "raw",
   "id": "c77023b5-f12a-45c1-a958-1dc5ee576a30",
   "metadata": {},
   "source": [
    "Rules of thumb:\n",
    "\n",
    "Calculate the loss before backpropagation;\n",
    "Zero gradients before computing the gradients of the loss w.r.t. every model parameter;\n",
    "Step the optimizer after performing backpropagationon the loss"
   ]
  },
  {
   "cell_type": "markdown",
   "id": "ce05c060-7e25-4fc3-a1c2-d4a05e2e82a7",
   "metadata": {},
   "source": [
    "##### PyTorch testing loop"
   ]
  },
  {
   "cell_type": "raw",
   "id": "9745f741-622f-45c2-bd5c-16f001f4d5a5",
   "metadata": {},
   "source": [
    "Forward pass -> Calculate the loss -> Calculate evaluation metrics (optional)"
   ]
  },
  {
   "cell_type": "code",
   "execution_count": 14,
   "id": "da34517a-e7e9-442a-99bc-5db381118e94",
   "metadata": {},
   "outputs": [
    {
     "name": "stdout",
     "output_type": "stream",
     "text": [
      "Epoch: 0 | MAE Train Loss: 0.31288138031959534 | MAE Test Loss: 0.48106518387794495 \n",
      "Epoch: 10 | MAE Train Loss: 0.1976713240146637 | MAE Test Loss: 0.3463551998138428 \n",
      "Epoch: 20 | MAE Train Loss: 0.08908725529909134 | MAE Test Loss: 0.21729660034179688 \n",
      "Epoch: 30 | MAE Train Loss: 0.053148526698350906 | MAE Test Loss: 0.14464017748832703 \n",
      "Epoch: 40 | MAE Train Loss: 0.04543796554207802 | MAE Test Loss: 0.11360953003168106 \n",
      "Epoch: 50 | MAE Train Loss: 0.04167863354086876 | MAE Test Loss: 0.09919948130846024 \n",
      "Epoch: 60 | MAE Train Loss: 0.03818932920694351 | MAE Test Loss: 0.08886633068323135 \n",
      "Epoch: 70 | MAE Train Loss: 0.03476089984178543 | MAE Test Loss: 0.0805937647819519 \n",
      "Epoch: 80 | MAE Train Loss: 0.03132382780313492 | MAE Test Loss: 0.07232122868299484 \n",
      "Epoch: 90 | MAE Train Loss: 0.02788739837706089 | MAE Test Loss: 0.06473556160926819 \n",
      "Epoch: 100 | MAE Train Loss: 0.024458957836031914 | MAE Test Loss: 0.05646304413676262 \n",
      "Epoch: 110 | MAE Train Loss: 0.021020207554101944 | MAE Test Loss: 0.04819049686193466 \n",
      "Epoch: 120 | MAE Train Loss: 0.01758546568453312 | MAE Test Loss: 0.04060482233762741 \n",
      "Epoch: 130 | MAE Train Loss: 0.014155393466353416 | MAE Test Loss: 0.03233227878808975 \n",
      "Epoch: 140 | MAE Train Loss: 0.010716589167714119 | MAE Test Loss: 0.024059748277068138 \n",
      "Epoch: 150 | MAE Train Loss: 0.0072835334576666355 | MAE Test Loss: 0.016474086791276932 \n",
      "Epoch: 160 | MAE Train Loss: 0.0038517764769494534 | MAE Test Loss: 0.008201557211577892 \n",
      "Epoch: 170 | MAE Train Loss: 0.008932482451200485 | MAE Test Loss: 0.005023092031478882 \n",
      "Epoch: 180 | MAE Train Loss: 0.008932482451200485 | MAE Test Loss: 0.005023092031478882 \n",
      "Epoch: 190 | MAE Train Loss: 0.008932482451200485 | MAE Test Loss: 0.005023092031478882 \n"
     ]
    }
   ],
   "source": [
    "# Putting it all together\n",
    "\n",
    "torch.manual_seed(42)\n",
    "\n",
    "# Number of times the model passes over the train data\n",
    "epochs = 200\n",
    "\n",
    "# Empty lists creationf for model progress tracking\n",
    "train_losses = []\n",
    "test_losses = []\n",
    "epoch_count = []\n",
    "\n",
    "for epoch in range(epochs):\n",
    "    # Training\n",
    "    # Model in train mode\n",
    "    model_0.train()\n",
    "\n",
    "    # 1. Forward Pass\n",
    "    y_pred = model_0(X_train)\n",
    "\n",
    "    # 2. Calculate the loss\n",
    "    loss = loss_fn(y_pred, y_train)\n",
    "\n",
    "    # 3. Zero gradient of the optimizer\n",
    "    optimizer.zero_grad()\n",
    "\n",
    "    # 4. Loss Backwards (backprop)\n",
    "    loss.backward()\n",
    "\n",
    "    # Progress the optimizer\n",
    "    optimizer.step()\n",
    "\n",
    "    # Testing\n",
    "    #Model in eval mode\n",
    "    model_0.eval()\n",
    "\n",
    "    with torch.inference_mode():\n",
    "        # 1. Forward pass\n",
    "        test_pred = model_0(X_test)\n",
    "\n",
    "        # 2. Calculate the loss\n",
    "        test_loss = loss_fn(test_pred, y_test.type(torch.float))  #Because predicitons come in float datatype so, comparisons should be done on same tensor types\n",
    "\n",
    "        # Print out the stats simultaneously\n",
    "        if epoch % 10 == 0:\n",
    "            epoch_count.append(epoch)\n",
    "            train_losses.append(loss.detach().numpy())\n",
    "            test_losses.append(test_loss.detach().numpy())\n",
    "            print(f\"Epoch: {epoch} | MAE Train Loss: {loss} | MAE Test Loss: {test_loss} \")"
   ]
  },
  {
   "cell_type": "code",
   "execution_count": 15,
   "id": "2b7d4b8e-56a7-444c-a156-36c3ae51cc56",
   "metadata": {},
   "outputs": [
    {
     "data": {
      "text/plain": [
       "<matplotlib.legend.Legend at 0x2a1bd74d250>"
      ]
     },
     "execution_count": 15,
     "metadata": {},
     "output_type": "execute_result"
    },
    {
     "data": {
      "image/png": "[encoded data removed]",
      "text/plain": [
       "<Figure size 640x480 with 1 Axes>"
      ]
     },
     "metadata": {},
     "output_type": "display_data"
    }
   ],
   "source": [
    "# Plot the loss curves\n",
    "plt.plot(epoch_count, train_losses, label = \"Train loss\")\n",
    "plt.plot(epoch_count, test_losses, label = \"Test loss\")\n",
    "plt.title(\"Training and test loss curves\")\n",
    "plt.ylabel(\"Loss\")\n",
    "plt.xlabel(\"Epochs\")\n",
    "plt.legend()"
   ]
  },
  {
   "cell_type": "code",
   "execution_count": 16,
   "id": "89eb9fa1-c926-40fd-b348-6480e89f9c66",
   "metadata": {},
   "outputs": [
    {
     "name": "stdout",
     "output_type": "stream",
     "text": [
      "Learned params:\n",
      "OrderedDict([('weights', tensor([0.6990])), ('bias', tensor([0.3093]))])\n",
      "\n",
      "Original params:\n",
      "weights: 0.7, bias: 0.3\n"
     ]
    }
   ],
   "source": [
    "# Find our model's learned parameters state\n",
    "print(\"Learned params:\")\n",
    "print(model_0.state_dict())\n",
    "print(\"\\nOriginal params:\")\n",
    "print(f\"weights: {weight}, bias: {bias}\")"
   ]
  },
  {
   "cell_type": "markdown",
   "id": "033e64ab-b51c-441e-b5f2-07b369902848",
   "metadata": {},
   "source": [
    "### 4. Making predictions with a trained PyTorch model (inference)"
   ]
  },
  {
   "cell_type": "raw",
   "id": "b0cd3230-74a3-4161-b708-8094179f9c9a",
   "metadata": {},
   "source": [
    "3 things to remember when performing inference with a PyTorch model:\n",
    "\n",
    "Set the model in evaluation mode;\n",
    "Make the preds using the inference mode context manager;\n",
    "All preds should bemade with objects on the same device (data and model both) # To avoid cross-device errors."
   ]
  },
  {
   "cell_type": "code",
   "execution_count": 17,
   "id": "e3ae9b4a-a86e-4bca-94b0-95793acbeb6b",
   "metadata": {},
   "outputs": [
    {
     "data": {
      "text/plain": [
       "tensor([[0.8685],\n",
       "        [0.8825],\n",
       "        [0.8965],\n",
       "        [0.9105],\n",
       "        [0.9245],\n",
       "        [0.9384],\n",
       "        [0.9524],\n",
       "        [0.9664],\n",
       "        [0.9804],\n",
       "        [0.9944]])"
      ]
     },
     "execution_count": 17,
     "metadata": {},
     "output_type": "execute_result"
    }
   ],
   "source": [
    "# Model set in eval mode\n",
    "model_0.eval()\n",
    "\n",
    "# Set inference mode context manager\n",
    "with torch.inference_mode():\n",
    "    # Not device-agnostic code\n",
    "    # model_0.to(device)\n",
    "    # X_test = X_test.to(device)\n",
    "    y_preds = model_0(X_test)\n",
    "\n",
    "y_preds"
   ]
  },
  {
   "cell_type": "code",
   "execution_count": 18,
   "id": "fd89376c-ce34-4236-b637-c8367bff106d",
   "metadata": {
    "scrolled": true
   },
   "outputs": [
    {
     "data": {
      "image/png": "[encoded data removed]",
      "text/plain": [
       "<Figure size 1000x700 with 1 Axes>"
      ]
     },
     "metadata": {},
     "output_type": "display_data"
    }
   ],
   "source": [
    "plot_predictions(predictions = y_preds)"
   ]
  },
  {
   "cell_type": "markdown",
   "id": "f2600451-98ba-42ce-9d0f-1e8eaa75cd39",
   "metadata": {},
   "source": [
    "### 5. Saving and loading a PyTorch model"
   ]
  },
  {
   "cell_type": "markdown",
   "id": "d3d98cac-0ddc-42ad-b5b3-3b93c385607b",
   "metadata": {},
   "source": [
    "3 main methods one should be aware of for this are as follows:\n",
    "\n",
    "**torch.save, torch.load, torch.nn.Module.load_state_dict**"
   ]
  },
  {
   "cell_type": "markdown",
   "id": "cc04b9d0-8e7d-4854-8f4b-774383181b5c",
   "metadata": {},
   "source": [
    "All of these use Python's pickle utility."
   ]
  },
  {
   "cell_type": "markdown",
   "id": "9ec6aad3-58cb-47c1-968a-29aceb18f117",
   "metadata": {},
   "source": [
    "#### Saving a PyTorch model's state_dict()"
   ]
  },
  {
   "cell_type": "raw",
   "id": "7789b476-2912-4f9d-b941-682799a99fd3",
   "metadata": {},
   "source": [
    "Recommended way for saving and loading a model for inference is by saving  and loading a model's state_dict().\n",
    "\n",
    "models directory creation using pathlib -> file path creation to save the model to -> call torch.save(obj, f) where obj is model's state_dict() and f is file path.\n",
    "\n",
    "PyTorch saved objects usually have the extension .pt or .pth."
   ]
  },
  {
   "cell_type": "code",
   "execution_count": 19,
   "id": "1d0a7947-c0d7-4ad1-a72d-d4bec6befb7e",
   "metadata": {},
   "outputs": [
    {
     "name": "stdout",
     "output_type": "stream",
     "text": [
      "Saving model to: models\\01_pytorch_workflow_model_0.pth\n"
     ]
    }
   ],
   "source": [
    "from pathlib import Path\n",
    "\n",
    "# 1. models directory creation\n",
    "MODEL_PATH = Path(\"models\")\n",
    "MODEL_PATH.mkdir(parents = True, exist_ok = True)\n",
    "\n",
    "# 2. model save path creation\n",
    "MODEL_NAME = \"01_pytorch_workflow_model_0.pth\"\n",
    "MODEL_SAVE_PATH = MODEL_PATH / MODEL_NAME\n",
    "\n",
    "# 3. Ssve the model state dict\n",
    "print(f\"Saving model to: {MODEL_SAVE_PATH}\")\n",
    "# only save the state_dict() containing the model's learned params\n",
    "torch.save(obj=model_0.state_dict(), f = MODEL_SAVE_PATH)"
   ]
  },
  {
   "cell_type": "code",
   "execution_count": 20,
   "id": "3162a664-f704-4b24-a638-c7a32f998033",
   "metadata": {},
   "outputs": [
    {
     "name": "stdout",
     "output_type": "stream",
     "text": [
      " Volume in drive C is Windows-SSD\n",
      " Volume Serial Number is 284D-8FBA\n",
      "\n",
      " Directory of C:\\Users\\ritis\\Desktop\\PyTorch-Learning\\models\n",
      "\n",
      "29-07-2025  21:03    <DIR>          .\n",
      "29-07-2025  21:39    <DIR>          ..\n",
      "29-07-2025  21:39             1,680 01_pytorch_workflow_model_0.pth\n",
      "29-07-2025  21:39             1,744 01_pytorch_workflow_model_1.pth\n",
      "29-07-2025  21:39             1,732 01_pytrch_wrkflw_model_ex.pth\n",
      "               3 File(s)          5,156 bytes\n",
      "               2 Dir(s)  32,405,942,272 bytes free\n"
     ]
    }
   ],
   "source": [
    "# Saved file checks\n",
    "!dir models"
   ]
  },
  {
   "cell_type": "markdown",
   "id": "25573901-3b60-4d46-8634-38bf0bbd6b91",
   "metadata": {},
   "source": [
    "#### Loading a saved PyTorch model's state_dict()"
   ]
  },
  {
   "cell_type": "raw",
   "id": "351cf811-d1ce-4a55-af59-c96d22b4f74c",
   "metadata": {},
   "source": [
    "Better to save the state_dict() of the model than the entire model itself."
   ]
  },
  {
   "cell_type": "code",
   "execution_count": 21,
   "id": "6b607203-24af-48e3-ac63-5c982ce5ccde",
   "metadata": {},
   "outputs": [
    {
     "data": {
      "text/plain": [
       "<All keys matched successfully>"
      ]
     },
     "execution_count": 21,
     "metadata": {},
     "output_type": "execute_result"
    }
   ],
   "source": [
    "# Instantiate a new instance of our model(will be instantiated witth random weights)\n",
    "loaded_model_0 = LinearRegressionModel()\n",
    "\n",
    "# Load the state_dict of our saved model (will update the new instance with the trained weights)\n",
    "loaded_model_0.load_state_dict(torch.load(f=MODEL_SAVE_PATH, weights_only = True))"
   ]
  },
  {
   "cell_type": "code",
   "execution_count": 22,
   "id": "0ecf07d0-4e92-43eb-a851-20b7e29b9f19",
   "metadata": {},
   "outputs": [],
   "source": [
    "# Testing the loaded model\n",
    "# 1. Loaded model into eval mode\n",
    "loaded_model_0.eval()\n",
    "\n",
    "# 2. Use inference mode context manager to make predictions\n",
    "with torch.inference_mode():\n",
    "    loaded_model_preds = loaded_model_0(X_test)"
   ]
  },
  {
   "cell_type": "code",
   "execution_count": 23,
   "id": "82cf272b-6ec0-4614-870c-d6d4dcc42511",
   "metadata": {},
   "outputs": [
    {
     "data": {
      "text/plain": [
       "tensor([[True],\n",
       "        [True],\n",
       "        [True],\n",
       "        [True],\n",
       "        [True],\n",
       "        [True],\n",
       "        [True],\n",
       "        [True],\n",
       "        [True],\n",
       "        [True]])"
      ]
     },
     "execution_count": 23,
     "metadata": {},
     "output_type": "execute_result"
    }
   ],
   "source": [
    "# Compare previous model's preds with the loaded model's preds (should be same)\n",
    "y_preds == loaded_model_preds"
   ]
  },
  {
   "cell_type": "raw",
   "id": "1beb693b-faf6-4245-b661-6be95efcbae5",
   "metadata": {},
   "source": [
    "However, there are ore methods to save and load PyTorch models. Can check that out at PyTorch guide for saving and loading models."
   ]
  },
  {
   "cell_type": "markdown",
   "id": "f9f1ba3f-f01f-40d8-9430-5f6fd25362ce",
   "metadata": {},
   "source": [
    "### 6. Putting it all together"
   ]
  },
  {
   "cell_type": "code",
   "execution_count": 24,
   "id": "005a1e87-c723-4d66-84c1-70c06f20fb2d",
   "metadata": {},
   "outputs": [
    {
     "name": "stdout",
     "output_type": "stream",
     "text": [
      "Using cuda\n"
     ]
    }
   ],
   "source": [
    "# Setup Device Agnostic Code\n",
    "device = \"cuda\" if torch.cuda.is_available() else \"cpu\"\n",
    "print(f\"Using {device}\")"
   ]
  },
  {
   "cell_type": "markdown",
   "id": "d35b2e47-0d35-4192-ad72-3adbc6577b44",
   "metadata": {},
   "source": [
    "#### Data"
   ]
  },
  {
   "cell_type": "code",
   "execution_count": 25,
   "id": "b3595c9e-3782-4eb9-b6fe-75cc98360236",
   "metadata": {},
   "outputs": [
    {
     "data": {
      "text/plain": [
       "(tensor([[0.0000],\n",
       "         [0.0200],\n",
       "         [0.0400],\n",
       "         [0.0600],\n",
       "         [0.0800],\n",
       "         [0.1000],\n",
       "         [0.1200],\n",
       "         [0.1400],\n",
       "         [0.1600],\n",
       "         [0.1800]]),\n",
       " tensor([[0.3000],\n",
       "         [0.3140],\n",
       "         [0.3280],\n",
       "         [0.3420],\n",
       "         [0.3560],\n",
       "         [0.3700],\n",
       "         [0.3840],\n",
       "         [0.3980],\n",
       "         [0.4120],\n",
       "         [0.4260]]))"
      ]
     },
     "execution_count": 25,
     "metadata": {},
     "output_type": "execute_result"
    }
   ],
   "source": [
    "weight = 0.7\n",
    "bias = 0.3\n",
    "\n",
    "start = 0\n",
    "end = 1\n",
    "step = 0.02\n",
    "\n",
    "X = torch.arange(start, end, step).unsqueeze(dim = 1)\n",
    "y = weight * X + bias\n",
    "X[:10], y[:10]"
   ]
  },
  {
   "cell_type": "code",
   "execution_count": 26,
   "id": "2684a133-ff4f-47e9-9339-42bed2056030",
   "metadata": {},
   "outputs": [
    {
     "data": {
      "text/plain": [
       "(40, 40, 10, 10)"
      ]
     },
     "execution_count": 26,
     "metadata": {},
     "output_type": "execute_result"
    }
   ],
   "source": [
    "# Data Split\n",
    "train_split = int(0.8 * len(X))\n",
    "X_train, y_train = X[:train_split], y[:train_split]\n",
    "X_test, y_test = X[train_split:], y[train_split:]\n",
    "\n",
    "len(X_train), len(y_train), len(X_test), len(y_test)"
   ]
  },
  {
   "cell_type": "code",
   "execution_count": 27,
   "id": "cef3f6a5-4c34-41d9-ab5d-02b9cd5a4678",
   "metadata": {},
   "outputs": [
    {
     "data": {
      "image/png": "[encoded data removed]",
      "text/plain": [
       "<Figure size 1000x700 with 1 Axes>"
      ]
     },
     "metadata": {},
     "output_type": "display_data"
    }
   ],
   "source": [
    "# Data Visualization\n",
    "plot_predictions(X_train, y_train, X_test, y_test)"
   ]
  },
  {
   "cell_type": "markdown",
   "id": "73546f40-0312-4d4e-a049-25c748f0ef7f",
   "metadata": {},
   "source": [
    "#### Building a PyTorch linear model"
   ]
  },
  {
   "cell_type": "raw",
   "id": "87cbc9da-2e7c-44c1-8aed-6a6edac05259",
   "metadata": {},
   "source": [
    "nn.Linear(in_features, out_features) is used for creating the model parameters, where in_features is the number of dimensions of the input data and out_features is the number of dimensions the output is expected in."
   ]
  },
  {
   "cell_type": "code",
   "execution_count": 28,
   "id": "f925747c-8f2b-4082-ac9f-e89e775b51ad",
   "metadata": {},
   "outputs": [
    {
     "data": {
      "text/plain": [
       "(LinearRegressionModelV2(\n",
       "   (linear_layer): Linear(in_features=1, out_features=1, bias=True)\n",
       " ),\n",
       " OrderedDict([('linear_layer.weight', tensor([[0.7645]])),\n",
       "              ('linear_layer.bias', tensor([0.8300]))]))"
      ]
     },
     "execution_count": 28,
     "metadata": {},
     "output_type": "execute_result"
    }
   ],
   "source": [
    "# Subclass nn.Module to make the Linear Regression Model\n",
    "class LinearRegressionModelV2(nn.Module):\n",
    "    def __init__(self):\n",
    "        super().__init__()\n",
    "        # Using nn.Linear() for creating the model params\n",
    "        self.linear_layer = nn.Linear(in_features = 1, out_features = 1)\n",
    "\n",
    "    # Define the forward pass (or computation)\n",
    "    def forward(self, x: torch.Tensor) -> torch.Tensor:\n",
    "        return self.linear_layer(x)\n",
    "\n",
    "# Set the see value (optional)\n",
    "torch.manual_seed(42)\n",
    "model_1 = LinearRegressionModelV2()\n",
    "model_1, model_1.state_dict()"
   ]
  },
  {
   "cell_type": "code",
   "execution_count": 29,
   "id": "4ddf2241-1b75-49cb-b300-0bd588d5e72a",
   "metadata": {},
   "outputs": [
    {
     "name": "stdout",
     "output_type": "stream",
     "text": [
      "cpu\n"
     ]
    },
    {
     "data": {
      "text/plain": [
       "device(type='cuda', index=0)"
      ]
     },
     "execution_count": 29,
     "metadata": {},
     "output_type": "execute_result"
    }
   ],
   "source": [
    "# Check model's current device\n",
    "print(next(model_1.parameters()).device)\n",
    "\n",
    "# Now, set the model to GPU if available.\n",
    "model_1.to(device)\n",
    "next(model_1.parameters()).device"
   ]
  },
  {
   "cell_type": "markdown",
   "id": "f6c01a20-2da9-402e-bbf7-7068d393c3f8",
   "metadata": {},
   "source": [
    "#### Training"
   ]
  },
  {
   "cell_type": "code",
   "execution_count": 30,
   "id": "9a191862-b4ed-40d5-93de-9dc7adec0097",
   "metadata": {},
   "outputs": [],
   "source": [
    "# Loss function\n",
    "loss_fn = nn.L1Loss()\n",
    "\n",
    "# Optimizer\n",
    "optimizer = torch.optim.SGD(params=model_1.parameters(), lr = 0.01)"
   ]
  },
  {
   "cell_type": "code",
   "execution_count": 31,
   "id": "2606d4a9-1852-41ba-a5d9-384537716d5a",
   "metadata": {},
   "outputs": [
    {
     "name": "stdout",
     "output_type": "stream",
     "text": [
      "Epoch: 0 | Train Loss: 0.5551779866218567 | Test Loss: 0.5739762187004089\n",
      "Epoch: 100 | Train Loss: 0.006215683650225401 | Test Loss: 0.014086711220443249\n",
      "Epoch: 200 | Train Loss: 0.0012645035749301314 | Test Loss: 0.013801801018416882\n",
      "Epoch: 300 | Train Loss: 0.0012645035749301314 | Test Loss: 0.013801801018416882\n",
      "Epoch: 400 | Train Loss: 0.0012645035749301314 | Test Loss: 0.013801801018416882\n",
      "Epoch: 500 | Train Loss: 0.0012645035749301314 | Test Loss: 0.013801801018416882\n",
      "Epoch: 600 | Train Loss: 0.0012645035749301314 | Test Loss: 0.013801801018416882\n",
      "Epoch: 700 | Train Loss: 0.0012645035749301314 | Test Loss: 0.013801801018416882\n",
      "Epoch: 800 | Train Loss: 0.0012645035749301314 | Test Loss: 0.013801801018416882\n",
      "Epoch: 900 | Train Loss: 0.0012645035749301314 | Test Loss: 0.013801801018416882\n"
     ]
    }
   ],
   "source": [
    "torch.manual_seed(42)\n",
    "\n",
    "# Set number of epochs\n",
    "epochs = 1000\n",
    "\n",
    "# Put data on the GPU\n",
    "X_train = X_train.to(device)\n",
    "X_test = X_test.to(device)\n",
    "y_train = y_train.to(device)\n",
    "y_test = y_test.to(device)\n",
    "\n",
    "for epoch in range(epochs):\n",
    "    # Training Loop\n",
    "    model_1.train()\n",
    "\n",
    "    # Forward Pass\n",
    "    y_pred = model_1(X_train)\n",
    "\n",
    "    # Calculate Loss\n",
    "    loss = loss_fn(y_pred, y_train)\n",
    "\n",
    "    # Zero grad optimizer\n",
    "    optimizer.zero_grad()\n",
    "\n",
    "    # Loss Backward (BACKPROP)\n",
    "    loss.backward()\n",
    "\n",
    "    # Step the optimizer\n",
    "    optimizer.step()\n",
    "\n",
    "    # Testing Loop\n",
    "    model_1.eval()\n",
    "\n",
    "    # Forward Pass\n",
    "    with torch.inference_mode():\n",
    "        test_pred = model_1(X_test)\n",
    "\n",
    "        # Calculatee the loss\n",
    "        test_loss = loss_fn(test_pred, y_test)\n",
    "\n",
    "    if epoch % 100 == 0:\n",
    "        print(f\"Epoch: {epoch} | Train Loss: {loss} | Test Loss: {test_loss}\")"
   ]
  },
  {
   "cell_type": "code",
   "execution_count": 32,
   "id": "97ffb927-0a8d-4af7-a668-4f3bab04306e",
   "metadata": {},
   "outputs": [
    {
     "name": "stdout",
     "output_type": "stream",
     "text": [
      "Learned parameters\n",
      "OrderedDict([('linear_layer.weight', tensor([[0.6968]], device='cuda:0')),\n",
      "             ('linear_layer.bias', tensor([0.3025], device='cuda:0'))])\n",
      "\n",
      "Original hard-coded parameters\n",
      "weights: 0.7, bias: 0.3\n"
     ]
    }
   ],
   "source": [
    "# Checking with the model's learned params\n",
    "from pprint import pprint\n",
    "print(\"Learned parameters\")\n",
    "pprint(model_1.state_dict())\n",
    "print(\"\\nOriginal hard-coded parameters\")\n",
    "print(f\"weights: {weight}, bias: {bias}\")"
   ]
  },
  {
   "cell_type": "markdown",
   "id": "630f6e93-45b7-4d3c-a17f-2dccb2dd585b",
   "metadata": {},
   "source": [
    "#### Making Predictions"
   ]
  },
  {
   "cell_type": "code",
   "execution_count": 33,
   "id": "59897cd3-ead2-46c3-ac36-1d646b07e930",
   "metadata": {},
   "outputs": [
    {
     "data": {
      "text/plain": [
       "tensor([[0.8600],\n",
       "        [0.8739],\n",
       "        [0.8878],\n",
       "        [0.9018],\n",
       "        [0.9157],\n",
       "        [0.9296],\n",
       "        [0.9436],\n",
       "        [0.9575],\n",
       "        [0.9714],\n",
       "        [0.9854]], device='cuda:0')"
      ]
     },
     "execution_count": 33,
     "metadata": {},
     "output_type": "execute_result"
    }
   ],
   "source": [
    "# Set model into eval mode\n",
    "model_1.eval()\n",
    "\n",
    "# Make preds on test data\n",
    "with torch.inference_mode():\n",
    "    y_preds = model_1(X_test)\n",
    "\n",
    "y_preds"
   ]
  },
  {
   "cell_type": "code",
   "execution_count": 34,
   "id": "57b10d57-d78e-422a-af28-297d35005f6c",
   "metadata": {},
   "outputs": [
    {
     "data": {
      "image/png": "[encoded data removed]",
      "text/plain": [
       "<Figure size 1000x700 with 1 Axes>"
      ]
     },
     "metadata": {},
     "output_type": "display_data"
    }
   ],
   "source": [
    "# Data on GPU cannot be used with libraries that work on CPU such as NumPy, Pandas and Matplotlib.\n",
    "# For that to work, one has to use the .cpu() method to get a copy of the GPU tensor on the CPU.\n",
    "# Thus, putting data onto CPU and plotting it\n",
    "plot_predictions(predictions=y_preds.cpu())"
   ]
  },
  {
   "cell_type": "markdown",
   "id": "633d0e92-0b4c-482a-9b2d-521648d08c6a",
   "metadata": {},
   "source": [
    "#### Saving and loading a model"
   ]
  },
  {
   "cell_type": "code",
   "execution_count": 35,
   "id": "4309c712-80ea-422e-a644-8e0ea1286818",
   "metadata": {},
   "outputs": [
    {
     "name": "stdout",
     "output_type": "stream",
     "text": [
      "Savd the model in: models\\01_pytorch_workflow_model_1.pth\n"
     ]
    }
   ],
   "source": [
    "# models directory creation check\n",
    "MODEL_PATH.mkdir(parents = True, exist_ok = True)\n",
    "\n",
    "# model save path creation\n",
    "MODEL_NAME = \"01_pytorch_workflow_model_1.pth\"\n",
    "MODEL_SAVE_PATH = MODEL_PATH / MODEL_NAME\n",
    "\n",
    "# SAVE TH MODEL STATE DICT\n",
    "print(f\"Savd the model in: {MODEL_SAVE_PATH}\")\n",
    "# Saving the leaned params by the model via state_dict()\n",
    "torch.save(obj=model_1.state_dict(), f=MODEL_SAVE_PATH)"
   ]
  },
  {
   "cell_type": "code",
   "execution_count": 36,
   "id": "7f532d17-716a-4caf-b7c7-537fa332537a",
   "metadata": {},
   "outputs": [
    {
     "name": "stdout",
     "output_type": "stream",
     "text": [
      "Loaded model:\n",
      "LinearRegressionModelV2(\n",
      "  (linear_layer): Linear(in_features=1, out_features=1, bias=True)\n",
      ")\n",
      "Model on device:\n",
      "cuda:0\n"
     ]
    }
   ],
   "source": [
    "# Instantiate a new instance of V2\n",
    "loaded_model_1 = LinearRegressionModelV2()\n",
    "\n",
    "# Load the state_dict of the model\n",
    "loaded_model_1.load_state_dict(torch.load(MODEL_SAVE_PATH, weights_only = True))\n",
    "\n",
    "# put model to the target GPU device\n",
    "loaded_model_1.to(device)\n",
    "\n",
    "print(f\"Loaded model:\\n{loaded_model_1}\")\n",
    "print(f\"Model on device:\\n{next(loaded_model_1.parameters()).device}\")"
   ]
  },
  {
   "cell_type": "code",
   "execution_count": 37,
   "id": "ad2651a6-4253-449c-99b5-e277bb233457",
   "metadata": {},
   "outputs": [
    {
     "data": {
      "text/plain": [
       "tensor([[True],\n",
       "        [True],\n",
       "        [True],\n",
       "        [True],\n",
       "        [True],\n",
       "        [True],\n",
       "        [True],\n",
       "        [True],\n",
       "        [True],\n",
       "        [True]], device='cuda:0')"
      ]
     },
     "execution_count": 37,
     "metadata": {},
     "output_type": "execute_result"
    }
   ],
   "source": [
    "# Evaluating the loaded model\n",
    "loaded_model_1.eval()\n",
    "\n",
    "with torch.inference_mode():\n",
    "    loaded_model_1_preds = loaded_model_1(X_test)\n",
    "\n",
    "y_preds == loaded_model_1_preds"
   ]
  },
  {
   "cell_type": "markdown",
   "id": "2deee77e-5aac-4d27-811e-2abf0e2242d6",
   "metadata": {},
   "source": [
    "## Exercises"
   ]
  },
  {
   "cell_type": "code",
   "execution_count": 38,
   "id": "193505c9-987d-4b2a-9be7-489010413e7e",
   "metadata": {},
   "outputs": [],
   "source": [
    "import torch\n",
    "from torch import nn\n",
    "import matplotlib.pyplot as plt\n",
    "from pathlib import Path"
   ]
  },
  {
   "cell_type": "code",
   "execution_count": 39,
   "id": "4cf85912-aea1-42c3-bfe1-890e88f39ee1",
   "metadata": {},
   "outputs": [
    {
     "data": {
      "text/plain": [
       "'cuda'"
      ]
     },
     "execution_count": 39,
     "metadata": {},
     "output_type": "execute_result"
    }
   ],
   "source": [
    "device = \"cuda\" if torch.cuda.is_available() else \"cpu\"\n",
    "device"
   ]
  },
  {
   "cell_type": "code",
   "execution_count": 40,
   "id": "75e4815c-cbee-4a11-92e2-5d4ec4545e97",
   "metadata": {},
   "outputs": [
    {
     "name": "stdout",
     "output_type": "stream",
     "text": [
      "Number of X samples: 100\n",
      "Number of y samples: 100\n",
      "First 10 X & y samples: \n",
      "X: tensor([[0.0000],\n",
      "        [0.0100],\n",
      "        [0.0200],\n",
      "        [0.0300],\n",
      "        [0.0400],\n",
      "        [0.0500],\n",
      "        [0.0600],\n",
      "        [0.0700],\n",
      "        [0.0800],\n",
      "        [0.0900]])\n",
      "y: tensor([[0.9000],\n",
      "        [0.9030],\n",
      "        [0.9060],\n",
      "        [0.9090],\n",
      "        [0.9120],\n",
      "        [0.9150],\n",
      "        [0.9180],\n",
      "        [0.9210],\n",
      "        [0.9240],\n",
      "        [0.9270]])\n"
     ]
    }
   ],
   "source": [
    "weight = 0.3\n",
    "bias = 0.9\n",
    "\n",
    "X = torch.arange(0, 1, 0.01).unsqueeze(dim=1)\n",
    "y = weight * X + bias\n",
    "\n",
    "print(f\"Number of X samples: {len(X)}\")\n",
    "print(f\"Number of y samples: {len(y)}\")\n",
    "print(f\"First 10 X & y samples: \\nX: {X[:10]}\\ny: {y[:10]}\")"
   ]
  },
  {
   "cell_type": "code",
   "execution_count": 41,
   "id": "dc1d49f2-27e4-4527-bfce-7aabddad2c51",
   "metadata": {},
   "outputs": [
    {
     "data": {
      "text/plain": [
       "(80, 80, 20, 20)"
      ]
     },
     "execution_count": 41,
     "metadata": {},
     "output_type": "execute_result"
    }
   ],
   "source": [
    "split_ratio = int(0.8 * len(X))\n",
    "X_train = X[:split_ratio]\n",
    "y_train = y[:split_ratio]\n",
    "X_test = X[split_ratio:]\n",
    "y_test = y[split_ratio:]\n",
    "\n",
    "len(X_train), len(y_train), len(X_test), len(y_test)"
   ]
  },
  {
   "cell_type": "code",
   "execution_count": 42,
   "id": "1c425a85-e0de-4b80-a03e-981682987011",
   "metadata": {},
   "outputs": [],
   "source": [
    "def plot_predictions(x_train_ex = X_train, y_train_ex = y_train, x_test_ex = X_test, y_test_ex = y_test, predictions = None):\n",
    "    plt.figure(figsize=(10,7))\n",
    "    plt.scatter(x_train_ex, y_train_ex, c=\"g\", s=4, label = \"Train data\")\n",
    "    plt.scatter(x_test_ex, y_test_ex, c=\"b\", s=4, label = \"Test data\")\n",
    "\n",
    "    if predictions is not None:\n",
    "        plt.scatter(x_test_ex, predictions, c=\"r\", s=4, label = \"Predictions\")\n",
    "    plt.legend(prop = {\"size\" : 14})"
   ]
  },
  {
   "cell_type": "code",
   "execution_count": 43,
   "id": "48548c68-31d1-4941-917e-8231208353ce",
   "metadata": {},
   "outputs": [
    {
     "data": {
      "image/png": "[encoded data removed]",
      "text/plain": [
       "<Figure size 1000x700 with 1 Axes>"
      ]
     },
     "metadata": {},
     "output_type": "display_data"
    }
   ],
   "source": [
    "plot_predictions()"
   ]
  },
  {
   "cell_type": "code",
   "execution_count": 44,
   "id": "9e154e5e-2b49-4688-b184-d6df25d103b1",
   "metadata": {},
   "outputs": [],
   "source": [
    "torch.manual_seed(7)\n",
    "class LinearRegressionModelEX(nn.Module):\n",
    "    def __init__(self):\n",
    "        super().__init__()\n",
    "        self.weights = nn.Parameter(torch.randn(1, dtype=torch.float), requires_grad = True)\n",
    "        self.bias = nn.Parameter(torch.randn(1, dtype = torch.float), requires_grad = True)\n",
    "\n",
    "    def forward(self, x: torch.Tensor) -> torch.Tensor:\n",
    "        return self.weights * x + self.bias"
   ]
  },
  {
   "cell_type": "code",
   "execution_count": 45,
   "id": "dbb74d76-7737-4e37-967e-5968dce920f2",
   "metadata": {},
   "outputs": [
    {
     "name": "stdout",
     "output_type": "stream",
     "text": [
      "OrderedDict([('weights', tensor([-0.1468])), ('bias', tensor([0.7861]))])\n",
      "cpu\n",
      "LinearRegressionModelEX()\n",
      "cuda:0\n"
     ]
    }
   ],
   "source": [
    "model_ex = LinearRegressionModelEX()\n",
    "pprint(model_ex.state_dict())\n",
    "print(next(model_ex.parameters()).device)\n",
    "print(model_ex.to(device))\n",
    "print(next(model_ex.parameters()).device)"
   ]
  },
  {
   "cell_type": "code",
   "execution_count": 46,
   "id": "0aaf0516-c887-4c6e-b024-8b0463d0596d",
   "metadata": {},
   "outputs": [],
   "source": [
    "loss_fn_ex = nn.L1Loss()\n",
    "optimizer_ex = torch.optim.SGD(params = model_ex.parameters(), lr = 0.01)"
   ]
  },
  {
   "cell_type": "code",
   "execution_count": 47,
   "id": "f22e950b-040b-4e33-86a9-fa09b44f8a2f",
   "metadata": {},
   "outputs": [
    {
     "name": "stdout",
     "output_type": "stream",
     "text": [
      "Epoch: 0 | Train loss: 0.290 | Test loss: 0.500\n",
      "Epoch: 20 | Train loss: 0.095 | Test loss: 0.255\n",
      "Epoch: 40 | Train loss: 0.063 | Test loss: 0.160\n",
      "Epoch: 60 | Train loss: 0.055 | Test loss: 0.130\n",
      "Epoch: 80 | Train loss: 0.048 | Test loss: 0.113\n",
      "Epoch: 100 | Train loss: 0.041 | Test loss: 0.097\n",
      "Epoch: 120 | Train loss: 0.034 | Test loss: 0.080\n",
      "Epoch: 140 | Train loss: 0.027 | Test loss: 0.064\n",
      "Epoch: 160 | Train loss: 0.021 | Test loss: 0.048\n",
      "Epoch: 180 | Train loss: 0.014 | Test loss: 0.032\n",
      "Epoch: 200 | Train loss: 0.007 | Test loss: 0.015\n",
      "Epoch: 220 | Train loss: 0.007 | Test loss: 0.004\n",
      "Epoch: 240 | Train loss: 0.007 | Test loss: 0.004\n",
      "Epoch: 260 | Train loss: 0.007 | Test loss: 0.004\n",
      "Epoch: 280 | Train loss: 0.007 | Test loss: 0.004\n"
     ]
    }
   ],
   "source": [
    "epochs = 300\n",
    "\n",
    "X_train = X_train.to(device)\n",
    "y_train = y_train.to(device)\n",
    "X_test = X_test.to(device)\n",
    "y_test = y_test.to(device)\n",
    "\n",
    "for epoch in range(epochs):\n",
    "    model_ex.train()\n",
    "    y_pred_ex = model_ex(X_train)\n",
    "    loss_ex = loss_fn(y_pred_ex, y_train)\n",
    "    optimizer_ex.zero_grad()\n",
    "    loss_ex.backward()\n",
    "    optimizer_ex.step()\n",
    "\n",
    "    if epoch % 20 == 0:\n",
    "        model_ex.eval()\n",
    "        with torch.inference_mode():\n",
    "            test_pred_ex = model_ex(X_test)\n",
    "            test_loss_ex = loss_fn(test_pred_ex, y_test)\n",
    "\n",
    "            print(f\"Epoch: {epoch} | Train loss: {loss_ex:.3f} | Test loss: {test_loss_ex:.3f}\")"
   ]
  },
  {
   "cell_type": "code",
   "execution_count": 48,
   "id": "eb23bd33-6174-486e-8045-f37bf9574fce",
   "metadata": {},
   "outputs": [
    {
     "name": "stdout",
     "output_type": "stream",
     "text": [
      "Learned model params\n",
      "OrderedDict([('weights', tensor([0.2931], device='cuda:0')),\n",
      "             ('bias', tensor([0.8961], device='cuda:0'))])\n",
      "Original hard-coded params-> weight: 0.3, bias: 0.9\n"
     ]
    }
   ],
   "source": [
    "print(\"Learned model params\")\n",
    "pprint(model_ex.state_dict())\n",
    "print(f\"Original hard-coded params-> weight: {weight}, bias: {bias}\")"
   ]
  },
  {
   "cell_type": "code",
   "execution_count": 49,
   "id": "6973f078-4865-4cfc-b205-6b87160f92df",
   "metadata": {},
   "outputs": [
    {
     "data": {
      "text/plain": [
       "tensor([[1.1306],\n",
       "        [1.1336],\n",
       "        [1.1365],\n",
       "        [1.1394],\n",
       "        [1.1424],\n",
       "        [1.1453],\n",
       "        [1.1482],\n",
       "        [1.1512],\n",
       "        [1.1541],\n",
       "        [1.1570],\n",
       "        [1.1599],\n",
       "        [1.1629],\n",
       "        [1.1658],\n",
       "        [1.1687],\n",
       "        [1.1717],\n",
       "        [1.1746],\n",
       "        [1.1775],\n",
       "        [1.1805],\n",
       "        [1.1834],\n",
       "        [1.1863]], device='cuda:0')"
      ]
     },
     "execution_count": 49,
     "metadata": {},
     "output_type": "execute_result"
    }
   ],
   "source": [
    "model_ex.eval()\n",
    "with torch.inference_mode():\n",
    "    y_preds = model_ex(X_test)\n",
    "y_preds"
   ]
  },
  {
   "cell_type": "code",
   "execution_count": 50,
   "id": "084e0ad2-cbac-4bf8-884c-b13bf1df067a",
   "metadata": {},
   "outputs": [
    {
     "data": {
      "image/png": "[encoded data removed]",
      "text/plain": [
       "<Figure size 1000x700 with 1 Axes>"
      ]
     },
     "metadata": {},
     "output_type": "display_data"
    }
   ],
   "source": [
    "plot_predictions(predictions = y_preds.cpu())"
   ]
  },
  {
   "cell_type": "code",
   "execution_count": 51,
   "id": "8028297a-ba9b-4ea0-8f65-85d674130f0f",
   "metadata": {},
   "outputs": [
    {
     "name": "stdout",
     "output_type": "stream",
     "text": [
      " Volume in drive C is Windows-SSD\n",
      " Volume Serial Number is 284D-8FBA\n",
      "\n",
      " Directory of C:\\Users\\ritis\\Desktop\\PyTorch-Learning\\models\n",
      "\n",
      "29-07-2025  21:03    <DIR>          .\n",
      "29-07-2025  21:39    <DIR>          ..\n",
      "29-07-2025  21:39             1,680 01_pytorch_workflow_model_0.pth\n",
      "29-07-2025  21:39             1,744 01_pytorch_workflow_model_1.pth\n",
      "29-07-2025  21:39             1,732 01_pytrch_wrkflw_model_ex.pth\n",
      "               3 File(s)          5,156 bytes\n",
      "               2 Dir(s)  32,405,336,064 bytes free\n"
     ]
    }
   ],
   "source": [
    "MODEL_PATH_EX = Path(\"models\")\n",
    "MODEL_PATH_EX.mkdir(parents = True, exist_ok = True)\n",
    "\n",
    "MODEL_NAME_EX = \"01_pytrch_wrkflw_model_ex.pth\"\n",
    "MODEL_SAVE_PATH_EX = MODEL_PATH_EX /MODEL_NAME_EX\n",
    "\n",
    "torch.save(obj=model_ex.state_dict(), f=MODEL_SAVE_PATH_EX)\n",
    "\n",
    "!dir models"
   ]
  },
  {
   "cell_type": "code",
   "execution_count": 52,
   "id": "718b28c3-39c7-4de0-8fc9-fc734f344690",
   "metadata": {},
   "outputs": [
    {
     "data": {
      "text/plain": [
       "LinearRegressionModelEX()"
      ]
     },
     "execution_count": 52,
     "metadata": {},
     "output_type": "execute_result"
    }
   ],
   "source": [
    "loaded_model_ex = LinearRegressionModelEX()\n",
    "loaded_model_ex.load_state_dict(torch.load(MODEL_SAVE_PATH_EX, weights_only = True))\n",
    "loaded_model_ex.to(device)"
   ]
  },
  {
   "cell_type": "code",
   "execution_count": 53,
   "id": "490b1fcc-1589-434a-864d-3f3df60959b5",
   "metadata": {},
   "outputs": [
    {
     "data": {
      "text/plain": [
       "tensor([[True],\n",
       "        [True],\n",
       "        [True],\n",
       "        [True],\n",
       "        [True],\n",
       "        [True],\n",
       "        [True],\n",
       "        [True],\n",
       "        [True],\n",
       "        [True],\n",
       "        [True],\n",
       "        [True],\n",
       "        [True],\n",
       "        [True],\n",
       "        [True],\n",
       "        [True],\n",
       "        [True],\n",
       "        [True],\n",
       "        [True],\n",
       "        [True]], device='cuda:0')"
      ]
     },
     "execution_count": 53,
     "metadata": {},
     "output_type": "execute_result"
    }
   ],
   "source": [
    "loaded_model_ex.eval()\n",
    "with torch.inference_mode():\n",
    "    loaded_model_preds_ex = loaded_model_ex(X_test)\n",
    "\n",
    "y_preds == loaded_model_preds_ex"
   ]
  },
  {
   "cell_type": "code",
   "execution_count": 54,
   "id": "1c0f76e6-bf2a-400d-ab46-d3ff6b0e1f29",
   "metadata": {},
   "outputs": [
    {
     "data": {
      "image/png": "[encoded data removed]",
      "text/plain": [
       "<Figure size 1000x700 with 1 Axes>"
      ]
     },
     "metadata": {},
     "output_type": "display_data"
    }
   ],
   "source": [
    "plot_predictions(predictions = loaded_model_preds_ex.cpu())"
   ]
  },
  {
   "cell_type": "code",
   "execution_count": 55,
   "id": "bb595184-6618-42c1-8045-3bcd8ceba088",
   "metadata": {},
   "outputs": [
    {
     "data": {
      "text/plain": [
       "OrderedDict([('weights', tensor([0.2931], device='cuda:0')),\n",
       "             ('bias', tensor([0.8961], device='cuda:0'))])"
      ]
     },
     "execution_count": 55,
     "metadata": {},
     "output_type": "execute_result"
    }
   ],
   "source": [
    "loaded_model_ex.state_dict()"
   ]
  },
  {
   "cell_type": "code",
   "execution_count": null,
   "id": "181276a9-c069-4ec8-96bb-6795d147c7a5",
   "metadata": {},
   "outputs": [],
   "source": []
  }
 ],
 "metadata": {
  "kernelspec": {
   "display_name": "Python (pytorch-env)",
   "language": "python",
   "name": "pytorch-env"
  },
  "language_info": {
   "codemirror_mode": {
    "name": "ipython",
    "version": 3
   },
   "file_extension": ".py",
   "mimetype": "text/x-python",
   "name": "python",
   "nbconvert_exporter": "python",
   "pygments_lexer": "ipython3",
   "version": "3.11.13"
  }
 },
 "nbformat": 4,
 "nbformat_minor": 5
}
