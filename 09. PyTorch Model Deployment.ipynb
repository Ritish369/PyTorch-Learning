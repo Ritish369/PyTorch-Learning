{
 "cells": [
  {
   "cell_type": "markdown",
   "id": "8dc0ac76-73e3-481e-bb48-ea4bfcdd9637",
   "metadata": {},
   "source": [
    "**Deploying the FoodVision Mini model to the internet as a usable app.**"
   ]
  },
  {
   "cell_type": "markdown",
   "id": "7e8f99a5-527a-4cec-b3f4-3cb0fee5c77a",
   "metadata": {},
   "source": [
    "![What is ML deployment ?](https://raw.githubusercontent.com/mrdbourke/pytorch-deep-learning/main/images/09-what-is-model-deployment-someone-or-something-else.png)"
   ]
  },
  {
   "cell_type": "markdown",
   "id": "a0ad1976-bed4-4732-932e-db903c1ac414",
   "metadata": {},
   "source": [
    "*Machine learning model deployment involves making your model available to someone or something else. For example, someone might use your model as part of a food recognition app (such as FoodVision Mini or Nutrify). And something else might be another model or program using your model such as a banking system using a machine learning model to detect if a transaction is fraud or not.*"
   ]
  },
  {
   "cell_type": "markdown",
   "id": "77bd424e-206c-4fff-b3c2-ca3f2ed4929d",
   "metadata": {},
   "source": [
    "**Deploying a model is as important as training one.**"
   ]
  },
  {
   "cell_type": "markdown",
   "id": "fe824495-f87e-4290-b1df-d303b473a980",
   "metadata": {},
   "source": [
    "Because of this philosophical question:\n",
    "\n",
    "![Why deploy an ML model ?](https://raw.githubusercontent.com/mrdbourke/pytorch-deep-learning/main/images/09-does-it-exist.jpeg)"
   ]
  },
  {
   "cell_type": "markdown",
   "id": "61d646f6-a652-4275-a4cd-a3b1392e89a2",
   "metadata": {},
   "source": [
    "Model deployment also helps figure out errors in the model thar are not obvious during training/testing. This is why it is important."
   ]
  },
  {
   "cell_type": "markdown",
   "id": "fb2bffa0-ecea-4fbf-927b-4f7469a16745",
   "metadata": {},
   "source": [
    "![Complete ML lifecycle with deployment](https://raw.githubusercontent.com/mrdbourke/pytorch-deep-learning/main/images/09-pytorch-workflow-with-deployment.png)"
   ]
  },
  {
   "cell_type": "markdown",
   "id": "a9a0cfbe-3d27-4b05-a8d4-10f78a44d4d7",
   "metadata": {},
   "source": [
    "*Deployment is a good next step after getting a good model. Monitoring involves seeing how the model goes on the most important data split: data from the real world.*"
   ]
  },
  {
   "cell_type": "markdown",
   "id": "4096a2d3-282f-46b1-9497-611f7b0e43e0",
   "metadata": {},
   "source": [
    "### Different types of ML model deployment"
   ]
  },
  {
   "cell_type": "markdown",
   "id": "1dcf1da6-8636-4e4f-a307-b88307999b55",
   "metadata": {},
   "source": [
    "Good to ask the question:\n",
    "**What is the most ideal scenario for the ML model to be used ?**"
   ]
  },
  {
   "cell_type": "markdown",
   "id": "05e143aa-a218-4ecf-8ae1-7e2cd39db617",
   "metadata": {},
   "source": [
    "And then work backwards from there."
   ]
  },
  {
   "cell_type": "markdown",
   "id": "70cc281b-9653-46c7-9c31-e8cc88e171ff",
   "metadata": {},
   "source": [
    "![Thoughts of ML deployment](https://raw.githubusercontent.com/mrdbourke/pytorch-deep-learning/main/images/09-deployment-questions-to-ask.png)"
   ]
  },
  {
   "cell_type": "markdown",
   "id": "c124fc06-d49b-4651-a089-a38e11539045",
   "metadata": {},
   "source": [
    "**So, for FoodVision Mini, the deployment will be done On-device (edge). Also, its inference pipeline will happen online (immediately) and its training pipeline will happen offline (batch).**"
   ]
  },
  {
   "cell_type": "markdown",
   "id": "f1f78af0-ee6d-4110-9e0c-5d614830181c",
   "metadata": {},
   "source": [
    "![Ways to deploy an ML model](https://raw.githubusercontent.com/mrdbourke/pytorch-deep-learning/main/images/09-tools-and-places-to-deploy-ml-models.png)"
   ]
  },
  {
   "cell_type": "markdown",
   "id": "4cc9bd23-7af2-4f37-901f-b200f93ba608",
   "metadata": {},
   "source": [
    "The goal is to deploy the FoodVision Mini model via a demo Gradio app with the following metrics:\n",
    "\n",
    "    1. Performance: 95%+ accuracy.\n",
    "    2. Speed: real-time inference of 30FPS+ (each pred has a latency of lower than 0.03 secs)."
   ]
  },
  {
   "cell_type": "markdown",
   "id": "8990c851-046b-4578-83cd-6fef37a2ea4a",
   "metadata": {},
   "source": [
    "### 0. Getting Setup"
   ]
  },
  {
   "cell_type": "code",
   "execution_count": 1,
   "id": "e81fd754-53a8-47d4-9761-4a7bbc1536e9",
   "metadata": {},
   "outputs": [
    {
     "name": "stderr",
     "output_type": "stream",
     "text": [
      "C:\\Users\\ritis\\Desktop\\PyTorch-Learning\\pytorch-env\\Lib\\site-packages\\tqdm\\auto.py:21: TqdmWarning: IProgress not found. Please update jupyter and ipywidgets. See https://ipywidgets.readthedocs.io/en/stable/user_install.html\n",
      "  from .autonotebook import tqdm as notebook_tqdm\n"
     ]
    }
   ],
   "source": [
    "import torch\n",
    "from torch import nn\n",
    "import torchvision\n",
    "from torchvision import transforms\n",
    "from torchinfo import summary\n",
    "\n",
    "import matplotlib.pyplot as plt\n",
    "\n",
    "from going_modular import data_setup, engine\n",
    "from helper_functions import set_seeds, download_data, plot_loss_curves"
   ]
  },
  {
   "cell_type": "code",
   "execution_count": 2,
   "id": "b502c8db-f40c-4b16-843c-386683ea4758",
   "metadata": {},
   "outputs": [
    {
     "data": {
      "text/plain": [
       "'cuda'"
      ]
     },
     "execution_count": 2,
     "metadata": {},
     "output_type": "execute_result"
    }
   ],
   "source": [
    "# Setup device agnostic code\n",
    "device = \"cuda\" if torch.cuda.is_available() else \"cpu\"\n",
    "device"
   ]
  },
  {
   "cell_type": "markdown",
   "id": "32655153-dc4c-4609-8c1a-0e77cd8dd080",
   "metadata": {},
   "source": [
    "### 1. Getting data"
   ]
  },
  {
   "cell_type": "markdown",
   "id": "0d519db4-31c4-4dec-8030-a14cf5ae4f81",
   "metadata": {},
   "source": [
    "Will be using 20% of pizza, steak and sushi images from Food101 dataset. So that the two best models can be compared effectively and fairly. This is done in order to be able to deploy the best model."
   ]
  },
  {
   "cell_type": "code",
   "execution_count": 3,
   "id": "89d59ae9-598f-4f13-9a88-29ef8fe1cbe4",
   "metadata": {},
   "outputs": [
    {
     "name": "stdout",
     "output_type": "stream",
     "text": [
      "[INFO] data\\pizza_steak_sushi_20_percent directory exists, skipping download.\n"
     ]
    },
    {
     "data": {
      "text/plain": [
       "WindowsPath('data/pizza_steak_sushi_20_percent')"
      ]
     },
     "execution_count": 3,
     "metadata": {},
     "output_type": "execute_result"
    }
   ],
   "source": [
    "# Download the respective images dataset\n",
    "data_20_percent_path = download_data(source=\"https://github.com/mrdbourke/pytorch-deep-learning/raw/main/data/pizza_steak_sushi_20_percent.zip\",\n",
    "                                    destination=\"pizza_steak_sushi_20_percent\")\n",
    "\n",
    "data_20_percent_path"
   ]
  },
  {
   "cell_type": "code",
   "execution_count": 4,
   "id": "4ba1d31a-350a-452b-9a3d-788587986d1a",
   "metadata": {},
   "outputs": [],
   "source": [
    "# Setup directory paths to train and test images\n",
    "train_dir = data_20_percent_path / \"train\"\n",
    "test_dir = data_20_percent_path / \"test\""
   ]
  },
  {
   "cell_type": "markdown",
   "id": "eaa86e8a-997e-48e6-a414-c8e5f789d927",
   "metadata": {},
   "source": [
    "### 2. FoodVision Mini model deployment experiment outline"
   ]
  },
  {
   "cell_type": "markdown",
   "id": "c23fb7c8-905b-4354-bc9c-b11288935ac8",
   "metadata": {},
   "source": [
    "The deployment goals are:\n",
    "![title](https://raw.githubusercontent.com/mrdbourke/pytorch-deep-learning/main/images/09-model-deployments-speed-vs-inference.png)"
   ]
  },
  {
   "cell_type": "markdown",
   "id": "9f69d535-a6b0-4825-b040-2cf02cd20bde",
   "metadata": {},
   "source": [
    "A fast predicting well-performing model."
   ]
  },
  {
   "cell_type": "markdown",
   "id": "954de8df-775a-43b7-9d3d-b22fea890956",
   "metadata": {},
   "source": [
    "However, an emphasis will be on speed because prefer a model performing at 90%+ accuracy at ~30FPS than a model performing 95%+ accuracy at 10FPS."
   ]
  },
  {
   "cell_type": "markdown",
   "id": "3119e042-8715-4fb4-8d34-625d0315f536",
   "metadata": {},
   "source": [
    "To achieve these results, bringing in the best performing models from previous sections:\n",
    "\n",
    "![title](https://raw.githubusercontent.com/mrdbourke/pytorch-deep-learning/main/images/09-model-deployment-two-experiments.png)"
   ]
  },
  {
   "cell_type": "markdown",
   "id": "f65472c7-bd79-44b5-8f09-acedf6274e08",
   "metadata": {},
   "source": [
    "A **feature extractor model** often starts with a model that has been pretrained on a dataset similar to the considered problem right now. Its base layers are often left frozen whilest some of the top layers get customized to the problem at hand by training on one's own data."
   ]
  },
  {
   "cell_type": "markdown",
   "id": "117fa5c6-093f-41f4-be6f-d34b9fb651fb",
   "metadata": {},
   "source": [
    "### 3. Creating an EffNetB2 feature extractor"
   ]
  },
  {
   "cell_type": "code",
   "execution_count": 5,
   "id": "daa9dedf-7941-4aff-a8e1-336471bf1f02",
   "metadata": {},
   "outputs": [],
   "source": [
    "# 1. Setup the pretrained EffNetB2 model weights\n",
    "eff_weights = torchvision.models.EfficientNet_B2_Weights.DEFAULT\n",
    "\n",
    "# 2. Get the pretrained model's input imagees transforms to apply on the custom data\n",
    "eff_transforms = eff_weights.transforms()\n",
    "\n",
    "# 3. Create an instance of the pretrained EffNetB2 model and pass the pretrained weights to it\n",
    "effnetb2 = torchvision.models.efficientnet_b2(weights=eff_weights)\n",
    "\n",
    "# 4. Freeze the base layers of the model\n",
    "for param in effnetb2.parameters():\n",
    "    param.requires_grad = False"
   ]
  },
  {
   "cell_type": "code",
   "execution_count": 6,
   "id": "5828cb62-55dc-4ba6-9c48-354249db0c29",
   "metadata": {},
   "outputs": [
    {
     "data": {
      "text/plain": [
       "Sequential(\n",
       "  (0): Dropout(p=0.3, inplace=True)\n",
       "  (1): Linear(in_features=1408, out_features=1000, bias=True)\n",
       ")"
      ]
     },
     "execution_count": 6,
     "metadata": {},
     "output_type": "execute_result"
    }
   ],
   "source": [
    "# Inspect the model's classifier attribute before updating it for making the feature extractor model\n",
    "effnetb2.classifier"
   ]
  },
  {
   "cell_type": "code",
   "execution_count": 7,
   "id": "cc3acfde-53b0-427e-b1bd-66751cde3f7a",
   "metadata": {},
   "outputs": [],
   "source": [
    "# 5. Update the classifier head to suit the current problem at hand i.e., to change the out_features value to 3 for 3 classes\n",
    "effnetb2.classifier = nn.Sequential(\n",
    "    nn.Dropout(p=0.3, inplace=True), # Keep dropout layer same\n",
    "    nn.Linear(in_features=1408, out_features=3) # Change in out_features\n",
    ")"
   ]
  },
  {
   "cell_type": "markdown",
   "id": "a1a434fc-8620-4c48-a8fa-0cf2f495c816",
   "metadata": {},
   "source": [
    "#### 3.1 Creating a function to make an EffNetB2 feature extractor"
   ]
  },
  {
   "cell_type": "code",
   "execution_count": 8,
   "id": "f223c0a3-a06d-41e8-844c-0fd03ad297ef",
   "metadata": {},
   "outputs": [],
   "source": [
    "# Functionalize the EffNetB2 feature extractor model creation\n",
    "def create_effnetb2_model(num_classes: int=3, seed: int=42):\n",
    "    \"\"\"Creates an EfficientNetB2 feature extractor model and its transforms.\n",
    "    Returns the model and transforms.\n",
    "    \"\"\"\n",
    "    # 1, 2, 3 Steps here\n",
    "    weights = torchvision.models.EfficientNet_B2_Weights.DEFAULT\n",
    "    transforms = weights.transforms()\n",
    "    model = torchvision.models.efficientnet_b2(weights=weights)\n",
    "\n",
    "    # Step 4\n",
    "    for param in model.parameters():\n",
    "        param.requires_grad = False\n",
    "\n",
    "    # Step 5\n",
    "    model.classifier = nn.Sequential(\n",
    "        nn.Dropout(p=0.3, inplace=True),\n",
    "        nn.Linear(in_features=1408, out_features=num_classes)\n",
    "    )\n",
    "\n",
    "    return model, transforms"
   ]
  },
  {
   "cell_type": "code",
   "execution_count": 9,
   "id": "bae0b3d3-1581-49cd-84e2-afff110f3dfb",
   "metadata": {},
   "outputs": [],
   "source": [
    "effnetb2, effnetb2_transforms = create_effnetb2_model(num_classes=3, seed=42)"
   ]
  },
  {
   "cell_type": "code",
   "execution_count": 10,
   "id": "9d7fa543-c2bf-4241-a119-c8dabe32a5bc",
   "metadata": {},
   "outputs": [
    {
     "data": {
      "text/plain": [
       "============================================================================================================================================\n",
       "Layer (type (var_name))                                      Input Shape          Output Shape         Param #              Trainable\n",
       "============================================================================================================================================\n",
       "EfficientNet (EfficientNet)                                  [1, 3, 224, 224]     [1, 3]               --                   Partial\n",
       "├─Sequential (features)                                      [1, 3, 224, 224]     [1, 1408, 7, 7]      --                   False\n",
       "│    └─Conv2dNormActivation (0)                              [1, 3, 224, 224]     [1, 32, 112, 112]    --                   False\n",
       "│    │    └─Conv2d (0)                                       [1, 3, 224, 224]     [1, 32, 112, 112]    (864)                False\n",
       "│    │    └─BatchNorm2d (1)                                  [1, 32, 112, 112]    [1, 32, 112, 112]    (64)                 False\n",
       "│    │    └─SiLU (2)                                         [1, 32, 112, 112]    [1, 32, 112, 112]    --                   --\n",
       "│    └─Sequential (1)                                        [1, 32, 112, 112]    [1, 16, 112, 112]    --                   False\n",
       "│    │    └─MBConv (0)                                       [1, 32, 112, 112]    [1, 16, 112, 112]    (1,448)              False\n",
       "│    │    └─MBConv (1)                                       [1, 16, 112, 112]    [1, 16, 112, 112]    (612)                False\n",
       "│    └─Sequential (2)                                        [1, 16, 112, 112]    [1, 24, 56, 56]      --                   False\n",
       "│    │    └─MBConv (0)                                       [1, 16, 112, 112]    [1, 24, 56, 56]      (6,004)              False\n",
       "│    │    └─MBConv (1)                                       [1, 24, 56, 56]      [1, 24, 56, 56]      (10,710)             False\n",
       "│    │    └─MBConv (2)                                       [1, 24, 56, 56]      [1, 24, 56, 56]      (10,710)             False\n",
       "│    └─Sequential (3)                                        [1, 24, 56, 56]      [1, 48, 28, 28]      --                   False\n",
       "│    │    └─MBConv (0)                                       [1, 24, 56, 56]      [1, 48, 28, 28]      (16,518)             False\n",
       "│    │    └─MBConv (1)                                       [1, 48, 28, 28]      [1, 48, 28, 28]      (43,308)             False\n",
       "│    │    └─MBConv (2)                                       [1, 48, 28, 28]      [1, 48, 28, 28]      (43,308)             False\n",
       "│    └─Sequential (4)                                        [1, 48, 28, 28]      [1, 88, 14, 14]      --                   False\n",
       "│    │    └─MBConv (0)                                       [1, 48, 28, 28]      [1, 88, 14, 14]      (50,300)             False\n",
       "│    │    └─MBConv (1)                                       [1, 88, 14, 14]      [1, 88, 14, 14]      (123,750)            False\n",
       "│    │    └─MBConv (2)                                       [1, 88, 14, 14]      [1, 88, 14, 14]      (123,750)            False\n",
       "│    │    └─MBConv (3)                                       [1, 88, 14, 14]      [1, 88, 14, 14]      (123,750)            False\n",
       "│    └─Sequential (5)                                        [1, 88, 14, 14]      [1, 120, 14, 14]     --                   False\n",
       "│    │    └─MBConv (0)                                       [1, 88, 14, 14]      [1, 120, 14, 14]     (149,158)            False\n",
       "│    │    └─MBConv (1)                                       [1, 120, 14, 14]     [1, 120, 14, 14]     (237,870)            False\n",
       "│    │    └─MBConv (2)                                       [1, 120, 14, 14]     [1, 120, 14, 14]     (237,870)            False\n",
       "│    │    └─MBConv (3)                                       [1, 120, 14, 14]     [1, 120, 14, 14]     (237,870)            False\n",
       "│    └─Sequential (6)                                        [1, 120, 14, 14]     [1, 208, 7, 7]       --                   False\n",
       "│    │    └─MBConv (0)                                       [1, 120, 14, 14]     [1, 208, 7, 7]       (301,406)            False\n",
       "│    │    └─MBConv (1)                                       [1, 208, 7, 7]       [1, 208, 7, 7]       (686,868)            False\n",
       "│    │    └─MBConv (2)                                       [1, 208, 7, 7]       [1, 208, 7, 7]       (686,868)            False\n",
       "│    │    └─MBConv (3)                                       [1, 208, 7, 7]       [1, 208, 7, 7]       (686,868)            False\n",
       "│    │    └─MBConv (4)                                       [1, 208, 7, 7]       [1, 208, 7, 7]       (686,868)            False\n",
       "│    └─Sequential (7)                                        [1, 208, 7, 7]       [1, 352, 7, 7]       --                   False\n",
       "│    │    └─MBConv (0)                                       [1, 208, 7, 7]       [1, 352, 7, 7]       (846,900)            False\n",
       "│    │    └─MBConv (1)                                       [1, 352, 7, 7]       [1, 352, 7, 7]       (1,888,920)          False\n",
       "│    └─Conv2dNormActivation (8)                              [1, 352, 7, 7]       [1, 1408, 7, 7]      --                   False\n",
       "│    │    └─Conv2d (0)                                       [1, 352, 7, 7]       [1, 1408, 7, 7]      (495,616)            False\n",
       "│    │    └─BatchNorm2d (1)                                  [1, 1408, 7, 7]      [1, 1408, 7, 7]      (2,816)              False\n",
       "│    │    └─SiLU (2)                                         [1, 1408, 7, 7]      [1, 1408, 7, 7]      --                   --\n",
       "├─AdaptiveAvgPool2d (avgpool)                                [1, 1408, 7, 7]      [1, 1408, 1, 1]      --                   --\n",
       "├─Sequential (classifier)                                    [1, 1408]            [1, 3]               --                   True\n",
       "│    └─Dropout (0)                                           [1, 1408]            [1, 1408]            --                   --\n",
       "│    └─Linear (1)                                            [1, 1408]            [1, 3]               4,227                True\n",
       "============================================================================================================================================\n",
       "Total params: 7,705,221\n",
       "Trainable params: 4,227\n",
       "Non-trainable params: 7,700,994\n",
       "Total mult-adds (Units.MEGABYTES): 657.64\n",
       "============================================================================================================================================\n",
       "Input size (MB): 0.60\n",
       "Forward/backward pass size (MB): 156.80\n",
       "Params size (MB): 30.82\n",
       "Estimated Total Size (MB): 188.22\n",
       "============================================================================================================================================"
      ]
     },
     "execution_count": 10,
     "metadata": {},
     "output_type": "execute_result"
    }
   ],
   "source": [
    "# Get a summary of the model created using its respective function\n",
    "summary(model=effnetb2, input_size=(1, 3, 224, 224), col_names=[\"input_size\", \"output_size\", \"num_params\", \"trainable\"],\n",
    "       col_width=20, row_settings=[\"var_names\"])"
   ]
  },
  {
   "cell_type": "markdown",
   "id": "b0038306-254b-47a2-bef9-5dadc335ad40",
   "metadata": {},
   "source": [
    "#### 3.2 Creating DataLoaders for EffNetB2"
   ]
  },
  {
   "cell_type": "markdown",
   "id": "0c98cce9-c732-4d48-8d52-8c825602e662",
   "metadata": {},
   "source": [
    "EffNetB2 feature extractor is ready. Create DataLoaders now."
   ]
  },
  {
   "cell_type": "code",
   "execution_count": 11,
   "id": "ab0940eb-f01c-4715-bd88-30546f8cd089",
   "metadata": {},
   "outputs": [],
   "source": [
    "train_dataloader_effnetb2, test_dataloader_effnetb2, class_names = data_setup.create_dataloaders(train_dir=train_dir, test_dir=test_dir, transform=effnetb2_transforms, batch_size=32)"
   ]
  },
  {
   "cell_type": "markdown",
   "id": "903ba0fe-d6d8-44df-a907-8186ed628d4b",
   "metadata": {},
   "source": [
    "#### 3.3 Training EffNetB2 feature extractor"
   ]
  },
  {
   "cell_type": "markdown",
   "id": "2ace3c99-9c40-4195-afad-fa961c4f0392",
   "metadata": {},
   "source": [
    "Model and DataLoaders both are ready. Now is the time to train it."
   ]
  },
  {
   "cell_type": "code",
   "execution_count": 12,
   "id": "2d28b38a-0d13-44d0-82bc-e9b9fca7e909",
   "metadata": {},
   "outputs": [],
   "source": [
    "torch.cuda.empty_cache()"
   ]
  },
  {
   "cell_type": "code",
   "execution_count": 13,
   "id": "a133b690-f9f8-4c12-b3b3-b5b2a7a96acd",
   "metadata": {},
   "outputs": [
    {
     "name": "stderr",
     "output_type": "stream",
     "text": [
      "  0%|                                                                                           | 0/10 [00:00<?, ?it/s]"
     ]
    },
    {
     "name": "stdout",
     "output_type": "stream",
     "text": [
      "\n",
      "Epoch: 1 | train_loss: 0.9657 | train_acc: 0.5854 | test_loss: 0.7432 | test_acc: 0.9472\n"
     ]
    },
    {
     "name": "stderr",
     "output_type": "stream",
     "text": [
      " 20%|████████████████▍                                                                 | 2/10 [12:38<47:43, 357.89s/it]"
     ]
    },
    {
     "name": "stdout",
     "output_type": "stream",
     "text": [
      "\n",
      "Epoch: 2 | train_loss: 0.6963 | train_acc: 0.8625 | test_loss: 0.5966 | test_acc: 0.9688\n"
     ]
    },
    {
     "name": "stderr",
     "output_type": "stream",
     "text": [
      " 30%|████████████████████████▌                                                         | 3/10 [14:00<27:05, 232.27s/it]"
     ]
    },
    {
     "name": "stdout",
     "output_type": "stream",
     "text": [
      "\n",
      "Epoch: 3 | train_loss: 0.5819 | train_acc: 0.8667 | test_loss: 0.4991 | test_acc: 0.9625\n",
      "\n",
      "Epoch: 4 | train_loss: 0.4510 | train_acc: 0.9062 | test_loss: 0.4385 | test_acc: 0.9500\n"
     ]
    },
    {
     "name": "stderr",
     "output_type": "stream",
     "text": [
      " 40%|████████████████████████████████▊                                                 | 4/10 [16:09<19:06, 191.14s/it]"
     ]
    },
    {
     "name": "stdout",
     "output_type": "stream",
     "text": [
      "\n",
      "Epoch: 5 | train_loss: 0.4323 | train_acc: 0.9042 | test_loss: 0.3932 | test_acc: 0.9409\n"
     ]
    },
    {
     "name": "stderr",
     "output_type": "stream",
     "text": [
      " 60%|█████████████████████████████████████████████████▏                                | 6/10 [17:47<07:09, 107.42s/it]"
     ]
    },
    {
     "name": "stdout",
     "output_type": "stream",
     "text": [
      "\n",
      "Epoch: 6 | train_loss: 0.4239 | train_acc: 0.8896 | test_loss: 0.3540 | test_acc: 0.9688\n",
      "\n",
      "Epoch: 7 | train_loss: 0.4209 | train_acc: 0.8458 | test_loss: 0.3315 | test_acc: 0.9688\n"
     ]
    },
    {
     "name": "stderr",
     "output_type": "stream",
     "text": [
      " 80%|██████████████████████████████████████████████████████████████████▍                | 8/10 [18:48<02:12, 66.22s/it]"
     ]
    },
    {
     "name": "stdout",
     "output_type": "stream",
     "text": [
      "\n",
      "Epoch: 8 | train_loss: 0.3884 | train_acc: 0.8792 | test_loss: 0.3466 | test_acc: 0.9290\n"
     ]
    },
    {
     "name": "stderr",
     "output_type": "stream",
     "text": [
      " 90%|██████████████████████████████████████████████████████████████████████████▋        | 9/10 [19:16<00:54, 54.23s/it]"
     ]
    },
    {
     "name": "stdout",
     "output_type": "stream",
     "text": [
      "\n",
      "Epoch: 9 | train_loss: 0.3726 | train_acc: 0.8875 | test_loss: 0.3166 | test_acc: 0.9256\n"
     ]
    },
    {
     "name": "stderr",
     "output_type": "stream",
     "text": [
      "100%|█████████████████████████████████████████████████████████████████████████████████| 10/10 [19:43<00:00, 118.37s/it]"
     ]
    },
    {
     "name": "stdout",
     "output_type": "stream",
     "text": [
      "\n",
      "Epoch: 10 | train_loss: 0.3700 | train_acc: 0.8688 | test_loss: 0.2826 | test_acc: 0.9688\n"
     ]
    },
    {
     "name": "stderr",
     "output_type": "stream",
     "text": [
      "\n"
     ]
    }
   ],
   "source": [
    "# Setup optimizer and loss function\n",
    "optimizer = torch.optim.Adam(params=effnetb2.parameters(), lr=1e-3)\n",
    "loss_fn = nn.CrossEntropyLoss()\n",
    "\n",
    "# Set seeds for reproducibility and train the model\n",
    "set_seeds()\n",
    "effnetb2_results = engine.train(model=effnetb2, train_dataloader=train_dataloader_effnetb2, test_dataloader=test_dataloader_effnetb2,\n",
    "                               epochs = 10, optimizer=optimizer, loss_fn=loss_fn, device=device)"
   ]
  },
  {
   "cell_type": "markdown",
   "id": "a5694f31-423e-4e25-8ddf-f0b53e0f9867",
   "metadata": {},
   "source": [
    "#### 3.4 Inspecting EffNetB2 loss curves"
   ]
  },
  {
   "cell_type": "code",
   "execution_count": 14,
   "id": "671f96d3-4f76-46a3-9946-61d337362278",
   "metadata": {},
   "outputs": [
    {
     "data": {
      "image/png": "[encoded data removed]",
      "text/plain": [
       "<Figure size 1500x700 with 2 Axes>"
      ]
     },
     "metadata": {},
     "output_type": "display_data"
    }
   ],
   "source": [
    "plot_loss_curves(effnetb2_results)"
   ]
  },
  {
   "cell_type": "markdown",
   "id": "3d246840-5f0e-4e8d-908e-67844303b1b2",
   "metadata": {},
   "source": [
    "The model is performing quite well and perhaps would benefit from a little longer training and potentially some data augmentation (to help prevent potential overfitting occuring from longer training)."
   ]
  },
  {
   "cell_type": "markdown",
   "id": "d32b5b89-242d-463b-8e84-c258eec96743",
   "metadata": {},
   "source": [
    "#### 3.5 Saving EffNetB2 feature extractor"
   ]
  },
  {
   "cell_type": "code",
   "execution_count": 15,
   "id": "dd7c5af2-5b6f-4e40-904c-61af04480605",
   "metadata": {},
   "outputs": [
    {
     "name": "stdout",
     "output_type": "stream",
     "text": [
      "Model is being saved at models\\09_pretrained_effnetb2_feature_extractor_pizza_steak_sushi_20_percent.pth\n"
     ]
    }
   ],
   "source": [
    "from going_modular import utils\n",
    "\n",
    "utils.save_model(model=effnetb2, target_dir=\"models\",\n",
    "                model_name=\"09_pretrained_effnetb2_feature_extractor_pizza_steak_sushi_20_percent.pth\")"
   ]
  },
  {
   "cell_type": "markdown",
   "id": "737e3ec8-07a4-4b29-8a7f-c69ccb66af3d",
   "metadata": {},
   "source": [
    "#### 3.6 Checking the size of EffNetB2 feature extractor model"
   ]
  },
  {
   "cell_type": "markdown",
   "id": "a27efcdc-0304-4541-94eb-419c5b4623d8",
   "metadata": {},
   "source": [
    "This needs to be done as one of the deployment criteria is speed."
   ]
  },
  {
   "cell_type": "markdown",
   "id": "47ae84b9-c640-44c0-9e94-e5d413e42d6a",
   "metadata": {},
   "source": [
    "This is because the size of the model can influence its inference speed. Although not always the case."
   ]
  },
  {
   "cell_type": "markdown",
   "id": "5219adc7-8972-4376-8994-44a817644858",
   "metadata": {},
   "source": [
    "As, if a model has more params, it generally perform more operations and each requires some computing power."
   ]
  },
  {
   "cell_type": "markdown",
   "id": "777c08b0-4d28-4f87-817a-6294ee2f2f48",
   "metadata": {},
   "source": [
    "**Because the model needs to work on edge devices (with limited computing power), generally, the smaller the size the better.** (as long as it still performs well in terms of accuracy)."
   ]
  },
  {
   "cell_type": "code",
   "execution_count": 16,
   "id": "9ce11a1b-5c34-4252-9dc8-5f695f5c5da2",
   "metadata": {},
   "outputs": [
    {
     "name": "stdout",
     "output_type": "stream",
     "text": [
      "Pretrained EffNetB2 feature extractor model size: 29 MB\n"
     ]
    }
   ],
   "source": [
    "from pathlib import Path\n",
    "pretrained_effnetb2_model_size = Path(\"models/09_pretrained_effnetb2_feature_extractor_pizza_steak_sushi_20_percent.pth\").stat().st_size // (1024 * 1024)\n",
    "print(f\"Pretrained EffNetB2 feature extractor model size: {pretrained_effnetb2_model_size} MB\")"
   ]
  },
  {
   "cell_type": "markdown",
   "id": "6d70621c-ee5f-446c-a0ab-b72b8a076ea2",
   "metadata": {},
   "source": [
    "#### 3.7 Collecting EffNetB2 feature extractor stats"
   ]
  },
  {
   "cell_type": "markdown",
   "id": "8516852d-c486-4808-b990-96e010e6aafb",
   "metadata": {},
   "source": [
    "Collecting a few statistics got from EffNetB2 model's training in a dictionary to compare them to the upcoming ViT feature extractor."
   ]
  },
  {
   "cell_type": "code",
   "execution_count": 17,
   "id": "b885c107-6ce4-43a3-b394-510db2e75a41",
   "metadata": {},
   "outputs": [
    {
     "data": {
      "text/plain": [
       "7705221"
      ]
     },
     "execution_count": 17,
     "metadata": {},
     "output_type": "execute_result"
    }
   ],
   "source": [
    "# Count number of params in EffNetB2 using torch.numel(), short for \"number of elements\"\n",
    "effnetb2_total_params = sum(torch.numel(param) for param in effnetb2.parameters())\n",
    "effnetb2_total_params"
   ]
  },
  {
   "cell_type": "code",
   "execution_count": 18,
   "id": "0513beb6-8fa0-4fad-a556-a2672373bc29",
   "metadata": {},
   "outputs": [
    {
     "data": {
      "text/plain": [
       "{'test_loss': 0.28262916803359983,\n",
       " 'test_acc': 0.96875,\n",
       " 'number_of_parameters': 7705221,\n",
       " 'model_size (MB)': 29}"
      ]
     },
     "execution_count": 18,
     "metadata": {},
     "output_type": "execute_result"
    }
   ],
   "source": [
    "# Create a dictionary with EffNetB2 statistics for comparison later\n",
    "effnetb2_stats = {\"test_loss\" : effnetb2_results[\"test_loss\"][-1],\n",
    "                  \"test_acc\" : effnetb2_results[\"test_acc\"][-1],\n",
    "                  \"number_of_parameters\" : effnetb2_total_params,\n",
    "                  \"model_size (MB)\" : pretrained_effnetb2_model_size}\n",
    "effnetb2_stats"
   ]
  },
  {
   "cell_type": "markdown",
   "id": "a8b30194-2d86-46f7-a63e-f3c1eb08d1d9",
   "metadata": {},
   "source": [
    "**Hence, the first criteria is fulfilled i.e., the performance at 95%+ accuracy as can be seen in the stats dict.**"
   ]
  },
  {
   "cell_type": "markdown",
   "id": "dcf92935-17f5-45c2-9837-9cb5775052ff",
   "metadata": {},
   "source": [
    "### 4. Creating a ViT feature extractor"
   ]
  },
  {
   "cell_type": "code",
   "execution_count": 19,
   "id": "21b4a302-9cb2-48b0-bab4-11b346e945bd",
   "metadata": {},
   "outputs": [
    {
     "data": {
      "text/plain": [
       "Sequential(\n",
       "  (head): Linear(in_features=768, out_features=1000, bias=True)\n",
       ")"
      ]
     },
     "execution_count": 19,
     "metadata": {},
     "output_type": "execute_result"
    }
   ],
   "source": [
    "# Inspect the ViT heads layer\n",
    "vit = torchvision.models.vit_b_16()\n",
    "vit.heads"
   ]
  },
  {
   "cell_type": "code",
   "execution_count": 20,
   "id": "50994e1e-7887-462d-b523-0cb341970d7e",
   "metadata": {},
   "outputs": [],
   "source": [
    "# Functionalize the creation of the ViT-Base feature extractor model\n",
    "def create_vit_model(num_classes: int=3, seed: int=42):\n",
    "    \"\"\"Creates a ViT-B/16 feature extractor model and transforms.\n",
    "    Returns a model and its transforms.\n",
    "    \"\"\"\n",
    "    # Steps 1, 2, 3 similar to effnetb2 model are here\n",
    "    weights = torchvision.models.ViT_B_16_Weights.DEFAULT\n",
    "    transforms = weights.transforms()\n",
    "    model = torchvision.models.vit_b_16(weights=weights)\n",
    "\n",
    "    # Step 4\n",
    "    for param in model.parameters():\n",
    "        param.requires_grad = False\n",
    "\n",
    "    # Step 5\n",
    "    model.heads = nn.Sequential(\n",
    "        nn.Linear(in_features=768, out_features=num_classes)\n",
    "    )\n",
    "\n",
    "    return model, transforms"
   ]
  },
  {
   "cell_type": "code",
   "execution_count": 21,
   "id": "f42ecba1-a10f-4511-af79-f49ce21c6eba",
   "metadata": {},
   "outputs": [],
   "source": [
    "# Create ViT model and transforms\n",
    "vit, vit_transforms = create_vit_model(num_classes=3, seed=42)"
   ]
  },
  {
   "cell_type": "code",
   "execution_count": 22,
   "id": "a929666f-fec9-45f6-b92f-96671e9c7565",
   "metadata": {},
   "outputs": [
    {
     "data": {
      "text/plain": [
       "============================================================================================================================================\n",
       "Layer (type (var_name))                                      Input Shape          Output Shape         Param #              Trainable\n",
       "============================================================================================================================================\n",
       "VisionTransformer (VisionTransformer)                        [1, 3, 224, 224]     [1, 3]               768                  Partial\n",
       "├─Conv2d (conv_proj)                                         [1, 3, 224, 224]     [1, 768, 14, 14]     (590,592)            False\n",
       "├─Encoder (encoder)                                          [1, 197, 768]        [1, 197, 768]        151,296              False\n",
       "│    └─Dropout (dropout)                                     [1, 197, 768]        [1, 197, 768]        --                   --\n",
       "│    └─Sequential (layers)                                   [1, 197, 768]        [1, 197, 768]        --                   False\n",
       "│    │    └─EncoderBlock (encoder_layer_0)                   [1, 197, 768]        [1, 197, 768]        (7,087,872)          False\n",
       "│    │    └─EncoderBlock (encoder_layer_1)                   [1, 197, 768]        [1, 197, 768]        (7,087,872)          False\n",
       "│    │    └─EncoderBlock (encoder_layer_2)                   [1, 197, 768]        [1, 197, 768]        (7,087,872)          False\n",
       "│    │    └─EncoderBlock (encoder_layer_3)                   [1, 197, 768]        [1, 197, 768]        (7,087,872)          False\n",
       "│    │    └─EncoderBlock (encoder_layer_4)                   [1, 197, 768]        [1, 197, 768]        (7,087,872)          False\n",
       "│    │    └─EncoderBlock (encoder_layer_5)                   [1, 197, 768]        [1, 197, 768]        (7,087,872)          False\n",
       "│    │    └─EncoderBlock (encoder_layer_6)                   [1, 197, 768]        [1, 197, 768]        (7,087,872)          False\n",
       "│    │    └─EncoderBlock (encoder_layer_7)                   [1, 197, 768]        [1, 197, 768]        (7,087,872)          False\n",
       "│    │    └─EncoderBlock (encoder_layer_8)                   [1, 197, 768]        [1, 197, 768]        (7,087,872)          False\n",
       "│    │    └─EncoderBlock (encoder_layer_9)                   [1, 197, 768]        [1, 197, 768]        (7,087,872)          False\n",
       "│    │    └─EncoderBlock (encoder_layer_10)                  [1, 197, 768]        [1, 197, 768]        (7,087,872)          False\n",
       "│    │    └─EncoderBlock (encoder_layer_11)                  [1, 197, 768]        [1, 197, 768]        (7,087,872)          False\n",
       "│    └─LayerNorm (ln)                                        [1, 197, 768]        [1, 197, 768]        (1,536)              False\n",
       "├─Sequential (heads)                                         [1, 768]             [1, 3]               --                   True\n",
       "│    └─Linear (0)                                            [1, 768]             [1, 3]               2,307                True\n",
       "============================================================================================================================================\n",
       "Total params: 85,800,963\n",
       "Trainable params: 2,307\n",
       "Non-trainable params: 85,798,656\n",
       "Total mult-adds (Units.MEGABYTES): 172.47\n",
       "============================================================================================================================================\n",
       "Input size (MB): 0.60\n",
       "Forward/backward pass size (MB): 104.09\n",
       "Params size (MB): 229.20\n",
       "Estimated Total Size (MB): 333.89\n",
       "============================================================================================================================================"
      ]
     },
     "execution_count": 22,
     "metadata": {},
     "output_type": "execute_result"
    }
   ],
   "source": [
    "# Get a summary of the ViT feature extractor model\n",
    "summary(model = vit, input_size=(1, 3, 224, 224), col_names=[\"input_size\", \"output_size\", \"num_params\", \"trainable\"],\n",
    "       col_width=20, row_settings=[\"var_names\"])"
   ]
  },
  {
   "cell_type": "markdown",
   "id": "a6c3ffae-8d6e-4790-894e-38c5d4cc9f78",
   "metadata": {},
   "source": [
    "The noticeable thing is that the ViT model has far more parameters than the EffNetB2 model. This will come into play while comparing them across speed and performance."
   ]
  },
  {
   "cell_type": "markdown",
   "id": "da12a21f-2383-4b2b-98e5-3a27e77f64c0",
   "metadata": {},
   "source": [
    "#### 4.1 Create DataLoaders for ViT"
   ]
  },
  {
   "cell_type": "markdown",
   "id": "676d0c4a-2c2e-4548-9be0-7e5666ca2c41",
   "metadata": {},
   "source": [
    "ViT model is ready. Time to create dataloaders for it."
   ]
  },
  {
   "cell_type": "code",
   "execution_count": 23,
   "id": "4808399b-47ee-4b54-934b-a03150a158b8",
   "metadata": {},
   "outputs": [],
   "source": [
    "train_dataloader_vit, test_dataloader_vit, class_names = data_setup.create_dataloaders(train_dir=train_dir, test_dir=test_dir, transform=vit_transforms, batch_size=32)"
   ]
  },
  {
   "cell_type": "markdown",
   "id": "4cd92388-2647-41ff-8bc3-e17264b16684",
   "metadata": {},
   "source": [
    "#### 4.2 Training ViT feature extractor"
   ]
  },
  {
   "cell_type": "markdown",
   "id": "21c700b1-6ecc-4d7f-86fb-da131162550d",
   "metadata": {},
   "source": [
    "Both model and dataloaders are ready. Time to train the model on that data."
   ]
  },
  {
   "cell_type": "code",
   "execution_count": 24,
   "id": "07a59a43-b43c-48f5-8a7f-a41b4a82ca20",
   "metadata": {},
   "outputs": [],
   "source": [
    "torch.cuda.empty_cache()"
   ]
  },
  {
   "cell_type": "code",
   "execution_count": 25,
   "id": "f5913908-b1c3-4aec-9ef4-b0abeb2577c9",
   "metadata": {},
   "outputs": [
    {
     "name": "stderr",
     "output_type": "stream",
     "text": [
      " 10%|████████▎                                                                          | 1/10 [00:54<08:06, 54.05s/it]"
     ]
    },
    {
     "name": "stdout",
     "output_type": "stream",
     "text": [
      "\n",
      "Epoch: 1 | train_loss: 0.5984 | train_acc: 0.8292 | test_loss: 0.2064 | test_acc: 0.9750\n"
     ]
    },
    {
     "name": "stderr",
     "output_type": "stream",
     "text": [
      " 20%|████████████████▌                                                                  | 2/10 [01:32<05:57, 44.64s/it]"
     ]
    },
    {
     "name": "stdout",
     "output_type": "stream",
     "text": [
      "\n",
      "Epoch: 2 | train_loss: 0.2348 | train_acc: 0.9250 | test_loss: 0.1279 | test_acc: 0.9938\n"
     ]
    },
    {
     "name": "stderr",
     "output_type": "stream",
     "text": [
      " 30%|████████████████████████▉                                                          | 3/10 [02:09<04:50, 41.45s/it]"
     ]
    },
    {
     "name": "stdout",
     "output_type": "stream",
     "text": [
      "\n",
      "Epoch: 3 | train_loss: 0.1633 | train_acc: 0.9604 | test_loss: 0.0996 | test_acc: 0.9875\n"
     ]
    },
    {
     "name": "stderr",
     "output_type": "stream",
     "text": [
      " 40%|█████████████████████████████████▏                                                 | 4/10 [02:47<03:59, 39.91s/it]"
     ]
    },
    {
     "name": "stdout",
     "output_type": "stream",
     "text": [
      "\n",
      "Epoch: 4 | train_loss: 0.1164 | train_acc: 0.9667 | test_loss: 0.0861 | test_acc: 0.9875\n"
     ]
    },
    {
     "name": "stderr",
     "output_type": "stream",
     "text": [
      " 50%|█████████████████████████████████████████▌                                         | 5/10 [03:29<03:23, 40.74s/it]"
     ]
    },
    {
     "name": "stdout",
     "output_type": "stream",
     "text": [
      "\n",
      "Epoch: 5 | train_loss: 0.1055 | train_acc: 0.9688 | test_loss: 0.0763 | test_acc: 0.9938\n"
     ]
    },
    {
     "name": "stderr",
     "output_type": "stream",
     "text": [
      " 60%|█████████████████████████████████████████████████▊                                 | 6/10 [04:11<02:44, 41.25s/it]"
     ]
    },
    {
     "name": "stdout",
     "output_type": "stream",
     "text": [
      "\n",
      "Epoch: 6 | train_loss: 0.1163 | train_acc: 0.9458 | test_loss: 0.0697 | test_acc: 0.9875\n"
     ]
    },
    {
     "name": "stderr",
     "output_type": "stream",
     "text": [
      " 70%|██████████████████████████████████████████████████████████                         | 7/10 [04:53<02:04, 41.39s/it]"
     ]
    },
    {
     "name": "stdout",
     "output_type": "stream",
     "text": [
      "\n",
      "Epoch: 7 | train_loss: 0.0828 | train_acc: 0.9792 | test_loss: 0.0749 | test_acc: 0.9812\n"
     ]
    },
    {
     "name": "stderr",
     "output_type": "stream",
     "text": [
      " 80%|██████████████████████████████████████████████████████████████████▍                | 8/10 [05:32<01:21, 40.55s/it]"
     ]
    },
    {
     "name": "stdout",
     "output_type": "stream",
     "text": [
      "\n",
      "Epoch: 8 | train_loss: 0.0863 | train_acc: 0.9854 | test_loss: 0.0644 | test_acc: 0.9875\n"
     ]
    },
    {
     "name": "stderr",
     "output_type": "stream",
     "text": [
      " 90%|██████████████████████████████████████████████████████████████████████████▋        | 9/10 [06:10<00:39, 39.78s/it]"
     ]
    },
    {
     "name": "stdout",
     "output_type": "stream",
     "text": [
      "\n",
      "Epoch: 9 | train_loss: 0.0876 | train_acc: 0.9854 | test_loss: 0.0604 | test_acc: 0.9875\n"
     ]
    },
    {
     "name": "stderr",
     "output_type": "stream",
     "text": [
      "100%|██████████████████████████████████████████████████████████████████████████████████| 10/10 [06:48<00:00, 40.81s/it]"
     ]
    },
    {
     "name": "stdout",
     "output_type": "stream",
     "text": [
      "\n",
      "Epoch: 10 | train_loss: 0.0607 | train_acc: 0.9854 | test_loss: 0.0576 | test_acc: 0.9875\n"
     ]
    },
    {
     "name": "stderr",
     "output_type": "stream",
     "text": [
      "\n"
     ]
    }
   ],
   "source": [
    "# Setup optimizer and loss function\n",
    "optimizer = torch.optim.Adam(params=vit.parameters(), lr=1e-3)\n",
    "loss_fn = nn.CrossEntropyLoss()\n",
    "\n",
    "# Set the seeds and train the ViT model\n",
    "set_seeds()\n",
    "vit_results = engine.train(model=vit, train_dataloader=train_dataloader_vit, test_dataloader=test_dataloader_vit,\n",
    "                          epochs=10, optimizer=optimizer, loss_fn=loss_fn, device=device)"
   ]
  },
  {
   "cell_type": "markdown",
   "id": "6a76947c-0d99-4460-84e7-2eeb455e2251",
   "metadata": {},
   "source": [
    "#### 4.3 Inspecting ViT loss curves"
   ]
  },
  {
   "cell_type": "code",
   "execution_count": 26,
   "id": "4c0c0df2-f2c7-48db-946d-b46d8483913f",
   "metadata": {},
   "outputs": [
    {
     "data": {
      "image/png": "[encoded data removed]",
      "text/plain": [
       "<Figure size 1500x700 with 2 Axes>"
      ]
     },
     "metadata": {},
     "output_type": "display_data"
    }
   ],
   "source": [
    "plot_loss_curves(vit_results)"
   ]
  },
  {
   "cell_type": "markdown",
   "id": "21a3db40-606f-4314-ad3e-1b4bc7c17db9",
   "metadata": {},
   "source": [
    "These are some nice looking loss curves although would benefit from similar things as for EffNetB2 model."
   ]
  },
  {
   "cell_type": "markdown",
   "id": "b9a3c0a4-1fa7-4b31-89aa-2ed4a07003ae",
   "metadata": {},
   "source": [
    "#### 4.4 Saving ViT feature extractor model"
   ]
  },
  {
   "cell_type": "code",
   "execution_count": 27,
   "id": "04da832f-f8c1-4e3f-b846-097f3a8018eb",
   "metadata": {},
   "outputs": [
    {
     "name": "stdout",
     "output_type": "stream",
     "text": [
      "Model is being saved at models\\09_pretrained_vit_feature_extrctor_pizza_steak_sushi_20_percent.pth\n"
     ]
    }
   ],
   "source": [
    "utils.save_model(model=vit, target_dir=\"models\",\n",
    "                model_name=\"09_pretrained_vit_feature_extrctor_pizza_steak_sushi_20_percent.pth\")"
   ]
  },
  {
   "cell_type": "markdown",
   "id": "345b0b09-3710-4ab1-841f-d67b06e589b6",
   "metadata": {},
   "source": [
    "#### 4.5 Checking the size of ViT feature extractor"
   ]
  },
  {
   "cell_type": "code",
   "execution_count": 28,
   "id": "f3fb3f19-8230-4f08-98fb-1cb9f733f96d",
   "metadata": {},
   "outputs": [
    {
     "name": "stdout",
     "output_type": "stream",
     "text": [
      "Pretrained ViT feature extractor model size: 327 MB\n"
     ]
    }
   ],
   "source": [
    "pretrained_vit_model_size = Path(\"models/09_pretrained_vit_feature_extrctor_pizza_steak_sushi_20_percent.pth\").stat().st_size // (1024 * 1024)\n",
    "print(f\"Pretrained ViT feature extractor model size: {pretrained_vit_model_size} MB\")"
   ]
  },
  {
   "cell_type": "markdown",
   "id": "6dce535f-e8de-47bf-871a-6b1f1ba6c7f7",
   "metadata": {},
   "source": [
    "This will be helpful in the comparision of the best models later on."
   ]
  },
  {
   "cell_type": "markdown",
   "id": "e53e3b64-43b9-48fe-a969-b835b4ddc102",
   "metadata": {},
   "source": [
    "#### 4.6 Collecting ViT feature extractor stats"
   ]
  },
  {
   "cell_type": "code",
   "execution_count": 29,
   "id": "ed88356f-a4d4-4532-b223-994b5cecb18d",
   "metadata": {},
   "outputs": [
    {
     "data": {
      "text/plain": [
       "85800963"
      ]
     },
     "execution_count": 29,
     "metadata": {},
     "output_type": "execute_result"
    }
   ],
   "source": [
    "# Putting together all of the ViT feature extractor model statistics\n",
    "\n",
    "# Count number of params in ViT\n",
    "vit_total_params = sum(torch.numel(param) for param in vit.parameters())\n",
    "vit_total_params"
   ]
  },
  {
   "cell_type": "markdown",
   "id": "5c8a1f8c-99b8-49a0-bd7f-ffb19cb5c388",
   "metadata": {},
   "source": [
    "**A larger number of params (or wts/patterns) generally means a model has a higher capacity to learn. Also, If given more oppurtunities to learn i.e., more data. However, this larger capacity to learn often comes with an increased model filesize and a longer time to perform inference.**"
   ]
  },
  {
   "cell_type": "code",
   "execution_count": 30,
   "id": "ca041be1-33de-40fa-991e-a0ffedcbe7ed",
   "metadata": {},
   "outputs": [
    {
     "data": {
      "text/plain": [
       "{'test_loss': 0.05759347495622933,\n",
       " 'test_acc': 0.9875,\n",
       " 'number_of_parameters': 85800963,\n",
       " 'model_size (MB)': 327}"
      ]
     },
     "execution_count": 30,
     "metadata": {},
     "output_type": "execute_result"
    }
   ],
   "source": [
    "# Create ViT statistics dictionary for comparision\n",
    "vit_stats = {\"test_loss\" : vit_results[\"test_loss\"][-1],\n",
    "             \"test_acc\" : vit_results[\"test_acc\"][-1],\n",
    "             \"number_of_parameters\" : vit_total_params,\n",
    "             \"model_size (MB)\" : pretrained_vit_model_size}\n",
    "\n",
    "vit_stats"
   ]
  },
  {
   "cell_type": "markdown",
   "id": "80ef5adb-ea77-458b-9d57-ddfa138b18db",
   "metadata": {},
   "source": [
    "ViT too achieves an accuracy of 95%+."
   ]
  },
  {
   "cell_type": "markdown",
   "id": "fc177615-849f-42e9-878b-43bf94d432fe",
   "metadata": {},
   "source": [
    "### 5. Making predictions with the trained models and timing them"
   ]
  },
  {
   "cell_type": "markdown",
   "id": "3cb37322-0dfc-48c6-9548-bf01f4551f09",
   "metadata": {},
   "source": [
    "Although both of the models are performing well, for deployment to a mobile device, the predictions are liked to happen at real-time. This is why the second criteria is a **fast model**."
   ]
  },
  {
   "cell_type": "markdown",
   "id": "4e95a1ba-61e8-4669-8aff-f07c23262ecd",
   "metadata": {},
   "source": [
    "To time each of the models inference performed, a function called **pred_and_store()** will be created to iterate over each of the test dataset images one by one and perform a prediction."
   ]
  },
  {
   "cell_type": "markdown",
   "id": "f7f9f08b-4a27-4e38-8f21-b18e0a2e3aef",
   "metadata": {},
   "source": [
    "The prediciton made and time of that prediciton will be stored for each image in a list of dictionaries, where each dict in the list is a prediciton element."
   ]
  },
  {
   "cell_type": "markdown",
   "id": "5318b629-0235-46e7-9ae6-faeb4b092447",
   "metadata": {},
   "source": [
    "This is done one by one because the end user using the deployed model will be using a simgle imsge at a time for prediciton. Not a batch of images to predict on."
   ]
  },
  {
   "cell_type": "code",
   "execution_count": 31,
   "id": "377edf16-63f0-42ed-b612-5e6729767e51",
   "metadata": {},
   "outputs": [
    {
     "name": "stdout",
     "output_type": "stream",
     "text": [
      "target_dir having all of the test images paths is: data\\pizza_steak_sushi_20_percent\\test\n"
     ]
    },
    {
     "data": {
      "text/plain": [
       "[WindowsPath('data/pizza_steak_sushi_20_percent/test/pizza/1001116.jpg'),\n",
       " WindowsPath('data/pizza_steak_sushi_20_percent/test/pizza/1032754.jpg'),\n",
       " WindowsPath('data/pizza_steak_sushi_20_percent/test/pizza/1067986.jpg'),\n",
       " WindowsPath('data/pizza_steak_sushi_20_percent/test/pizza/129666.jpg'),\n",
       " WindowsPath('data/pizza_steak_sushi_20_percent/test/pizza/1315645.jpg')]"
      ]
     },
     "execution_count": 31,
     "metadata": {},
     "output_type": "execute_result"
    }
   ],
   "source": [
    "# Get all of the test images paths in the target_dir to make predictions on\n",
    "print(f\"target_dir having all of the test images paths is: {test_dir}\")\n",
    "test_data_paths = list(Path(test_dir).glob(\"*/*.jpg\"))\n",
    "test_data_paths[:5]"
   ]
  },
  {
   "cell_type": "markdown",
   "id": "25ec5ded-acfc-4f03-b4fa-02d6b954aa89",
   "metadata": {},
   "source": [
    "#### 5.1 Creating a function to make predictions across the test dataset"
   ]
  },
  {
   "cell_type": "code",
   "execution_count": 32,
   "id": "ef5fabe7-a6e7-41b1-b44c-3a48faeb361a",
   "metadata": {},
   "outputs": [
    {
     "name": "stdout",
     "output_type": "stream",
     "text": [
      "Overwriting going_modular/predict_and_store.py\n"
     ]
    }
   ],
   "source": [
    "%%writefile going_modular/predict_and_store.py\n",
    "\n",
    "import pathlib\n",
    "import torch\n",
    "import torchvision\n",
    "from typing import List, Dict\n",
    "from timeit import default_timer as timer\n",
    "from PIL import Image\n",
    "from tqdm.auto import tqdm\n",
    "\n",
    "# 1. Create a function with its required parameters to return a list of dicts with sample, truth label, pred, pred proband pred time\n",
    "def pred_and_store(test_paths: List[pathlib.Path], model: torch.nn.Module, transforms: torchvision.transforms,\n",
    "                   class_names: List[str], device: str= \"cuda\" if torch.cuda.is_available() else \"cpu\") -> List[Dict]:\n",
    "    # 2. Create an empty list to store prediction dictionaries\n",
    "    pred_results_list = []\n",
    "    # 3. Loop through the target input (test images) paths\n",
    "    for path in tqdm(test_paths):\n",
    "        # 4. Create an empty dict for each iteration to store pred values per sample\n",
    "        pred_dict = {}\n",
    "        # 5. Get sample path and ground truth class name\n",
    "        pred_dict[\"image_path\"] = path\n",
    "        gnd_truth_class = path.parent.stem\n",
    "        pred_dict[\"gnd_truth_class\"] = gnd_truth_class\n",
    "        # 6. Start the pred timer using timeit library\n",
    "        start_time = timer()\n",
    "        # 7. Open image in the path using PIL\n",
    "        image = Image.open(path)\n",
    "        # 8. Tranform image to be compatible with the PyTorch model, add a batch dimension and send the image to the target device\n",
    "        transformed_image = transforms(image).unsqueeze(0).to(device)\n",
    "        # 9. Prepare model for inference by turning on eval() mode and sending it to the target device\n",
    "        model.to(device)\n",
    "        model.eval()\n",
    "        # 10. Turn on inference mode, pass the target transformed img to model, calculate pred prob and target label\n",
    "        with torch.inference_mode():\n",
    "            pred_logits = model(transformed_image)\n",
    "            pred_probs = torch.softmax(pred_logits, dim = 1)\n",
    "            pred_label = torch.argmax(pred_probs, dim = 1)\n",
    "            pred_class = class_names[pred_label.cpu()]\n",
    "            # 11. Add pred prob and pred class to the pred dict created in step 4; Make sure they are on CPU\n",
    "            pred_dict[\"pred_probs\"] = round(pred_probs.unsqueeze(0).max().cpu().item(), 4)\n",
    "            pred_dict[\"pred_class\"] = pred_class\n",
    "            # 12. End the pred timer started in step 6 and add time to pred dict in step 4\n",
    "            end_time = timer()\n",
    "            elapsed_time = round(end_time - start_time, 4)\n",
    "            pred_dict[\"pred_time\"] = elapsed_time\n",
    "        # 13. Check if gnd truth in step 5 and pred_class match, then add the result to pred dict in step 4\n",
    "        pred_dict[\"gndtrth_predclass_match\"] = (gnd_truth_class == pred_class)\n",
    "        # 14. Append updated pred dict to empty list of predictions created in step 2\n",
    "        pred_results_list.append(pred_dict)\n",
    "    # 15. Return the list of pred dicts\n",
    "    return pred_results_list"
   ]
  },
  {
   "cell_type": "markdown",
   "id": "57c46c70-bda1-4f0f-b1e8-6481b69c666c",
   "metadata": {},
   "source": [
    "#### 5.2 Making and timing predictions with EffNetB2"
   ]
  },
  {
   "cell_type": "code",
   "execution_count": 33,
   "id": "d0b3c5e4-d4ae-401c-a689-c2765d89c426",
   "metadata": {},
   "outputs": [
    {
     "name": "stderr",
     "output_type": "stream",
     "text": [
      "100%|████████████████████████████████████████████████████████████████████████████████| 150/150 [00:13<00:00, 11.25it/s]\n"
     ]
    }
   ],
   "source": [
    "from going_modular.predict_and_store import pred_and_store\n",
    "\n",
    "# Hard coded device to be \"cpu\" because \"cuda\" is not always accessed when deployed and preds on cpu will be a good incidator of speed of inference\n",
    "effnetb2_test_pred_dicts = pred_and_store(test_paths=test_data_paths, model=effnetb2, transforms=effnetb2_transforms,\n",
    "                                         class_names=class_names, device=\"cpu\") # hard coded"
   ]
  },
  {
   "cell_type": "code",
   "execution_count": 34,
   "id": "01533cc4-bb97-40dc-a4d7-800eb15a1797",
   "metadata": {},
   "outputs": [
    {
     "data": {
      "text/plain": [
       "[{'image_path': WindowsPath('data/pizza_steak_sushi_20_percent/test/pizza/1001116.jpg'),\n",
       "  'gnd_truth_class': 'pizza',\n",
       "  'pred_probs': 0.9958,\n",
       "  'pred_class': 'pizza',\n",
       "  'pred_time': 1.8302,\n",
       "  'gndtrth_predclass_match': True},\n",
       " {'image_path': WindowsPath('data/pizza_steak_sushi_20_percent/test/pizza/1032754.jpg'),\n",
       "  'gnd_truth_class': 'pizza',\n",
       "  'pred_probs': 0.4288,\n",
       "  'pred_class': 'pizza',\n",
       "  'pred_time': 0.0801,\n",
       "  'gndtrth_predclass_match': True}]"
      ]
     },
     "execution_count": 34,
     "metadata": {},
     "output_type": "execute_result"
    }
   ],
   "source": [
    "# Inspect the first few to see how they look\n",
    "effnetb2_test_pred_dicts[:2]"
   ]
  },
  {
   "cell_type": "code",
   "execution_count": 35,
   "id": "28365e58-f997-4f75-b9a9-845f3a5d71cb",
   "metadata": {},
   "outputs": [
    {
     "data": {
      "text/html": [
       "<div>\n",
       "<style scoped>\n",
       "    .dataframe tbody tr th:only-of-type {\n",
       "        vertical-align: middle;\n",
       "    }\n",
       "\n",
       "    .dataframe tbody tr th {\n",
       "        vertical-align: top;\n",
       "    }\n",
       "\n",
       "    .dataframe thead th {\n",
       "        text-align: right;\n",
       "    }\n",
       "</style>\n",
       "<table border=\"1\" class=\"dataframe\">\n",
       "  <thead>\n",
       "    <tr style=\"text-align: right;\">\n",
       "      <th></th>\n",
       "      <th>image_path</th>\n",
       "      <th>gnd_truth_class</th>\n",
       "      <th>pred_probs</th>\n",
       "      <th>pred_class</th>\n",
       "      <th>pred_time</th>\n",
       "      <th>gndtrth_predclass_match</th>\n",
       "    </tr>\n",
       "  </thead>\n",
       "  <tbody>\n",
       "    <tr>\n",
       "      <th>0</th>\n",
       "      <td>data\\pizza_steak_sushi_20_percent\\test\\pizza\\1...</td>\n",
       "      <td>pizza</td>\n",
       "      <td>0.9958</td>\n",
       "      <td>pizza</td>\n",
       "      <td>1.8302</td>\n",
       "      <td>True</td>\n",
       "    </tr>\n",
       "    <tr>\n",
       "      <th>1</th>\n",
       "      <td>data\\pizza_steak_sushi_20_percent\\test\\pizza\\1...</td>\n",
       "      <td>pizza</td>\n",
       "      <td>0.4288</td>\n",
       "      <td>pizza</td>\n",
       "      <td>0.0801</td>\n",
       "      <td>True</td>\n",
       "    </tr>\n",
       "    <tr>\n",
       "      <th>2</th>\n",
       "      <td>data\\pizza_steak_sushi_20_percent\\test\\pizza\\1...</td>\n",
       "      <td>pizza</td>\n",
       "      <td>0.9910</td>\n",
       "      <td>pizza</td>\n",
       "      <td>0.0674</td>\n",
       "      <td>True</td>\n",
       "    </tr>\n",
       "    <tr>\n",
       "      <th>3</th>\n",
       "      <td>data\\pizza_steak_sushi_20_percent\\test\\pizza\\1...</td>\n",
       "      <td>pizza</td>\n",
       "      <td>0.6391</td>\n",
       "      <td>pizza</td>\n",
       "      <td>0.0796</td>\n",
       "      <td>True</td>\n",
       "    </tr>\n",
       "    <tr>\n",
       "      <th>4</th>\n",
       "      <td>data\\pizza_steak_sushi_20_percent\\test\\pizza\\1...</td>\n",
       "      <td>pizza</td>\n",
       "      <td>0.7471</td>\n",
       "      <td>pizza</td>\n",
       "      <td>0.0749</td>\n",
       "      <td>True</td>\n",
       "    </tr>\n",
       "  </tbody>\n",
       "</table>\n",
       "</div>"
      ],
      "text/plain": [
       "                                          image_path gnd_truth_class  \\\n",
       "0  data\\pizza_steak_sushi_20_percent\\test\\pizza\\1...           pizza   \n",
       "1  data\\pizza_steak_sushi_20_percent\\test\\pizza\\1...           pizza   \n",
       "2  data\\pizza_steak_sushi_20_percent\\test\\pizza\\1...           pizza   \n",
       "3  data\\pizza_steak_sushi_20_percent\\test\\pizza\\1...           pizza   \n",
       "4  data\\pizza_steak_sushi_20_percent\\test\\pizza\\1...           pizza   \n",
       "\n",
       "   pred_probs pred_class  pred_time  gndtrth_predclass_match  \n",
       "0      0.9958      pizza     1.8302                     True  \n",
       "1      0.4288      pizza     0.0801                     True  \n",
       "2      0.9910      pizza     0.0674                     True  \n",
       "3      0.6391      pizza     0.0796                     True  \n",
       "4      0.7471      pizza     0.0749                     True  "
      ]
     },
     "execution_count": 35,
     "metadata": {},
     "output_type": "execute_result"
    }
   ],
   "source": [
    "import pandas as pd\n",
    "# To further inspect the stats in list of dicts data structure, turn this list of dicts into a pandas DataFrame\n",
    "effnetb2_test_pred_df = pd.DataFrame(effnetb2_test_pred_dicts)\n",
    "effnetb2_test_pred_df.head()"
   ]
  },
  {
   "cell_type": "markdown",
   "id": "f867a011-26b5-4a6f-a286-a75619ccf01f",
   "metadata": {},
   "source": [
    "**This conversion of list of dicts to a pandas DataFrame will help in performing analysis easily on test preds.**"
   ]
  },
  {
   "cell_type": "code",
   "execution_count": 36,
   "id": "8c300086-2c15-4ab5-8ffb-6db3fc5d7c7d",
   "metadata": {},
   "outputs": [
    {
     "data": {
      "text/plain": [
       "gndtrth_predclass_match\n",
       "True     145\n",
       "False      5\n",
       "Name: count, dtype: int64"
      ]
     },
     "execution_count": 36,
     "metadata": {},
     "output_type": "execute_result"
    }
   ],
   "source": [
    "# Check number of correct preds\n",
    "effnetb2_test_pred_df.gndtrth_predclass_match.value_counts()"
   ]
  },
  {
   "cell_type": "code",
   "execution_count": 37,
   "id": "084ac7f1-45ab-462b-b72f-75d9d904c1ae",
   "metadata": {},
   "outputs": [
    {
     "data": {
      "text/plain": [
       "'0.088 seconds'"
      ]
     },
     "execution_count": 37,
     "metadata": {},
     "output_type": "execute_result"
    }
   ],
   "source": [
    "# Find the average time per prediction\n",
    "effnetb2_average_time_per_pred = round(effnetb2_test_pred_df.pred_time.mean(), 4)\n",
    "str(effnetb2_average_time_per_pred.item()) + \" seconds\""
   ]
  },
  {
   "cell_type": "markdown",
   "id": "d6d5f548-e2e3-44e0-9bae-82376b4dd83f",
   "metadata": {},
   "source": [
    "**Prediction times will be different across different hardware types. However, the better and faster the hardware, generally, the faster the prediction.**"
   ]
  },
  {
   "cell_type": "code",
   "execution_count": 38,
   "id": "d2d835ac-8609-4459-b056-a12c2763775c",
   "metadata": {},
   "outputs": [
    {
     "data": {
      "text/plain": [
       "{'test_loss': 0.28262916803359983,\n",
       " 'test_acc': 0.96875,\n",
       " 'number_of_parameters': 7705221,\n",
       " 'model_size (MB)': 29,\n",
       " 'time_per_pred_cpu': 0.088}"
      ]
     },
     "execution_count": 38,
     "metadata": {},
     "output_type": "execute_result"
    }
   ],
   "source": [
    "# Add EffNetB2 average prediction time to stats dict\n",
    "effnetb2_stats[\"time_per_pred_cpu\"] = effnetb2_average_time_per_pred.item()\n",
    "effnetb2_stats"
   ]
  },
  {
   "cell_type": "markdown",
   "id": "96e0536b-da1d-4d29-8670-603990db8754",
   "metadata": {},
   "source": [
    "#### 5.3 Making and timing predictions with ViT"
   ]
  },
  {
   "cell_type": "code",
   "execution_count": 39,
   "id": "41db196b-a494-4ca1-bf69-474663e478ab",
   "metadata": {},
   "outputs": [
    {
     "name": "stderr",
     "output_type": "stream",
     "text": [
      "100%|████████████████████████████████████████████████████████████████████████████████| 150/150 [00:38<00:00,  3.91it/s]\n"
     ]
    }
   ],
   "source": [
    "vit_test_pred_dicts = pred_and_store(test_paths=test_data_paths, model=vit, transforms=vit_transforms, class_names=class_names, device=\"cpu\")"
   ]
  },
  {
   "cell_type": "code",
   "execution_count": 40,
   "id": "aa6396fb-2849-49c1-91c9-623d6abf80ff",
   "metadata": {},
   "outputs": [
    {
     "data": {
      "text/plain": [
       "[{'image_path': WindowsPath('data/pizza_steak_sushi_20_percent/test/pizza/1001116.jpg'),\n",
       "  'gnd_truth_class': 'pizza',\n",
       "  'pred_probs': 0.9985,\n",
       "  'pred_class': 'pizza',\n",
       "  'pred_time': 0.5898,\n",
       "  'gndtrth_predclass_match': True},\n",
       " {'image_path': WindowsPath('data/pizza_steak_sushi_20_percent/test/pizza/1032754.jpg'),\n",
       "  'gnd_truth_class': 'pizza',\n",
       "  'pred_probs': 0.9955,\n",
       "  'pred_class': 'pizza',\n",
       "  'pred_time': 0.3247,\n",
       "  'gndtrth_predclass_match': True}]"
      ]
     },
     "execution_count": 40,
     "metadata": {},
     "output_type": "execute_result"
    }
   ],
   "source": [
    "vit_test_pred_dicts[:2]"
   ]
  },
  {
   "cell_type": "code",
   "execution_count": 41,
   "id": "ba4e950e-3ac9-4f07-91ad-683ec7b5fba6",
   "metadata": {},
   "outputs": [
    {
     "data": {
      "text/html": [
       "<div>\n",
       "<style scoped>\n",
       "    .dataframe tbody tr th:only-of-type {\n",
       "        vertical-align: middle;\n",
       "    }\n",
       "\n",
       "    .dataframe tbody tr th {\n",
       "        vertical-align: top;\n",
       "    }\n",
       "\n",
       "    .dataframe thead th {\n",
       "        text-align: right;\n",
       "    }\n",
       "</style>\n",
       "<table border=\"1\" class=\"dataframe\">\n",
       "  <thead>\n",
       "    <tr style=\"text-align: right;\">\n",
       "      <th></th>\n",
       "      <th>image_path</th>\n",
       "      <th>gnd_truth_class</th>\n",
       "      <th>pred_probs</th>\n",
       "      <th>pred_class</th>\n",
       "      <th>pred_time</th>\n",
       "      <th>gndtrth_predclass_match</th>\n",
       "    </tr>\n",
       "  </thead>\n",
       "  <tbody>\n",
       "    <tr>\n",
       "      <th>0</th>\n",
       "      <td>data\\pizza_steak_sushi_20_percent\\test\\pizza\\1...</td>\n",
       "      <td>pizza</td>\n",
       "      <td>0.9985</td>\n",
       "      <td>pizza</td>\n",
       "      <td>0.5898</td>\n",
       "      <td>True</td>\n",
       "    </tr>\n",
       "    <tr>\n",
       "      <th>1</th>\n",
       "      <td>data\\pizza_steak_sushi_20_percent\\test\\pizza\\1...</td>\n",
       "      <td>pizza</td>\n",
       "      <td>0.9955</td>\n",
       "      <td>pizza</td>\n",
       "      <td>0.3247</td>\n",
       "      <td>True</td>\n",
       "    </tr>\n",
       "    <tr>\n",
       "      <th>2</th>\n",
       "      <td>data\\pizza_steak_sushi_20_percent\\test\\pizza\\1...</td>\n",
       "      <td>pizza</td>\n",
       "      <td>0.9966</td>\n",
       "      <td>pizza</td>\n",
       "      <td>0.2824</td>\n",
       "      <td>True</td>\n",
       "    </tr>\n",
       "    <tr>\n",
       "      <th>3</th>\n",
       "      <td>data\\pizza_steak_sushi_20_percent\\test\\pizza\\1...</td>\n",
       "      <td>pizza</td>\n",
       "      <td>0.9843</td>\n",
       "      <td>pizza</td>\n",
       "      <td>0.3045</td>\n",
       "      <td>True</td>\n",
       "    </tr>\n",
       "    <tr>\n",
       "      <th>4</th>\n",
       "      <td>data\\pizza_steak_sushi_20_percent\\test\\pizza\\1...</td>\n",
       "      <td>pizza</td>\n",
       "      <td>0.9776</td>\n",
       "      <td>pizza</td>\n",
       "      <td>0.2724</td>\n",
       "      <td>True</td>\n",
       "    </tr>\n",
       "  </tbody>\n",
       "</table>\n",
       "</div>"
      ],
      "text/plain": [
       "                                          image_path gnd_truth_class  \\\n",
       "0  data\\pizza_steak_sushi_20_percent\\test\\pizza\\1...           pizza   \n",
       "1  data\\pizza_steak_sushi_20_percent\\test\\pizza\\1...           pizza   \n",
       "2  data\\pizza_steak_sushi_20_percent\\test\\pizza\\1...           pizza   \n",
       "3  data\\pizza_steak_sushi_20_percent\\test\\pizza\\1...           pizza   \n",
       "4  data\\pizza_steak_sushi_20_percent\\test\\pizza\\1...           pizza   \n",
       "\n",
       "   pred_probs pred_class  pred_time  gndtrth_predclass_match  \n",
       "0      0.9985      pizza     0.5898                     True  \n",
       "1      0.9955      pizza     0.3247                     True  \n",
       "2      0.9966      pizza     0.2824                     True  \n",
       "3      0.9843      pizza     0.3045                     True  \n",
       "4      0.9776      pizza     0.2724                     True  "
      ]
     },
     "execution_count": 41,
     "metadata": {},
     "output_type": "execute_result"
    }
   ],
   "source": [
    "vit_test_pred_df = pd.DataFrame(vit_test_pred_dicts)\n",
    "vit_test_pred_df.head()"
   ]
  },
  {
   "cell_type": "code",
   "execution_count": 42,
   "id": "b00237d7-58c2-40c7-9312-3e3fefcded5a",
   "metadata": {},
   "outputs": [
    {
     "data": {
      "text/plain": [
       "gndtrth_predclass_match\n",
       "True     148\n",
       "False      2\n",
       "Name: count, dtype: int64"
      ]
     },
     "execution_count": 42,
     "metadata": {},
     "output_type": "execute_result"
    }
   ],
   "source": [
    "# Number of correct preds?\n",
    "vit_test_pred_df.gndtrth_predclass_match.value_counts()"
   ]
  },
  {
   "cell_type": "code",
   "execution_count": 43,
   "id": "1ec9007b-64fa-48af-9e75-8217dc2a150c",
   "metadata": {},
   "outputs": [
    {
     "data": {
      "text/plain": [
       "'0.255 seconds'"
      ]
     },
     "execution_count": 43,
     "metadata": {},
     "output_type": "execute_result"
    }
   ],
   "source": [
    "# Average prediction time per sample of ViT model\n",
    "vit_average_time_per_pred = round(vit_test_pred_df.pred_time.mean(), 4)\n",
    "str(vit_average_time_per_pred.item()) + \" seconds\""
   ]
  },
  {
   "cell_type": "code",
   "execution_count": 44,
   "id": "3e62c802-21d7-47f5-9eba-b7a65c3f74f0",
   "metadata": {},
   "outputs": [
    {
     "data": {
      "text/plain": [
       "{'test_loss': 0.05759347495622933,\n",
       " 'test_acc': 0.9875,\n",
       " 'number_of_parameters': 85800963,\n",
       " 'model_size (MB)': 327,\n",
       " 'time_per_pred_cpu': 0.255}"
      ]
     },
     "execution_count": 44,
     "metadata": {},
     "output_type": "execute_result"
    }
   ],
   "source": [
    "# Add the avg pred time to the vit stats dict for further comparison\n",
    "vit_stats[\"time_per_pred_cpu\"] = vit_average_time_per_pred.item()\n",
    "vit_stats"
   ]
  },
  {
   "cell_type": "markdown",
   "id": "4dffd4ae-54e0-4c31-9258-3ce37fe77283",
   "metadata": {},
   "source": [
    "### 6. Comparing model results, prediction times and size"
   ]
  },
  {
   "cell_type": "code",
   "execution_count": 45,
   "id": "28c8cd6e-3afe-4bec-b140-beb31b582917",
   "metadata": {},
   "outputs": [
    {
     "data": {
      "text/html": [
       "<div>\n",
       "<style scoped>\n",
       "    .dataframe tbody tr th:only-of-type {\n",
       "        vertical-align: middle;\n",
       "    }\n",
       "\n",
       "    .dataframe tbody tr th {\n",
       "        vertical-align: top;\n",
       "    }\n",
       "\n",
       "    .dataframe thead th {\n",
       "        text-align: right;\n",
       "    }\n",
       "</style>\n",
       "<table border=\"1\" class=\"dataframe\">\n",
       "  <thead>\n",
       "    <tr style=\"text-align: right;\">\n",
       "      <th></th>\n",
       "      <th>test_loss</th>\n",
       "      <th>test_acc</th>\n",
       "      <th>number_of_parameters</th>\n",
       "      <th>model_size (MB)</th>\n",
       "      <th>time_per_pred_cpu</th>\n",
       "      <th>model</th>\n",
       "    </tr>\n",
       "  </thead>\n",
       "  <tbody>\n",
       "    <tr>\n",
       "      <th>0</th>\n",
       "      <td>0.282629</td>\n",
       "      <td>96.88</td>\n",
       "      <td>7705221</td>\n",
       "      <td>29</td>\n",
       "      <td>0.088</td>\n",
       "      <td>EffNetB2</td>\n",
       "    </tr>\n",
       "    <tr>\n",
       "      <th>1</th>\n",
       "      <td>0.057593</td>\n",
       "      <td>98.75</td>\n",
       "      <td>85800963</td>\n",
       "      <td>327</td>\n",
       "      <td>0.255</td>\n",
       "      <td>ViT</td>\n",
       "    </tr>\n",
       "  </tbody>\n",
       "</table>\n",
       "</div>"
      ],
      "text/plain": [
       "   test_loss  test_acc  number_of_parameters  model_size (MB)  \\\n",
       "0   0.282629     96.88               7705221               29   \n",
       "1   0.057593     98.75              85800963              327   \n",
       "\n",
       "   time_per_pred_cpu     model  \n",
       "0              0.088  EffNetB2  \n",
       "1              0.255       ViT  "
      ]
     },
     "execution_count": 45,
     "metadata": {},
     "output_type": "execute_result"
    }
   ],
   "source": [
    "# Turn stats dictionaries into DataFrames\n",
    "df = pd.DataFrame([effnetb2_stats, vit_stats])\n",
    "\n",
    "# Add column for model names\n",
    "df[\"model\"] = [\"EffNetB2\", \"ViT\"]\n",
    "\n",
    "# Convert accuracy to percentage\n",
    "df[\"test_acc\"] = round(df[\"test_acc\"] * 100, 2)\n",
    "\n",
    "df"
   ]
  },
  {
   "cell_type": "code",
   "execution_count": 46,
   "id": "e349b967-5765-4541-99d5-de51d423066d",
   "metadata": {},
   "outputs": [
    {
     "data": {
      "text/html": [
       "<div>\n",
       "<style scoped>\n",
       "    .dataframe tbody tr th:only-of-type {\n",
       "        vertical-align: middle;\n",
       "    }\n",
       "\n",
       "    .dataframe tbody tr th {\n",
       "        vertical-align: top;\n",
       "    }\n",
       "\n",
       "    .dataframe thead th {\n",
       "        text-align: right;\n",
       "    }\n",
       "</style>\n",
       "<table border=\"1\" class=\"dataframe\">\n",
       "  <thead>\n",
       "    <tr style=\"text-align: right;\">\n",
       "      <th></th>\n",
       "      <th>test_loss</th>\n",
       "      <th>test_acc</th>\n",
       "      <th>number_of_parameters</th>\n",
       "      <th>model_size (MB)</th>\n",
       "      <th>time_per_pred_cpu</th>\n",
       "    </tr>\n",
       "  </thead>\n",
       "  <tbody>\n",
       "    <tr>\n",
       "      <th>ViT to EffNetB2 ratios</th>\n",
       "      <td>0.203778</td>\n",
       "      <td>1.019302</td>\n",
       "      <td>11.135432</td>\n",
       "      <td>11.275862</td>\n",
       "      <td>2.897727</td>\n",
       "    </tr>\n",
       "  </tbody>\n",
       "</table>\n",
       "</div>"
      ],
      "text/plain": [
       "                        test_loss  test_acc  number_of_parameters  \\\n",
       "ViT to EffNetB2 ratios   0.203778  1.019302             11.135432   \n",
       "\n",
       "                        model_size (MB)  time_per_pred_cpu  \n",
       "ViT to EffNetB2 ratios        11.275862           2.897727  "
      ]
     },
     "execution_count": 46,
     "metadata": {},
     "output_type": "execute_result"
    }
   ],
   "source": [
    "# Compare ViT to EffNetB2 across different characteristics by finding diff ratios b/w them by division\n",
    "pd.DataFrame(data=(df.set_index(\"model\").loc[\"ViT\"] / df.set_index(\"model\").loc[\"EffNetB2\"]), # Division of VIT stats by EffNetB2 stats\n",
    "            columns=[\"ViT to EffNetB2 ratios\"]).T"
   ]
  },
  {
   "cell_type": "markdown",
   "id": "545fc3bf-49ff-4fb3-b9df-ac8d5fc1968f",
   "metadata": {},
   "source": [
    "**ViT model outperforms the EffNetB2 model across the performance metrics (test loss and test accuracy) but at the expense of**:\n",
    "\n",
    "    11x+ the number of params\n",
    "    11x+ the model size\n",
    "    2.5x+ the prediction time per image\n",
    "\n",
    "However, these tradeoffs are not worth it for deploying on edge devices with constrained computing power.   \n",
    "\n",
    "So, would likely be starting out with the EffNetB2 model for faster preds at a slightly reduced performance but dramatically smaller size."
   ]
  },
  {
   "cell_type": "markdown",
   "id": "c1939f55-a9fd-436a-a601-296cc241992f",
   "metadata": {},
   "source": [
    "#### 6.1 Visualizing the speed vs. performance tradeoff"
   ]
  },
  {
   "cell_type": "markdown",
   "id": "f15596f0-dad7-48b0-93bf-285105fd0598",
   "metadata": {},
   "source": [
    "**Performance or inference time is also often referred to as latency.**"
   ]
  },
  {
   "cell_type": "code",
   "execution_count": 47,
   "id": "b2c4b615-a878-419c-812c-adb62ef6db5c",
   "metadata": {},
   "outputs": [
    {
     "data": {
      "image/png": "[encoded data removed]",
      "text/plain": [
       "<Figure size 1200x800 with 1 Axes>"
      ]
     },
     "metadata": {},
     "output_type": "display_data"
    }
   ],
   "source": [
    "# 1. Create a plot from model comparison DataFrame, df\n",
    "fig, ax = plt.subplots(figsize=(12, 8))\n",
    "scatter = ax.scatter(data=df, x = \"time_per_pred_cpu\", y = \"test_acc\", c = [\"blue\", \"orange\"],\n",
    "                      s = \"model_size (MB)\") # Size the dots by the model sizes\n",
    "\n",
    "# 2. Add titles, labels and customize fontsize for aesthetics\n",
    "ax.set_title(\"FoodVision Mini Inference Speed vs Performance\", fontsize=18)\n",
    "ax.set_xlabel(\"Prediction time per image (seconds)\", fontsize=14)\n",
    "ax.set_ylabel(\"Test accuracy (%)\", fontsize=14)\n",
    "ax.tick_params(axis=\"both\", labelsize=12)\n",
    "ax.grid(True)\n",
    "\n",
    "# 3. Annotate samples on the plot with the model names\n",
    "for index, row in df.iterrows():\n",
    "    ax.annotate(text=row[\"model\"], xy=(row[\"time_per_pred_cpu\"]+0.0006, row[\"test_acc\"]+0.03), size=12)\n",
    "\n",
    "# 4. Create legend based on model sizes\n",
    "handles, labels = scatter.legend_elements(prop=\"sizes\", alpha=0.5)\n",
    "model_size_legend = ax.legend(handles, labels, loc=\"lower right\", title=\"Model size (MB)\", fontsize=12)\n",
    "\n",
    "# Save the figure\n",
    "import os\n",
    "os.makedirs(\"images\", exist_ok = True)\n",
    "plt.savefig(\"images/09-foodvision-mini-inference-speed-vs-performance.jpg\")\n",
    "\n",
    "# Show the figure\n",
    "plt.show()"
   ]
  },
  {
   "cell_type": "markdown",
   "id": "5cd25657-a083-427a-b58e-7d7177bf4e48",
   "metadata": {},
   "source": [
    "So, the plot visualizes the tradeoff in a good way. However, going to stick with deploying the EffNetB2 model since it is faster and has a much smaller footprnt."
   ]
  },
  {
   "cell_type": "markdown",
   "id": "bbbc1b79-dc13-4767-bb4e-af671f0cc969",
   "metadata": {},
   "source": [
    "### 7. Bringing FoodVision Mini to life by creating a Gradio demo"
   ]
  },
  {
   "cell_type": "markdown",
   "id": "b366abfe-15c5-4f60-ade6-b8a9f233f0e6",
   "metadata": {},
   "source": [
    "Gradio is the fastest way to demo an ML model with a friendly web interface so that anyone can use it, anywhere."
   ]
  },
  {
   "cell_type": "markdown",
   "id": "e1686179-c171-448e-bd4a-b0aab1c7756d",
   "metadata": {},
   "source": [
    "Demonstration of the models is important because metrcis on test set look nice but it is never really known how the model performs until used in the wild."
   ]
  },
  {
   "cell_type": "code",
   "execution_count": 48,
   "id": "a3dd19d5-0f98-4f74-906e-d28340fa93ee",
   "metadata": {},
   "outputs": [
    {
     "name": "stdout",
     "output_type": "stream",
     "text": [
      "5.44.1\n"
     ]
    }
   ],
   "source": [
    "# Install or import Gradio accordingly\n",
    "try:\n",
    "    import gradio as gr\n",
    "except:\n",
    "    !pip -q install gradio\n",
    "    import gradio as gr\n",
    "\n",
    "print(gr.__version__)"
   ]
  },
  {
   "cell_type": "markdown",
   "id": "3de2fb62-33fc-4790-9d98-6d0007f75150",
   "metadata": {},
   "source": [
    "#### 7.1 Gradio overview"
   ]
  },
  {
   "cell_type": "markdown",
   "id": "4e069ae7-061c-456d-91e6-de66f7b8a013",
   "metadata": {},
   "source": [
    "Gradio emulates the paradigm of (inputs, black box functioning, outputs), as is of ML models, by creating an interface from inputs to outputs.\n",
    "\n",
    "    gradio.Interface(fn, inputs, outputs)\n",
    "\n",
    "Here, fn is a Python function to map the inputs to the outputs."
   ]
  },
  {
   "cell_type": "markdown",
   "id": "2b28ba7a-2d82-4067-af77-47640f98e667",
   "metadata": {},
   "source": [
    "![Gradio Visual Representation](https://raw.githubusercontent.com/mrdbourke/pytorch-deep-learning/main/images/09-gradio-workflow.png)"
   ]
  },
  {
   "cell_type": "markdown",
   "id": "5e4c688c-985d-4206-9553-31eb34f4f4cc",
   "metadata": {},
   "source": [
    "*Gradio provides a very helpful **Interface** class to easily create an inputs -> model/function -> outputs workflow where the inputs and outputs could be almost anything you want. For example, you might input Tweets (text) to see if they're about machine learning or not or input a text prompt to generate images.*"
   ]
  },
  {
   "cell_type": "markdown",
   "id": "965d0851-5ebf-49a3-91b1-3e69c135c36b",
   "metadata": {},
   "source": [
    "Gradio has a vast number of possible inputs and outputs options known as **Components**."
   ]
  },
  {
   "cell_type": "markdown",
   "id": "18d3cac2-9f46-4852-a7a4-326166e6e413",
   "metadata": {},
   "source": [
    "#### 7.2 Creating a function to map the inputs and outputs"
   ]
  },
  {
   "cell_type": "raw",
   "id": "b1d04c4f-95c4-4d6d-a9d9-cbe523fc2fe0",
   "metadata": {},
   "source": [
    "input: image -> transform -> predict with EffNetB2 -> output: prediction, pred prob, time taken for pred"
   ]
  },
  {
   "cell_type": "markdown",
   "id": "ad54a2a1-489a-4866-b06a-b2f1d1a97ae0",
   "metadata": {},
   "source": [
    "This function will be the **fn** parameter for the Gradio Interface."
   ]
  },
  {
   "cell_type": "code",
   "execution_count": 49,
   "id": "1779d0b0-7947-46d8-b528-e1cdbbad3ade",
   "metadata": {},
   "outputs": [
    {
     "data": {
      "text/plain": [
       "device(type='cpu')"
      ]
     },
     "execution_count": 49,
     "metadata": {},
     "output_type": "execute_result"
    }
   ],
   "source": [
    "# Ensure EffNetB2 is on CPU\n",
    "effnetb2.to(\"cpu\")\n",
    "\n",
    "# Check the device\n",
    "next(iter(effnetb2.parameters())).device"
   ]
  },
  {
   "cell_type": "code",
   "execution_count": 50,
   "id": "79ddc835-d1a7-4394-8cfa-b3dbcbd5b113",
   "metadata": {},
   "outputs": [],
   "source": [
    "from typing import Tuple, Dict\n",
    "\n",
    "# Creating a function predict(), similar to pred_and_store() function, to replicate the above workflow\n",
    "def predict(img) -> Tuple[Dict, float]:\n",
    "    \"\"\"Transforms and performs a prediction on img and returns prediction and time taken.\n",
    "    \"\"\"\n",
    "    # Timer start\n",
    "    start_time = timer()\n",
    "    \n",
    "    # Transform the image and add a batch dimension\n",
    "    img = effnetb2_transforms(img).unsqueeze(0)\n",
    "    \n",
    "    # Get model into eval() mode and turn on inference mode\n",
    "    effnetb2.eval()\n",
    "    with torch.inference_mode():\n",
    "        # Pass transformed image through the model and turn pred logits to pred probs\n",
    "        pred_logits = effnetb2(img)\n",
    "        pred_probs = torch.softmax(pred_logits, dim = 1)\n",
    "    \n",
    "    # Create pred label and pred prob dict for each pred class (this is the reqd format for Gradio's output parameter)\n",
    "    pred_labels_and_probs = {class_names[i]: float(pred_probs[0][i]) for i in range(len(class_names))}\n",
    "    \n",
    "    # Calculate the pred time\n",
    "    pred_time = round(timer() - start_time, 5)\n",
    "    \n",
    "    # return pred dict and pred time\n",
    "    return pred_labels_and_probs, pred_time"
   ]
  },
  {
   "cell_type": "code",
   "execution_count": 51,
   "id": "68150c6f-8d8d-4d5f-89b1-16ca363e0137",
   "metadata": {},
   "outputs": [
    {
     "name": "stdout",
     "output_type": "stream",
     "text": [
      "Predicting on the image at path: data\\pizza_steak_sushi_20_percent\\test\\sushi\\1994748.jpg\n",
      "Pred label and prob dict: \n",
      "{'pizza': 0.06300856918096542, 'steak': 0.3712386190891266, 'sushi': 0.5657528042793274}\n",
      "Pred time: 0.10609 seconds\n"
     ]
    }
   ],
   "source": [
    "import random\n",
    "from PIL import Image\n",
    "from timeit import default_timer as timer\n",
    "\n",
    "# Get list of all image paths from test directory\n",
    "test_data_paths = list(Path(test_dir).glob(\"*/*.jpg\"))\n",
    "\n",
    "# Randomly select an image path from that list\n",
    "random_image_path = random.sample(test_data_paths, k=1)[0]\n",
    "\n",
    "# Open the image\n",
    "image = Image.open(random_image_path)\n",
    "print(f\"Predicting on the image at path: {random_image_path}\")\n",
    "\n",
    "# Predict on the random image\n",
    "pred_dict, pred_time = predict(img=image)\n",
    "print(f\"Pred label and prob dict: \\n{pred_dict}\")\n",
    "print(f\"Pred time: {pred_time} seconds\")"
   ]
  },
  {
   "cell_type": "markdown",
   "id": "685b0414-32b0-4efd-a2ba-b5ed649d3b54",
   "metadata": {},
   "source": [
    "#### 7.3 Creating a list of example images"
   ]
  },
  {
   "cell_type": "markdown",
   "id": "5689f6c4-5839-48d2-a3ad-c1e7e3a55b13",
   "metadata": {},
   "source": [
    "Gradio's Interface class takes a list of examples of as an optional parameter: **Gradio.Interface(examples=List[Any])**"
   ]
  },
  {
   "cell_type": "markdown",
   "id": "a780a321-63e4-4c48-bfd7-434a37cb0e13",
   "metadata": {},
   "source": [
    "The format for this examples parameter is a list of lists."
   ]
  },
  {
   "cell_type": "code",
   "execution_count": 52,
   "id": "2546ebf8-c148-494e-9bf6-a5c8dc3af299",
   "metadata": {},
   "outputs": [
    {
     "data": {
      "text/plain": [
       "[['data\\\\pizza_steak_sushi_20_percent\\\\test\\\\steak\\\\1882831.jpg'],\n",
       " ['data\\\\pizza_steak_sushi_20_percent\\\\test\\\\steak\\\\219196.jpg'],\n",
       " ['data\\\\pizza_steak_sushi_20_percent\\\\test\\\\sushi\\\\124279.jpg']]"
      ]
     },
     "execution_count": 52,
     "metadata": {},
     "output_type": "execute_result"
    }
   ],
   "source": [
    "# Creating a list of example inputs to our Gradio demo\n",
    "example_list = [[str(filepath)] for filepath in random.sample(test_data_paths, k=3)]\n",
    "example_list"
   ]
  },
  {
   "cell_type": "markdown",
   "id": "cfa4ef12-1d2e-43bc-8bd9-292bdd4a91b6",
   "metadata": {},
   "source": [
    "Displayed will be these examples when users use the demo app/site without any image uploads by the user."
   ]
  },
  {
   "cell_type": "markdown",
   "id": "4c43f962-0ab7-4bc9-9597-55e8b83754bf",
   "metadata": {},
   "source": [
    "#### 7.4 Building a Gradio interface"
   ]
  },
  {
   "cell_type": "markdown",
   "id": "c1e4da6d-fcc4-4723-b1a2-e00ace9f2d7f",
   "metadata": {},
   "source": [
    "Put everything together into a living FoodVision Mini demo."
   ]
  },
  {
   "cell_type": "markdown",
   "id": "fc143698-da1a-4553-b997-85db0df15d94",
   "metadata": {},
   "source": [
    "A Gradio Interface can be created using gradio.Interface() with the following parameters:\n",
    "\n",
    "    fn - Python function mapping inputs to outputs, predict() function here.\n",
    "    inputs - i/ps to the interface, gradio.Image() or \"image\"\n",
    "    outputs - o/ps of the interface once the i/ps have gone through fn, gradio.Label() for pred labels and gradio.Number() for model's pred time.\n",
    "    examples - example_list\n",
    "    title - A string title of the demo\n",
    "    description - A string description of the demo\n",
    "    article - A reference note at the bottom of the demo\n",
    "\n",
    "After the demo instance creation of gr.Interface(), it can be launched using gradio.Interface.launch() or demo.launch()."
   ]
  },
  {
   "cell_type": "code",
   "execution_count": 53,
   "id": "ecc5454e-25be-438a-a22a-4924957e38db",
   "metadata": {},
   "outputs": [
    {
     "name": "stdout",
     "output_type": "stream",
     "text": [
      "* Running on local URL:  http://127.0.0.1:7860\n",
      "\n",
      "Could not create share link. Please check your internet connection or our status page: https://status.gradio.app.\n"
     ]
    },
    {
     "data": {
      "text/html": [
       "<div><iframe src=\"http://127.0.0.1:7860/\" width=\"100%\" height=\"500\" allow=\"autoplay; camera; microphone; clipboard-read; clipboard-write;\" frameborder=\"0\" allowfullscreen></iframe></div>"
      ],
      "text/plain": [
       "<IPython.core.display.HTML object>"
      ]
     },
     "metadata": {},
     "output_type": "display_data"
    },
    {
     "data": {
      "text/plain": []
     },
     "execution_count": 53,
     "metadata": {},
     "output_type": "execute_result"
    }
   ],
   "source": [
    "# Create title, description and article strings\n",
    "title = \"FoodVision Mini 🍕🥩🍣\"\n",
    "description = \"An EfficientNetB2 feature extractor computer vision model to classify images of food as pizza, steak or sushi.\"\n",
    "article = \"Created at [09. PyTorch Model Deployment](https://www.learnpytorch.io/09_pytorch_model_deployment/).\"\n",
    "\n",
    "# Create the Gradio demo\n",
    "demo = gr.Interface(fn=predict, inputs=gr.Image(type=\"pil\"),\n",
    "                    outputs=[gr.Label(num_top_classes=3, label=\"Predictions\"),\n",
    "                             gr.Number(label=\"Prediction time (s)\")],\n",
    "                    examples=example_list,\n",
    "                    title=title,\n",
    "                    description=description,\n",
    "                    article=article)\n",
    "\n",
    "# Launch the demo\n",
    "demo.launch(debug=False, # print errors locally ?\n",
    "            share=True) # Generate a publically shareable link ?"
   ]
  },
  {
   "cell_type": "markdown",
   "id": "c140dc1a-fa1f-4d00-b130-13bac0be882f",
   "metadata": {},
   "source": [
    "Hence, a demo is ready. Although shareable link could not be generated."
   ]
  },
  {
   "cell_type": "markdown",
   "id": "c0a4e10c-8a0d-42b8-bdef-b1aa95f29596",
   "metadata": {},
   "source": [
    "### 8. Turning the FoodVision Mini Gradio Demo into a deployable app"
   ]
  },
  {
   "cell_type": "markdown",
   "id": "5f47536f-57b4-42a5-b760-1b656669e758",
   "metadata": {},
   "source": [
    "To make the FoodVision Mini demo more permanent, can package it into an app and upload it to Hf Spaces."
   ]
  },
  {
   "cell_type": "markdown",
   "id": "3366a820-97e8-4366-aff8-f8315a39742b",
   "metadata": {},
   "source": [
    "#### 8.1 What is Hugging Face Spaces ?"
   ]
  },
  {
   "cell_type": "markdown",
   "id": "b021884f-0ada-45fc-8e45-3c0ab326871e",
   "metadata": {},
   "source": [
    "A resource allowing to host and share ML apps."
   ]
  },
  {
   "cell_type": "markdown",
   "id": "4ed66bf2-c783-4029-915e-540da48bfab3",
   "metadata": {},
   "source": [
    "HF can be thought of as the GitHub of ML."
   ]
  },
  {
   "cell_type": "markdown",
   "id": "0adf42c5-40f2-4956-9809-e494ca3861fd",
   "metadata": {},
   "source": [
    "#### 8.2 Deployed Gradio app structure"
   ]
  },
  {
   "cell_type": "raw",
   "id": "fc588180-9698-4a74-ab2c-5af29069ad4c",
   "metadata": {},
   "source": [
    "Need to put everything related to the demo Gradio app into a single directory.\n",
    "\n",
    "For ex.:\n",
    "    demos/\n",
    "    └── foodvision_mini/\n",
    "        ├── 09_pretrained_effnetb2_feature_extractor_pizza_steak_sushi_20_percent.pth\n",
    "        ├── app.py\n",
    "        ├── examples/\n",
    "        │   ├── example_1.jpg\n",
    "        │   ├── example_2.jpg\n",
    "        │   └── example_3.jpg\n",
    "        ├── model.py\n",
    "        └── requirements.txt"
   ]
  },
  {
   "cell_type": "markdown",
   "id": "99c0197f-0352-4f9d-ac67-28f0a103617f",
   "metadata": {},
   "source": [
    "Here, **app.py** contans the Gradio app; lanuch code for it. This is the default filename used for HF Spaces, if deployed there. **model.py** contains model definition and any transforms associated with it."
   ]
  },
  {
   "cell_type": "markdown",
   "id": "099c0848-0b1b-42b5-afa8-0e95890c1924",
   "metadata": {},
   "source": [
    "Will be working towards recreating the file structure above now. This way is used because it is one of the simplest layouts to begin with. However, **Experimentation is the key.**"
   ]
  },
  {
   "cell_type": "markdown",
   "id": "73a45a33-e87c-4e4e-b7a1-8092d04f5721",
   "metadata": {},
   "source": [
    "#### 8.3 Creating a demos folder to store the FoodVision Mini app files"
   ]
  },
  {
   "cell_type": "code",
   "execution_count": 54,
   "id": "db432253-2320-491f-aa59-a7546857b19a",
   "metadata": {},
   "outputs": [
    {
     "name": "stdout",
     "output_type": "stream",
     "text": [
      " Volume in drive C is Windows-SSD\n",
      " Volume Serial Number is 284D-8FBA\n",
      "\n",
      " Directory of C:\\Users\\ritis\\Desktop\\PyTorch-Learning\\demos\\foodvision_mini\n",
      "\n",
      "16-09-2025  13:36    <DIR>          .\n",
      "16-09-2025  13:36    <DIR>          ..\n",
      "               0 File(s)              0 bytes\n",
      "               2 Dir(s)  22,464,233,472 bytes free\n"
     ]
    }
   ],
   "source": [
    "import shutil\n",
    "\n",
    "# Model demo app directory path creation\n",
    "foodvision_mini_demo_path = Path(\"demos/foodvision_mini/\")\n",
    "\n",
    "# Remove any already existing files there and create new dir\n",
    "if foodvision_mini_demo_path.exists():\n",
    "    shutil.rmtree(foodvision_mini_demo_path)\n",
    "\n",
    "# If file doesn't exist, create it anyway\n",
    "foodvision_mini_demo_path.mkdir(parents=True, exist_ok=True)\n",
    "\n",
    "# Check the things in the created path\n",
    "!dir demos\\foodvision_mini\\"
   ]
  },
  {
   "cell_type": "markdown",
   "id": "19107a81-9d68-4fd8-9271-127070604a22",
   "metadata": {},
   "source": [
    "#### 8.4 Creating an example images folder to use with the FoodVision Mini demo"
   ]
  },
  {
   "cell_type": "code",
   "execution_count": 56,
   "id": "f27e8abb-b90a-4651-b277-3f142c27b4f2",
   "metadata": {},
   "outputs": [
    {
     "name": "stdout",
     "output_type": "stream",
     "text": [
      "Copying data\\pizza_steak_sushi_20_percent\\test\\sushi\\3494950.jpg to demos\\foodvision_mini\\examples\\3494950.jpg\n",
      "Copying data\\pizza_steak_sushi_20_percent\\test\\pizza\\148765.jpg to demos\\foodvision_mini\\examples\\148765.jpg\n",
      "Copying data\\pizza_steak_sushi_20_percent\\test\\steak\\831681.jpg to demos\\foodvision_mini\\examples\\831681.jpg\n"
     ]
    }
   ],
   "source": [
    "# 1. Create examples dir\n",
    "foodvision_mini_examples_path = foodvision_mini_demo_path / \"examples\"\n",
    "foodvision_mini_examples_path.mkdir(parents = True, exist_ok = True)\n",
    "\n",
    "# 2. Collect random test images' paths\n",
    "foodvision_mini_examples = [Path('data\\\\pizza_steak_sushi_20_percent\\\\test\\\\sushi\\\\3494950.jpg'),\n",
    "                            Path('data\\\\pizza_steak_sushi_20_percent\\\\test\\\\pizza\\\\148765.jpg'),\n",
    "                            Path('data\\\\pizza_steak_sushi_20_percent\\\\test\\\\steak\\\\831681.jpg')]\n",
    "\n",
    "# 3. Copy these 3 random images to the examples dir\n",
    "for example in foodvision_mini_examples:\n",
    "    dest = foodvision_mini_examples_path / example.name\n",
    "    print(f\"Copying {example} to {dest}\")\n",
    "    shutil.copy2(src=example, dst=dest)"
   ]
  },
  {
   "cell_type": "code",
   "execution_count": 57,
   "id": "f4ff09b8-70b9-4845-bf03-8c42b0c61767",
   "metadata": {},
   "outputs": [
    {
     "data": {
      "text/plain": [
       "[['examples/148765.jpg'], ['examples/3494950.jpg'], ['examples/831681.jpg']]"
      ]
     },
     "execution_count": 57,
     "metadata": {},
     "output_type": "execute_result"
    }
   ],
   "source": [
    "# Verifying the examples are present, and format filepaths into a list of lists for compatibility of example param of gradio.Interface()\n",
    "example_list = [[\"examples/\" + ex] for ex in os.listdir(foodvision_mini_examples_path)]\n",
    "example_list"
   ]
  },
  {
   "cell_type": "markdown",
   "id": "a19de9d5-97ef-46b6-857d-59a074db2e4c",
   "metadata": {},
   "source": [
    "#### 8.5 Moving the trained EffNetB2 model to the FoodVision Mini demo directory"
   ]
  },
  {
   "cell_type": "markdown",
   "id": "2c3232a8-1396-4416-919d-2203da02fc16",
   "metadata": {},
   "source": [
    "Rather than doubling the saved model files, move the model to the demo foodvision directory."
   ]
  },
  {
   "cell_type": "code",
   "execution_count": 58,
   "id": "f107af0c-ebb3-45e8-93a4-6c5c32f27d02",
   "metadata": {},
   "outputs": [
    {
     "name": "stdout",
     "output_type": "stream",
     "text": [
      "Attempting to move models/09_pretrained_effnetb2_feature_extractor_pizza_steak_sushi_20_percent.pth to demos\\foodvision_mini\\09_pretrained_effnetb2_feature_extractor_pizza_steak_sushi_20_percent.pth\n",
      "Model move complete.\n"
     ]
    }
   ],
   "source": [
    "# Source path set for target file\n",
    "effnetb2_foodvision_mini_model_path = \"models/09_pretrained_effnetb2_feature_extractor_pizza_steak_sushi_20_percent.pth\"\n",
    "\n",
    "# Destination path set for the target file to move to\n",
    "effnetb2_foodvision_mini_model_dest = foodvision_mini_demo_path / effnetb2_foodvision_mini_model_path.split(\"/\")[1]\n",
    "\n",
    "# Try to move the model file\n",
    "try:\n",
    "    print(f\"Attempting to move {effnetb2_foodvision_mini_model_path} to {effnetb2_foodvision_mini_model_dest}\")\n",
    "    # Move the model\n",
    "    shutil.move(src=effnetb2_foodvision_mini_model_path, dst=effnetb2_foodvision_mini_model_dest)\n",
    "    print(\"Model move complete.\")\n",
    "\n",
    "# Check if the model has already been moved and if it exists\n",
    "except:\n",
    "    print(f\"No model found at {effnetb2_foodvision_mini_model_path}, perhaps already been moved?\")\n",
    "    print(f\"Model exists at {effnetb2_foodvision_mini_model_dest}: {effnetb2_foodvision_mini_model_dest.exists()}\")"
   ]
  },
  {
   "cell_type": "markdown",
   "id": "aab00df4-d466-42df-8b2a-d69cd67263bd",
   "metadata": {},
   "source": [
    "#### 8.6 Turning the EffNetB2 model into a Python script (model.py)"
   ]
  },
  {
   "cell_type": "code",
   "execution_count": 59,
   "id": "56877739-cb25-4f54-8dae-39c49fcc3d3a",
   "metadata": {},
   "outputs": [
    {
     "name": "stdout",
     "output_type": "stream",
     "text": [
      "Writing demos/foodvision_mini/model.py\n"
     ]
    }
   ],
   "source": [
    "%%writefile demos/foodvision_mini/model.py\n",
    "import torch\n",
    "import torchvision\n",
    "from torch import nn\n",
    "\n",
    "# Functionalize the EffNetB2 feature extractor model creation\n",
    "def create_effnetb2_model(num_classes: int=3, seed: int=42):\n",
    "    \"\"\"Creates an EfficientNetB2 feature extractor model and its transforms.\n",
    "    Returns the model and transforms.\n",
    "    \"\"\"\n",
    "    # 1, 2, 3 Steps here\n",
    "    weights = torchvision.models.EfficientNet_B2_Weights.DEFAULT\n",
    "    transforms = weights.transforms()\n",
    "    model = torchvision.models.efficientnet_b2(weights=weights)\n",
    "\n",
    "    # Step 4\n",
    "    for param in model.parameters():\n",
    "        param.requires_grad = False\n",
    "\n",
    "    # Step 5\n",
    "    model.classifier = nn.Sequential(\n",
    "        nn.Dropout(p=0.3, inplace=True),\n",
    "        nn.Linear(in_features=1408, out_features=num_classes)\n",
    "    )\n",
    "\n",
    "    return model, transforms"
   ]
  },
  {
   "cell_type": "markdown",
   "id": "755bd07a-4c5d-4c59-8b85-649f711311c2",
   "metadata": {},
   "source": [
    "#### 8.7 Turning the FoodVision Mini Gradio app into a Python script (app.py)"
   ]
  },
  {
   "cell_type": "markdown",
   "id": "7791b916-f9dc-4ac5-9ba0-c376cac5c4c5",
   "metadata": {},
   "source": [
    "app.py will put everything together to create Gradio demo and will have four main parts:\n",
    "\n",
    "    1. Imports and class names setup\n",
    "    2. Model and transforms preparation\n",
    "    3. Predict function\n",
    "    4. Gradio app"
   ]
  },
  {
   "cell_type": "code",
   "execution_count": 60,
   "id": "a6c88b0f-2e3d-4825-9716-831084719080",
   "metadata": {},
   "outputs": [
    {
     "name": "stdout",
     "output_type": "stream",
     "text": [
      "Writing demos/foodvision_mini/app.py\n"
     ]
    }
   ],
   "source": [
    "%%writefile demos/foodvision_mini/app.py\n",
    "# Step 1\n",
    "import gradio as gr\n",
    "import os\n",
    "import torch\n",
    "\n",
    "from model import create_effnetb2_model\n",
    "from timeit import default_timer as timer\n",
    "from typing import Tuple, Dict\n",
    "\n",
    "## Setup class names\n",
    "class_names = [\"pizza\", \"steak\", \"sushi\"]\n",
    "\n",
    "# Step 2\n",
    "effnetb2, effnetb2_transforms = create_effnetb2_model(num_classes=len(class_names))\n",
    "effnetb2.load_state_dict(torch.load(f=\"09_pretrained_effnetb2_feature_extractor_pizza_steak_sushi_20_percent.pth\",\n",
    "                                   map_location=torch.device(\"cpu\"), weights_only = True))\n",
    "\n",
    "# Step 3\n",
    "def predict(img) -> Tuple[Dict, float]:\n",
    "    \"\"\"Transforms and performs a prediction on img and returns prediction and time taken.\n",
    "    \"\"\"\n",
    "    # Timer start\n",
    "    start_time = timer()\n",
    "    \n",
    "    # Transform the image and add a batch dimension\n",
    "    img = effnetb2_transforms(img).unsqueeze(0)\n",
    "    \n",
    "    # Get model into eval() mode and turn on inference mode\n",
    "    effnetb2.eval()\n",
    "    with torch.inference_mode():\n",
    "        # Pass transformed image through the model and turn pred logits to pred probs\n",
    "        pred_logits = effnetb2(img)\n",
    "        pred_probs = torch.softmax(pred_logits, dim = 1)\n",
    "    \n",
    "    # Create pred label and pred prob dict for each pred class (this is the reqd format for Gradio's output parameter)\n",
    "    pred_labels_and_probs = {class_names[i]: float(pred_probs[0][i]) for i in range(len(class_names))}\n",
    "    \n",
    "    # Calculate the pred time\n",
    "    pred_time = round(timer() - start_time, 5)\n",
    "    \n",
    "    # return pred dict and pred time\n",
    "    return pred_labels_and_probs, pred_time   \n",
    "\n",
    "# Step 4\n",
    "## Create title, description and article strings\n",
    "title = \"FoodVision Mini 🍕🥩🍣\"\n",
    "description = \"An EfficientNetB2 feature extractor computer vision model to classify images of food as pizza, steak or sushi.\"\n",
    "article = \"Created at [09. PyTorch Model Deployment](https://www.learnpytorch.io/09_pytorch_model_deployment/).\"\n",
    "\n",
    "## Create examples list from \"examples/\" directory\n",
    "example_list = [[\"examples/\" + example] for example in os.listdir(\"examples\")]\n",
    "\n",
    "## Create the Gradio demo\n",
    "demo = gr.Interface(fn=predict, inputs=gr.Image(type=\"pil\"),\n",
    "                    outputs=[gr.Label(num_top_classes=3, label=\"Predictions\"),\n",
    "                             gr.Number(label=\"Prediction time (s)\")],\n",
    "                    examples=example_list,\n",
    "                    title=title,\n",
    "                    description=description,\n",
    "                    article=article)\n",
    "\n",
    "## Launch the demo\n",
    "demo.launch()"
   ]
  },
  {
   "cell_type": "markdown",
   "id": "b777aee4-1169-4a55-9059-ecd31aa202a9",
   "metadata": {},
   "source": [
    "#### 8.8 Creating a requirements file for FoodVision Mini (requirements.txt)"
   ]
  },
  {
   "cell_type": "code",
   "execution_count": 61,
   "id": "7399e1db-14a5-4ea8-ac23-815d6f77b85e",
   "metadata": {},
   "outputs": [
    {
     "name": "stdout",
     "output_type": "stream",
     "text": [
      "Writing demos/foodvision_mini/requirements.txt\n"
     ]
    }
   ],
   "source": [
    "%%writefile demos/foodvision_mini/requirements.txt\n",
    "torch==2.5.0\n",
    "torchvision==0.20.0\n",
    "gradio==5.44.1"
   ]
  },
  {
   "cell_type": "markdown",
   "id": "52a1150c-b92a-4d3d-b621-4875517cbca0",
   "metadata": {},
   "source": [
    "**Now, have got all the files needed to deploy the FoodVision Mini demo.**"
   ]
  },
  {
   "cell_type": "markdown",
   "id": "f633cc1b-2c76-4e21-adbe-ee85a48955fb",
   "metadata": {},
   "source": [
    "### 9. Deploying the FoodVision Mini app to HF Spaces"
   ]
  },
  {
   "cell_type": "markdown",
   "id": "2165a874-6e7b-41f4-aaa0-840a10704ffc",
   "metadata": {},
   "source": [
    "All the things for the demo app are ready to be deployed now.\n",
    "\n",
    "However, a couple of options are there for uploading to a HF Space:\n",
    "\n",
    "    1. Upload via HF Web interface\n",
    "    2. Upload via command line/terminal or can use huggingface_hub library to interact with HF."
   ]
  },
  {
   "cell_type": "markdown",
   "id": "46fcc230-118f-4132-b683-29f4b7a3c38b",
   "metadata": {},
   "source": [
    "#### 9.1 Downloading the FoodVision Mini app files"
   ]
  },
  {
   "cell_type": "code",
   "execution_count": 62,
   "id": "3e1436f7-f8ea-4ddf-96b2-fc5a6598da42",
   "metadata": {},
   "outputs": [
    {
     "name": "stdout",
     "output_type": "stream",
     "text": [
      " Volume in drive C is Windows-SSD\n",
      " Volume Serial Number is 284D-8FBA\n",
      "\n",
      " Directory of C:\\Users\\ritis\\Desktop\\PyTorch-Learning\\demos\\foodvision_mini\n",
      "\n",
      "16-09-2025  13:38    <DIR>          .\n",
      "16-09-2025  13:36    <DIR>          ..\n",
      "16-09-2025  13:25        31,314,554 09_pretrained_effnetb2_feature_extractor_pizza_steak_sushi_20_percent.pth\n",
      "16-09-2025  13:38             2,462 app.py\n",
      "16-09-2025  13:38    <DIR>          examples\n",
      "16-09-2025  13:38               795 model.py\n",
      "16-09-2025  13:38                51 requirements.txt\n",
      "               4 File(s)     31,317,862 bytes\n",
      "               3 Dir(s)  22,461,501,440 bytes free\n"
     ]
    }
   ],
   "source": [
    "!dir demos\\foodvision_mini"
   ]
  },
  {
   "cell_type": "markdown",
   "id": "84a04b34-c322-44a4-a1be-6660bdc36095",
   "metadata": {},
   "source": [
    "Do not need to do this section of code since not running this notebook in Google Colab. Already in local."
   ]
  },
  {
   "cell_type": "markdown",
   "id": "d59690e1-6198-4e08-88c0-f3e4ed32a678",
   "metadata": {},
   "source": [
    "#### 9.2 Running the FoodVision Mini demo locally"
   ]
  },
  {
   "cell_type": "markdown",
   "id": "21786dea-4872-46a8-ab65-b812fadabd15",
   "metadata": {},
   "source": [
    "This section has the usual testing of the app locally before final upload to the HF Space. Nothing new. Just unzip the folder if using Google Colab beofre testing. That's all!"
   ]
  },
  {
   "cell_type": "markdown",
   "id": "063cfbd8-9a8e-456f-b91c-20fef2ceaade",
   "metadata": {},
   "source": [
    "#### 9.3 Uploading to HF"
   ]
  },
  {
   "cell_type": "markdown",
   "id": "0c1cb0e9-cb6a-4075-b8c4-5cc429120f59",
   "metadata": {},
   "source": [
    "**Successfully uploaded.**"
   ]
  },
  {
   "cell_type": "code",
   "execution_count": 63,
   "id": "17511d3e-5702-4394-97aa-58baf45366ef",
   "metadata": {},
   "outputs": [
    {
     "data": {
      "text/html": [
       "\n",
       "        <iframe\n",
       "            width=\"900\"\n",
       "            height=\"750\"\n",
       "            src=\"https://ritish369-foodvision-mini-learning.hf.space\"\n",
       "            frameborder=\"0\"\n",
       "            allowfullscreen\n",
       "            \n",
       "        ></iframe>\n",
       "        "
      ],
      "text/plain": [
       "<IPython.lib.display.IFrame at 0x1ad4900d410>"
      ]
     },
     "execution_count": 63,
     "metadata": {},
     "output_type": "execute_result"
    }
   ],
   "source": [
    "# Embedding the Gradio demo into the notebook as an iframe\n",
    "\n",
    "# This lib helps make Python interactive\n",
    "from IPython.display import IFrame\n",
    "\n",
    "# Embed the demo\n",
    "IFrame(src=\"https://ritish369-foodvision-mini-learning.hf.space\", width=900, height=750)"
   ]
  },
  {
   "cell_type": "markdown",
   "id": "74b4692b-f0e8-4d2e-899e-4d000188c364",
   "metadata": {},
   "source": [
    "### 10. Creating FoodVision Big"
   ]
  },
  {
   "cell_type": "markdown",
   "id": "d8133861-94c4-4b09-a26e-e8c1500018e6",
   "metadata": {},
   "source": [
    "![title](https://raw.githubusercontent.com/mrdbourke/pytorch-deep-learning/main/images/09-model-deployment-foodvision-mini-to-foodvision-big.png)"
   ]
  },
  {
   "cell_type": "markdown",
   "id": "0b69e31d-2ffa-48b8-99d9-6a716e3c1c31",
   "metadata": {},
   "source": [
    "#### 10.1 Creating a model and transforms for FoodVision Big"
   ]
  },
  {
   "cell_type": "code",
   "execution_count": 64,
   "id": "33f2b9a0-8942-4807-ac3c-1e5e61939de9",
   "metadata": {},
   "outputs": [],
   "source": [
    "effnetb2_food101, effnetb2_transforms = create_effnetb2_model(num_classes=101)"
   ]
  },
  {
   "cell_type": "code",
   "execution_count": 65,
   "id": "b737c93c-28cf-49c7-865b-f41e5cae5857",
   "metadata": {},
   "outputs": [
    {
     "data": {
      "text/plain": [
       "============================================================================================================================================\n",
       "Layer (type (var_name))                                      Input Shape          Output Shape         Param #              Trainable\n",
       "============================================================================================================================================\n",
       "EfficientNet (EfficientNet)                                  [1, 3, 224, 224]     [1, 101]             --                   Partial\n",
       "├─Sequential (features)                                      [1, 3, 224, 224]     [1, 1408, 7, 7]      --                   False\n",
       "│    └─Conv2dNormActivation (0)                              [1, 3, 224, 224]     [1, 32, 112, 112]    --                   False\n",
       "│    │    └─Conv2d (0)                                       [1, 3, 224, 224]     [1, 32, 112, 112]    (864)                False\n",
       "│    │    └─BatchNorm2d (1)                                  [1, 32, 112, 112]    [1, 32, 112, 112]    (64)                 False\n",
       "│    │    └─SiLU (2)                                         [1, 32, 112, 112]    [1, 32, 112, 112]    --                   --\n",
       "│    └─Sequential (1)                                        [1, 32, 112, 112]    [1, 16, 112, 112]    --                   False\n",
       "│    │    └─MBConv (0)                                       [1, 32, 112, 112]    [1, 16, 112, 112]    (1,448)              False\n",
       "│    │    └─MBConv (1)                                       [1, 16, 112, 112]    [1, 16, 112, 112]    (612)                False\n",
       "│    └─Sequential (2)                                        [1, 16, 112, 112]    [1, 24, 56, 56]      --                   False\n",
       "│    │    └─MBConv (0)                                       [1, 16, 112, 112]    [1, 24, 56, 56]      (6,004)              False\n",
       "│    │    └─MBConv (1)                                       [1, 24, 56, 56]      [1, 24, 56, 56]      (10,710)             False\n",
       "│    │    └─MBConv (2)                                       [1, 24, 56, 56]      [1, 24, 56, 56]      (10,710)             False\n",
       "│    └─Sequential (3)                                        [1, 24, 56, 56]      [1, 48, 28, 28]      --                   False\n",
       "│    │    └─MBConv (0)                                       [1, 24, 56, 56]      [1, 48, 28, 28]      (16,518)             False\n",
       "│    │    └─MBConv (1)                                       [1, 48, 28, 28]      [1, 48, 28, 28]      (43,308)             False\n",
       "│    │    └─MBConv (2)                                       [1, 48, 28, 28]      [1, 48, 28, 28]      (43,308)             False\n",
       "│    └─Sequential (4)                                        [1, 48, 28, 28]      [1, 88, 14, 14]      --                   False\n",
       "│    │    └─MBConv (0)                                       [1, 48, 28, 28]      [1, 88, 14, 14]      (50,300)             False\n",
       "│    │    └─MBConv (1)                                       [1, 88, 14, 14]      [1, 88, 14, 14]      (123,750)            False\n",
       "│    │    └─MBConv (2)                                       [1, 88, 14, 14]      [1, 88, 14, 14]      (123,750)            False\n",
       "│    │    └─MBConv (3)                                       [1, 88, 14, 14]      [1, 88, 14, 14]      (123,750)            False\n",
       "│    └─Sequential (5)                                        [1, 88, 14, 14]      [1, 120, 14, 14]     --                   False\n",
       "│    │    └─MBConv (0)                                       [1, 88, 14, 14]      [1, 120, 14, 14]     (149,158)            False\n",
       "│    │    └─MBConv (1)                                       [1, 120, 14, 14]     [1, 120, 14, 14]     (237,870)            False\n",
       "│    │    └─MBConv (2)                                       [1, 120, 14, 14]     [1, 120, 14, 14]     (237,870)            False\n",
       "│    │    └─MBConv (3)                                       [1, 120, 14, 14]     [1, 120, 14, 14]     (237,870)            False\n",
       "│    └─Sequential (6)                                        [1, 120, 14, 14]     [1, 208, 7, 7]       --                   False\n",
       "│    │    └─MBConv (0)                                       [1, 120, 14, 14]     [1, 208, 7, 7]       (301,406)            False\n",
       "│    │    └─MBConv (1)                                       [1, 208, 7, 7]       [1, 208, 7, 7]       (686,868)            False\n",
       "│    │    └─MBConv (2)                                       [1, 208, 7, 7]       [1, 208, 7, 7]       (686,868)            False\n",
       "│    │    └─MBConv (3)                                       [1, 208, 7, 7]       [1, 208, 7, 7]       (686,868)            False\n",
       "│    │    └─MBConv (4)                                       [1, 208, 7, 7]       [1, 208, 7, 7]       (686,868)            False\n",
       "│    └─Sequential (7)                                        [1, 208, 7, 7]       [1, 352, 7, 7]       --                   False\n",
       "│    │    └─MBConv (0)                                       [1, 208, 7, 7]       [1, 352, 7, 7]       (846,900)            False\n",
       "│    │    └─MBConv (1)                                       [1, 352, 7, 7]       [1, 352, 7, 7]       (1,888,920)          False\n",
       "│    └─Conv2dNormActivation (8)                              [1, 352, 7, 7]       [1, 1408, 7, 7]      --                   False\n",
       "│    │    └─Conv2d (0)                                       [1, 352, 7, 7]       [1, 1408, 7, 7]      (495,616)            False\n",
       "│    │    └─BatchNorm2d (1)                                  [1, 1408, 7, 7]      [1, 1408, 7, 7]      (2,816)              False\n",
       "│    │    └─SiLU (2)                                         [1, 1408, 7, 7]      [1, 1408, 7, 7]      --                   --\n",
       "├─AdaptiveAvgPool2d (avgpool)                                [1, 1408, 7, 7]      [1, 1408, 1, 1]      --                   --\n",
       "├─Sequential (classifier)                                    [1, 1408]            [1, 101]             --                   True\n",
       "│    └─Dropout (0)                                           [1, 1408]            [1, 1408]            --                   --\n",
       "│    └─Linear (1)                                            [1, 1408]            [1, 101]             142,309              True\n",
       "============================================================================================================================================\n",
       "Total params: 7,843,303\n",
       "Trainable params: 142,309\n",
       "Non-trainable params: 7,700,994\n",
       "Total mult-adds (Units.MEGABYTES): 657.78\n",
       "============================================================================================================================================\n",
       "Input size (MB): 0.60\n",
       "Forward/backward pass size (MB): 156.80\n",
       "Params size (MB): 31.37\n",
       "Estimated Total Size (MB): 188.77\n",
       "============================================================================================================================================"
      ]
     },
     "execution_count": 65,
     "metadata": {},
     "output_type": "execute_result"
    }
   ],
   "source": [
    "# Get a summary of the created model\n",
    "summary(model=effnetb2_food101, input_size=(1, 3, 224, 224), col_names=[\"input_size\", \"output_size\", \"num_params\", \"trainable\"],\n",
    "       col_width=20, row_settings=[\"var_names\"])"
   ]
  },
  {
   "cell_type": "code",
   "execution_count": 66,
   "id": "eddce33f-2dc1-4841-8d16-cb40efeba748",
   "metadata": {},
   "outputs": [],
   "source": [
    "# Performing Data Augmentation over training data thus, creating the necessary training data transforms\n",
    "# Done to increase the data diversity to prevent overfitting; as the data being dealt with here is relatively more.\n",
    "food101_train_transforms = torchvision.transforms.Compose([\n",
    "    torchvision.transforms.TrivialAugmentWide(),\n",
    "    effnetb2_transforms\n",
    "])"
   ]
  },
  {
   "cell_type": "code",
   "execution_count": 67,
   "id": "d7cb0fbf-e09d-4aa1-8241-cec60a868c90",
   "metadata": {},
   "outputs": [
    {
     "name": "stdout",
     "output_type": "stream",
     "text": [
      "Training transforms:\n",
      "Compose(\n",
      "    TrivialAugmentWide(num_magnitude_bins=31, interpolation=InterpolationMode.NEAREST, fill=None)\n",
      "    ImageClassification(\n",
      "    crop_size=[288]\n",
      "    resize_size=[288]\n",
      "    mean=[0.485, 0.456, 0.406]\n",
      "    std=[0.229, 0.224, 0.225]\n",
      "    interpolation=InterpolationMode.BICUBIC\n",
      ")\n",
      ")\n",
      "\n",
      "Testing/inference transforms:\n",
      "ImageClassification(\n",
      "    crop_size=[288]\n",
      "    resize_size=[288]\n",
      "    mean=[0.485, 0.456, 0.406]\n",
      "    std=[0.229, 0.224, 0.225]\n",
      "    interpolation=InterpolationMode.BICUBIC\n",
      ")\n"
     ]
    }
   ],
   "source": [
    "print(f\"Training transforms:\\n{food101_train_transforms}\\n\")\n",
    "print(f\"Testing/inference transforms:\\n{effnetb2_transforms}\")"
   ]
  },
  {
   "cell_type": "markdown",
   "id": "caaf034e-1670-4985-91b1-394defd9fdc2",
   "metadata": {},
   "source": [
    "#### 10.2 Getting data for FoodVision Big"
   ]
  },
  {
   "cell_type": "code",
   "execution_count": 68,
   "id": "631eddea-6383-4887-ab4e-601a51f0ea4f",
   "metadata": {},
   "outputs": [],
   "source": [
    "from torchvision import datasets\n",
    "\n",
    "# Setup data dir\n",
    "data_dir = Path(\"data\")\n",
    "\n",
    "# Get training data; 75%\n",
    "train_data = datasets.Food101(root=data_dir, split=\"train\", transform=food101_train_transforms, download=True)\n",
    "\n",
    "# Get testing data; 25%\n",
    "test_data = datasets.Food101(root=data_dir, split=\"test\", transform=effnetb2_transforms, download=True)"
   ]
  },
  {
   "cell_type": "code",
   "execution_count": 69,
   "id": "044e8519-b519-4ed5-9c28-ab515f0498b5",
   "metadata": {},
   "outputs": [
    {
     "data": {
      "text/plain": [
       "['apple_pie',\n",
       " 'baby_back_ribs',\n",
       " 'baklava',\n",
       " 'beef_carpaccio',\n",
       " 'beef_tartare',\n",
       " 'beet_salad',\n",
       " 'beignets',\n",
       " 'bibimbap',\n",
       " 'bread_pudding',\n",
       " 'breakfast_burrito',\n",
       " 'bruschetta',\n",
       " 'caesar_salad',\n",
       " 'cannoli',\n",
       " 'caprese_salad',\n",
       " 'carrot_cake',\n",
       " 'ceviche',\n",
       " 'cheese_plate',\n",
       " 'cheesecake',\n",
       " 'chicken_curry',\n",
       " 'chicken_quesadilla',\n",
       " 'chicken_wings',\n",
       " 'chocolate_cake',\n",
       " 'chocolate_mousse',\n",
       " 'churros',\n",
       " 'clam_chowder',\n",
       " 'club_sandwich',\n",
       " 'crab_cakes',\n",
       " 'creme_brulee',\n",
       " 'croque_madame',\n",
       " 'cup_cakes',\n",
       " 'deviled_eggs',\n",
       " 'donuts',\n",
       " 'dumplings',\n",
       " 'edamame',\n",
       " 'eggs_benedict',\n",
       " 'escargots',\n",
       " 'falafel',\n",
       " 'filet_mignon',\n",
       " 'fish_and_chips',\n",
       " 'foie_gras',\n",
       " 'french_fries',\n",
       " 'french_onion_soup',\n",
       " 'french_toast',\n",
       " 'fried_calamari',\n",
       " 'fried_rice',\n",
       " 'frozen_yogurt',\n",
       " 'garlic_bread',\n",
       " 'gnocchi',\n",
       " 'greek_salad',\n",
       " 'grilled_cheese_sandwich',\n",
       " 'grilled_salmon',\n",
       " 'guacamole',\n",
       " 'gyoza',\n",
       " 'hamburger',\n",
       " 'hot_and_sour_soup',\n",
       " 'hot_dog',\n",
       " 'huevos_rancheros',\n",
       " 'hummus',\n",
       " 'ice_cream',\n",
       " 'lasagna',\n",
       " 'lobster_bisque',\n",
       " 'lobster_roll_sandwich',\n",
       " 'macaroni_and_cheese',\n",
       " 'macarons',\n",
       " 'miso_soup',\n",
       " 'mussels',\n",
       " 'nachos',\n",
       " 'omelette',\n",
       " 'onion_rings',\n",
       " 'oysters',\n",
       " 'pad_thai',\n",
       " 'paella',\n",
       " 'pancakes',\n",
       " 'panna_cotta',\n",
       " 'peking_duck',\n",
       " 'pho',\n",
       " 'pizza',\n",
       " 'pork_chop',\n",
       " 'poutine',\n",
       " 'prime_rib',\n",
       " 'pulled_pork_sandwich',\n",
       " 'ramen',\n",
       " 'ravioli',\n",
       " 'red_velvet_cake',\n",
       " 'risotto',\n",
       " 'samosa',\n",
       " 'sashimi',\n",
       " 'scallops',\n",
       " 'seaweed_salad',\n",
       " 'shrimp_and_grits',\n",
       " 'spaghetti_bolognese',\n",
       " 'spaghetti_carbonara',\n",
       " 'spring_rolls',\n",
       " 'steak',\n",
       " 'strawberry_shortcake',\n",
       " 'sushi',\n",
       " 'tacos',\n",
       " 'takoyaki',\n",
       " 'tiramisu',\n",
       " 'tuna_tartare',\n",
       " 'waffles']"
      ]
     },
     "execution_count": 69,
     "metadata": {},
     "output_type": "execute_result"
    }
   ],
   "source": [
    "# Get Food101 class names\n",
    "food101_class_names = train_data.classes\n",
    "food101_class_names"
   ]
  },
  {
   "cell_type": "markdown",
   "id": "72d92191-e7dd-4689-ae25-46b26c52d763",
   "metadata": {},
   "source": [
    "#### 10.3 Creating a subset of the Food101 dataset for faster experimenting"
   ]
  },
  {
   "cell_type": "markdown",
   "id": "127c0851-2018-459f-9ef0-71d3db612fa6",
   "metadata": {},
   "source": [
    "The goal is to see if the original Food101 paper's best results can be beaten with only 20% of the data."
   ]
  },
  {
   "cell_type": "markdown",
   "id": "bba34aec-c2a6-4043-a211-95c101f7cff9",
   "metadata": {},
   "source": [
    "As the model size slowly increased overtime, the dataset size being used for experiments also increased."
   ]
  },
  {
   "cell_type": "markdown",
   "id": "b7a76aa7-7609-4d7e-ac8b-4a4e1a3156e3",
   "metadata": {},
   "source": [
    "This is done in order to do faster training. Although the whole training and evaluation of the model can be done on the complete Food101 dataset. Also, some compute constraints are also present."
   ]
  },
  {
   "cell_type": "code",
   "execution_count": 70,
   "id": "9bfc36c5-f8c8-432b-8649-9189bf672f79",
   "metadata": {},
   "outputs": [],
   "source": [
    "def split_dataset(dataset: torchvision.datasets, split_size: float=0.2, seed: int=42):\n",
    "    \"\"\"Randomly splits a given dataset into two proportions based on split_size and seed.\n",
    "\n",
    "    Returns:\n",
    "        tuple: (random_split_1, randm_split_2); size of random_split_1 is split_size*len(dataset) and the other size is (1-split_size)*len(dataset).\n",
    "    \"\"\"\n",
    "    # Create split lengths based on split_size and dataset length\n",
    "    length_1 = int(split_size * len(dataset)) # target 20% split length\n",
    "    length_2 = len(dataset) - length_1 # remaining length\n",
    "\n",
    "    # Print the lengths\n",
    "    print(f\"Og dataset length: {len(dataset)} splitted into {length_1}, {int(split_size*100)}% split and {length_2}, {int((1-split_size)*100)}% split\")\n",
    "\n",
    "    # Create splits with random seed value\n",
    "    random_split_1, random_split_2 = torch.utils.data.random_split(dataset, lengths=[length_1, length_2], generator=torch.manual_seed(seed)) # seed for reproducible splits\n",
    "\n",
    "    return random_split_1, random_split_2"
   ]
  },
  {
   "cell_type": "code",
   "execution_count": 71,
   "id": "4aaea742-5bbb-4c60-8860-7473e68c0830",
   "metadata": {},
   "outputs": [
    {
     "name": "stdout",
     "output_type": "stream",
     "text": [
      "Og dataset length: 75750 splitted into 15150, 20% split and 60600, 80% split\n",
      "Og dataset length: 25250 splitted into 5050, 20% split and 20200, 80% split\n"
     ]
    },
    {
     "data": {
      "text/plain": [
       "(15150, 5050)"
      ]
     },
     "execution_count": 71,
     "metadata": {},
     "output_type": "execute_result"
    }
   ],
   "source": [
    "# Create training 20% split of Food101\n",
    "train_data_food101_20_percent, _ = split_dataset(train_data, split_size=0.2)\n",
    "\n",
    "# Create testing 20% split of Food101\n",
    "test_data_food101_20_percent, _ = split_dataset(test_data, split_size=0.2)\n",
    "\n",
    "len(train_data_food101_20_percent), len(test_data_food101_20_percent)"
   ]
  },
  {
   "cell_type": "markdown",
   "id": "cb89d6c1-9abd-4876-9ada-acaebe97d716",
   "metadata": {},
   "source": [
    "**Dataset splitted successfully for 20% split.**"
   ]
  },
  {
   "cell_type": "markdown",
   "id": "2682193d-b954-477d-bceb-33e71e955e98",
   "metadata": {},
   "source": [
    "#### 10.4 Turning the Food101 (20% splits) datasets into DataLoaders"
   ]
  },
  {
   "cell_type": "code",
   "execution_count": 72,
   "id": "b437abfa-5143-48a1-b2f7-662390ab89d5",
   "metadata": {},
   "outputs": [],
   "source": [
    "BATCH_SIZE = 32\n",
    "NUM_WORKERS = 2 if os.cpu_count() <= 4 else 4 # experimental value depending on the hardware being used\n",
    "\n",
    "# Create Food101 20 percent training DataLoader\n",
    "train_dataloader_food101_20_percent = torch.utils.data.DataLoader(train_data_food101_20_percent,\n",
    "                                                                 batch_size=BATCH_SIZE,\n",
    "                                                                 shuffle = True,\n",
    "                                                                 num_workers=NUM_WORKERS)\n",
    "\n",
    "# Create Food101 20 percent testing DataLoader\n",
    "test_dataloader_food101_20_percent = torch.utils.data.DataLoader(test_data_food101_20_percent,\n",
    "                                                                BATCH_SIZE,\n",
    "                                                                shuffle = False,\n",
    "                                                                num_workers=NUM_WORKERS)"
   ]
  },
  {
   "cell_type": "markdown",
   "id": "88c2a904-06e9-4fcc-8172-eedc18046c77",
   "metadata": {},
   "source": [
    "#### 10.5 Training FoodVision Big model"
   ]
  },
  {
   "cell_type": "markdown",
   "id": "e996aa50-78c0-4409-a0ed-33c927677a27",
   "metadata": {},
   "source": [
    "Model and the DataLoaders are ready respectively. Time to do training."
   ]
  },
  {
   "cell_type": "code",
   "execution_count": 73,
   "id": "25a73f7d-6b27-45a6-93fa-1acc23b28993",
   "metadata": {},
   "outputs": [
    {
     "name": "stderr",
     "output_type": "stream",
     "text": [
      " 20%|████████████████▌                                                                  | 1/5 [02:52<11:30, 172.72s/it]"
     ]
    },
    {
     "name": "stdout",
     "output_type": "stream",
     "text": [
      "\n",
      "Epoch: 1 | train_loss: 3.6323 | train_acc: 0.2864 | test_loss: 2.7651 | test_acc: 0.4895\n"
     ]
    },
    {
     "name": "stderr",
     "output_type": "stream",
     "text": [
      " 40%|█████████████████████████████████▏                                                 | 2/5 [05:40<08:29, 169.91s/it]"
     ]
    },
    {
     "name": "stdout",
     "output_type": "stream",
     "text": [
      "\n",
      "Epoch: 2 | train_loss: 2.8629 | train_acc: 0.4389 | test_loss: 2.4646 | test_acc: 0.5403\n"
     ]
    },
    {
     "name": "stderr",
     "output_type": "stream",
     "text": [
      " 60%|█████████████████████████████████████████████████▊                                 | 3/5 [08:17<05:27, 163.87s/it]"
     ]
    },
    {
     "name": "stdout",
     "output_type": "stream",
     "text": [
      "\n",
      "Epoch: 3 | train_loss: 2.6534 | train_acc: 0.4871 | test_loss: 2.3536 | test_acc: 0.5584\n"
     ]
    },
    {
     "name": "stderr",
     "output_type": "stream",
     "text": [
      " 80%|██████████████████████████████████████████████████████████████████▍                | 4/5 [10:50<02:39, 159.54s/it]"
     ]
    },
    {
     "name": "stdout",
     "output_type": "stream",
     "text": [
      "\n",
      "Epoch: 4 | train_loss: 2.5454 | train_acc: 0.5126 | test_loss: 2.3044 | test_acc: 0.5745\n"
     ]
    },
    {
     "name": "stderr",
     "output_type": "stream",
     "text": [
      "100%|███████████████████████████████████████████████████████████████████████████████████| 5/5 [13:48<00:00, 165.67s/it]"
     ]
    },
    {
     "name": "stdout",
     "output_type": "stream",
     "text": [
      "\n",
      "Epoch: 5 | train_loss: 2.4947 | train_acc: 0.5269 | test_loss: 2.2827 | test_acc: 0.5768\n"
     ]
    },
    {
     "name": "stderr",
     "output_type": "stream",
     "text": [
      "\n"
     ]
    }
   ],
   "source": [
    "# Setup optimizer and loss function\n",
    "optimizer = torch.optim.Adam(params=effnetb2_food101.parameters(), lr=1e-3)\n",
    "loss_fn = nn.CrossEntropyLoss(label_smoothing=0.1) # label smoothing is a regularization technique because of many output classes so that not a single dominant class under consideration only by the model\n",
    "\n",
    "# Train the model with a goal of beating 56.4% accuracy on the test set of the Food101 paper's results\n",
    "set_seeds()\n",
    "effnetb2_food101_results = engine.train(model=effnetb2_food101, train_dataloader=train_dataloader_food101_20_percent, test_dataloader=test_dataloader_food101_20_percent,\n",
    "                                        optimizer=optimizer, loss_fn=loss_fn, epochs=5, device=device)"
   ]
  },
  {
   "cell_type": "markdown",
   "id": "0d8d4f47-1fb3-48f8-90b5-1ea272799e52",
   "metadata": {},
   "source": [
    "Beat the results but was only on 20% split data. Not the complete test set. Conclusions can be made based on evaluation on 100% test set."
   ]
  },
  {
   "cell_type": "markdown",
   "id": "d33ed36f-8666-43ae-aa2d-f71b96137a9d",
   "metadata": {},
   "source": [
    "#### 10.6 Inspecting loss curves of FoodVision Big model"
   ]
  },
  {
   "cell_type": "code",
   "execution_count": 74,
   "id": "60f900ac-5893-4d86-a29a-15295fe68db0",
   "metadata": {},
   "outputs": [
    {
     "data": {
      "image/png": "[encoded data removed]",
      "text/plain": [
       "<Figure size 1500x700 with 2 Axes>"
      ]
     },
     "metadata": {},
     "output_type": "display_data"
    }
   ],
   "source": [
    "plot_loss_curves(effnetb2_food101_results)"
   ]
  },
  {
   "cell_type": "markdown",
   "id": "34ab744d-54cf-4e47-b0da-874b01722efe",
   "metadata": {},
   "source": [
    "There is no overfitting seen because of the use of regularization techniques such as data augmentation and label smoothing. However, the train loss is still higher than the test loss which indicates the model has a bit more capacity to learn and could improve with further training."
   ]
  },
  {
   "cell_type": "markdown",
   "id": "e3ae4d03-9816-47ec-8e8f-d670acea937e",
   "metadata": {},
   "source": [
    "#### 10.7 Saving and loading FoodVision Big"
   ]
  },
  {
   "cell_type": "code",
   "execution_count": 75,
   "id": "13944944-0acc-4604-8e33-fb949872be74",
   "metadata": {},
   "outputs": [
    {
     "name": "stdout",
     "output_type": "stream",
     "text": [
      "Model is being saved at models\\09_pretrained_effnetb2_feature_extractor_food101_20_percent.pth\n"
     ]
    }
   ],
   "source": [
    "# Create model path\n",
    "effnetb2_food101_model_path = \"09_pretrained_effnetb2_feature_extractor_food101_20_percent.pth\"\n",
    "\n",
    "# Save the model\n",
    "utils.save_model(model=effnetb2_food101, target_dir=\"models\", model_name=effnetb2_food101_model_path)"
   ]
  },
  {
   "cell_type": "code",
   "execution_count": 76,
   "id": "d55d340c-4ce5-4397-877f-f7f0ecf50edb",
   "metadata": {},
   "outputs": [
    {
     "data": {
      "text/plain": [
       "<All keys matched successfully>"
      ]
     },
     "execution_count": 76,
     "metadata": {},
     "output_type": "execute_result"
    }
   ],
   "source": [
    "# Ensuring that the saved model can be loaded back in by indeed loading it\n",
    "\n",
    "# Food101 model instance creation\n",
    "loaded_effnetb2_food101, effnetb2_transforms = create_effnetb2_model(num_classes=101)\n",
    "\n",
    "# Load the saved model's state_dict()\n",
    "loaded_effnetb2_food101.load_state_dict(torch.load(\"models/09_pretrained_effnetb2_feature_extractor_food101_20_percent.pth\", weights_only=True))"
   ]
  },
  {
   "cell_type": "markdown",
   "id": "40a0c22d-8ff7-4954-872e-e23a568f9dda",
   "metadata": {},
   "source": [
    "#### 10.8 Checking FoodVision Big model size"
   ]
  },
  {
   "cell_type": "code",
   "execution_count": 77,
   "id": "78c6315f-12d4-4ead-a392-707d01b6f2a1",
   "metadata": {},
   "outputs": [
    {
     "name": "stdout",
     "output_type": "stream",
     "text": [
      "Pretrained EffNetB2 feature extractor Food101 model size: 30 MB\n"
     ]
    }
   ],
   "source": [
    "pretrained_effnetb2_food101_model_size = Path(\"models\", effnetb2_food101_model_path).stat().st_size // (1024*1024)\n",
    "print(f\"Pretrained EffNetB2 feature extractor Food101 model size: {pretrained_effnetb2_food101_model_size} MB\")"
   ]
  },
  {
   "cell_type": "markdown",
   "id": "55d7e3d2-8803-4564-ad68-75df791a1b6f",
   "metadata": {},
   "source": [
    "This model's size is similar to FoodVision Mini's size which is 29 MB."
   ]
  },
  {
   "cell_type": "markdown",
   "id": "4f1cc412-0900-4a11-a8c3-5979dcf325f0",
   "metadata": {},
   "source": [
    "Only the difference is because of the increase in the number of params in the last layer of FoodVision Big model sine both models have the same base layers."
   ]
  },
  {
   "cell_type": "markdown",
   "id": "8c0b9971-26d2-45c4-8902-78ed2b12645a",
   "metadata": {},
   "source": [
    "### 11. Turning the FoodVision Big model into a deployable app"
   ]
  },
  {
   "cell_type": "raw",
   "id": "38bf4646-3cb9-4434-9f85-625a8e572f7c",
   "metadata": {},
   "source": [
    "The file structure to be made for deployment is:\n",
    "\n",
    "demos/\n",
    "  foodvision_big/\n",
    "    09_pretrained_effnetb2_feature_extractor_food101_20_percent.pth\n",
    "    app.py\n",
    "    class_names.txt\n",
    "    examples/\n",
    "      example_1.jpg\n",
    "    model.py\n",
    "    requirements.txt"
   ]
  },
  {
   "cell_type": "code",
   "execution_count": 78,
   "id": "54f6684c-7051-429c-9ab8-ebdcce372b1e",
   "metadata": {},
   "outputs": [],
   "source": [
    "# FoodVision Big demo dir path\n",
    "foodvision_big_demo_path = Path(\"demos/foodvision_big/\")\n",
    "\n",
    "# Create its demo dir now\n",
    "foodvision_big_demo_path.mkdir(parents=True, exist_ok=True)\n",
    "\n",
    "# Create FoodVision Big examples dir\n",
    "(foodvision_big_demo_path / \"examples\").mkdir(parents=True, exist_ok=True)"
   ]
  },
  {
   "cell_type": "markdown",
   "id": "fce1f757-6c20-4d51-805c-5b83583089e1",
   "metadata": {},
   "source": [
    "#### 11.1 Downloading an ex img and moving it to the examples dir"
   ]
  },
  {
   "cell_type": "markdown",
   "id": "30e921f5-c09d-4bb2-b0a1-255650222dbd",
   "metadata": {},
   "source": [
    "The author's provided pizza image will be used as the example image here."
   ]
  },
  {
   "cell_type": "code",
   "execution_count": 79,
   "id": "3d88255a-fd9f-4bc4-bc07-9b649e342668",
   "metadata": {},
   "outputs": [
    {
     "name": "stderr",
     "output_type": "stream",
     "text": [
      "Could Not Find C:\\Users\\ritis\\Desktop\\PyTorch-Learning\\data\\food-101.tar.gz\n"
     ]
    },
    {
     "name": "stdout",
     "output_type": "stream",
     "text": [
      "        1 file(s) copied.\n",
      "        1 file(s) moved.\n"
     ]
    }
   ],
   "source": [
    "# Remove the Food101 tar file to save space\n",
    "!del data\\food-101.tar.gz\n",
    "\n",
    "# Copy the example image from data/04-pizza-author.jpeg to demos/foodvision_big/examples/\n",
    "!copy data\\04-pizza-author.jpeg demos\\foodvision_big\\examples\\04-pizza-author.jpeg\n",
    "\n",
    "# Move the trained model file ass well to demos dir\n",
    "!move models\\09_pretrained_effnetb2_feature_extractor_food101_20_percent.pth demos\\foodvision_big"
   ]
  },
  {
   "cell_type": "markdown",
   "id": "09255097-f88d-4e4b-a8fe-e73b0fe5dbc5",
   "metadata": {},
   "source": [
    "#### 11.2 Saving Food101 class names to file (class_names.txt)"
   ]
  },
  {
   "cell_type": "code",
   "execution_count": 80,
   "id": "2b554f74-a48f-49c7-b02d-3f8a92ab47fe",
   "metadata": {},
   "outputs": [
    {
     "name": "stdout",
     "output_type": "stream",
     "text": [
      "Saving class names to demos\\foodvision_big\\class_names.txt.\n"
     ]
    }
   ],
   "source": [
    "# class names text file path creation\n",
    "foodvision_big_class_names_path = foodvision_big_demo_path / \"class_names.txt\"\n",
    "\n",
    "# Write Food101 class names list to file\n",
    "with open(foodvision_big_class_names_path, \"w\") as f:\n",
    "    print(f\"Saving class names to {foodvision_big_class_names_path}.\")\n",
    "    f.write(\"\\n\".join(food101_class_names)) # a new line b/w each class"
   ]
  },
  {
   "cell_type": "code",
   "execution_count": 81,
   "id": "c3e26ca1-6048-4b00-8006-fa242c040065",
   "metadata": {},
   "outputs": [
    {
     "data": {
      "text/plain": [
       "['apple_pie',\n",
       " 'baby_back_ribs',\n",
       " 'baklava',\n",
       " 'beef_carpaccio',\n",
       " 'beef_tartare',\n",
       " 'beet_salad',\n",
       " 'beignets',\n",
       " 'bibimbap',\n",
       " 'bread_pudding',\n",
       " 'breakfast_burrito']"
      ]
     },
     "execution_count": 81,
     "metadata": {},
     "output_type": "execute_result"
    }
   ],
   "source": [
    "# Ensuring that the content of the file can be read\n",
    "\n",
    "# Open file in read mode and read each line into a list\n",
    "with open(foodvision_big_class_names_path, \"r\") as f:\n",
    "    food101_class_names_loaded = [food.strip() for food in f.readlines()]\n",
    "\n",
    "# View the list\n",
    "food101_class_names_loaded[:10]"
   ]
  },
  {
   "cell_type": "markdown",
   "id": "c8cf3b84-57c4-4e07-bbbd-4fd215106012",
   "metadata": {},
   "source": [
    "#### 11.3 Turning the FoodVision Big model into a Python script (model.py)"
   ]
  },
  {
   "cell_type": "code",
   "execution_count": 82,
   "id": "5c431bab-0cf4-422e-8573-1a3f487efedc",
   "metadata": {},
   "outputs": [
    {
     "name": "stdout",
     "output_type": "stream",
     "text": [
      "Writing demos/foodvision_big/model.py\n"
     ]
    }
   ],
   "source": [
    "%%writefile demos/foodvision_big/model.py\n",
    "import torch\n",
    "import torchvision\n",
    "\n",
    "from torch import nn\n",
    "\n",
    "def create_effnetb2_model(num_classes: int=3, seed: int=42):\n",
    "    \"\"\"Creates an EffNetB2 feature extractor model and transforms.\n",
    "    Return:\n",
    "        model, transforms\n",
    "    \"\"\"\n",
    "    # Create EffNetB2 pretrained weights, transforms and model\n",
    "    weights = torchvision.models.EfficientNet_B2_Weights.DEFAULT\n",
    "    transforms = weights.transforms()\n",
    "    model = torchvision.models.efficientnet_b2(weights=weights)\n",
    "\n",
    "    # Freeze all the base layers in the model\n",
    "    for param in model.parameters():\n",
    "        param.requires_grad = False\n",
    "\n",
    "    # Change classifier head with random seed for reproducibility\n",
    "    torch.manual_seed(seed)\n",
    "    model.classifier = nn.Sequential(\n",
    "        nn.Dropout(p=0.3, inplace=True),\n",
    "        nn.Linear(in_features=1408, out_features=num_classes)\n",
    "    )\n",
    "\n",
    "    return model, transforms"
   ]
  },
  {
   "cell_type": "markdown",
   "id": "0d0c4341-8d49-4e96-b8b5-9fa82eb0fc1d",
   "metadata": {},
   "source": [
    "#### 11.4 Turning the FoodVision Big Gradio app into a Python script (app.py)"
   ]
  },
  {
   "cell_type": "code",
   "execution_count": 89,
   "id": "84574b50-22b4-48d2-b418-2bc9b327ae85",
   "metadata": {},
   "outputs": [
    {
     "name": "stdout",
     "output_type": "stream",
     "text": [
      "Overwriting demos/foodvision_big/app.py\n"
     ]
    }
   ],
   "source": [
    "%%writefile demos/foodvision_big/app.py\n",
    "# 1. Imports and class names setup\n",
    "import gradio as gr\n",
    "import os\n",
    "import torch\n",
    "\n",
    "from model import create_effnetb2_model\n",
    "from timeit import default_timer as timer\n",
    "from typing import Dict, Tuple\n",
    "\n",
    "## Setup class names\n",
    "with open(\"class_names.txt\", \"r\") as f:\n",
    "    class_names = [food.strip() for food in f.readlines()]\n",
    "\n",
    "# 2. Model and transforms preparation\n",
    "effnetb2, effnetb2_transforms = create_effnetb2_model(num_classes=len(class_names))\n",
    "\n",
    "## Load the saved model weights\n",
    "effnetb2.load_state_dict(torch.load(f=\"09_pretrained_effnetb2_feature_extractor_food101_20_percent.pth\",\n",
    "                                    weights_only=True, map_location=torch.device(\"cpu\")))\n",
    "\n",
    "# 3. Predict function\n",
    "def predict(img) -> Tuple[Dict, float]:\n",
    "    start_time = timer()\n",
    "\n",
    "    img = effnetb2_transforms(img).unsqueeze(0)\n",
    "\n",
    "    effnetb2.eval()\n",
    "    with torch.inference_mode():\n",
    "        pred_probs = torch.softmax(effnetb2(img), dim = 1)\n",
    "\n",
    "    pred_labels_and_probs = {class_names[i]: float(pred_probs[0][i]) for i in range(len(class_names))}\n",
    "\n",
    "    end_time = timer()\n",
    "    pred_time = round(end_time - start_time, 5)\n",
    "\n",
    "    return pred_labels_and_probs, pred_time\n",
    "\n",
    "# 4. Gradio app\n",
    "title = \"FoodVision Big 🍔👁\"\n",
    "description = \"An EfficientNetB2 feature extractor computer vision model to classify images of food into [101 different classes](https://github.com/mrdbourke/pytorch-deep-learning/blob/main/extras/food101_class_names.txt).\"\n",
    "article = \"Created at [09. PyTorch Model Deployment](https://www.learnpytorch.io/09_pytorch_model_deployment/).\"\n",
    "\n",
    "example_list = [[\"examples/\" + example] for example in os.listdir(\"examples\")]\n",
    "\n",
    "demo = gr.Interface(fn=predict, inputs=gr.Image(type=\"pil\"),\n",
    "                    outputs=[gr.Label(num_top_classes = 5, label=\"Predictions\"), gr.Number(label=\"Prediction time (s)\")],\n",
    "                   examples = example_list, title=title, description=description, article=article)\n",
    "\n",
    "demo.launch()"
   ]
  },
  {
   "cell_type": "markdown",
   "id": "7febfde0-125b-4d6d-921e-97e3a9d9d06b",
   "metadata": {},
   "source": [
    "#### 11.5 Creating the requirements file for FoodVision Big (requirements.txt)"
   ]
  },
  {
   "cell_type": "code",
   "execution_count": 90,
   "id": "e27a7d97-e12f-45c0-a63f-3c01da4ac4f2",
   "metadata": {},
   "outputs": [
    {
     "name": "stdout",
     "output_type": "stream",
     "text": [
      "Overwriting demos/foodvision_big/requirements.txt\n"
     ]
    }
   ],
   "source": [
    "%%writefile demos/foodvision_big/requirements.txt\n",
    "torch==2.5.0\n",
    "torchvision==0.20.0\n",
    "gradio==5.44.1"
   ]
  },
  {
   "cell_type": "markdown",
   "id": "a4c73427-54b4-4b24-8f93-20d14c815eb5",
   "metadata": {},
   "source": [
    "#### 11.6 Downloading the FoodVision app files"
   ]
  },
  {
   "cell_type": "markdown",
   "id": "2ac32363-18d1-495b-b883-97147ca03e2e",
   "metadata": {},
   "source": [
    "Not needed to be done since working on Jupyter Notebook locally. Not on Google Colab."
   ]
  },
  {
   "cell_type": "markdown",
   "id": "eb330387-2cce-45e4-8464-0f9fd0a75c6d",
   "metadata": {},
   "source": [
    "#### 11.7 Deploying the FoodVision Big app to HF Spaces"
   ]
  },
  {
   "cell_type": "markdown",
   "id": "f3c31a2e-82e5-47e1-b040-ac866cbe262b",
   "metadata": {},
   "source": [
    "**Successfully ddeployed.**"
   ]
  },
  {
   "cell_type": "code",
   "execution_count": 92,
   "id": "391c6191-2957-42e5-8f9a-b84fb5c4a435",
   "metadata": {},
   "outputs": [
    {
     "data": {
      "text/html": [
       "\n",
       "        <iframe\n",
       "            width=\"900\"\n",
       "            height=\"750\"\n",
       "            src=\"https://ritish369-foodvision-big-learning.hf.space\"\n",
       "            frameborder=\"0\"\n",
       "            allowfullscreen\n",
       "            \n",
       "        ></iframe>\n",
       "        "
      ],
      "text/plain": [
       "<IPython.lib.display.IFrame at 0x1ada4f2b7d0>"
      ]
     },
     "execution_count": 92,
     "metadata": {},
     "output_type": "execute_result"
    }
   ],
   "source": [
    "# Embedding the FoodVision Big Gradio demo here in the notebook\n",
    "from IPython.display import IFrame\n",
    "IFrame(src=\"https://ritish369-foodvision-big-learning.hf.space\", width = 900, height = 750)"
   ]
  },
  {
   "cell_type": "markdown",
   "id": "025be3e1-f25f-44b4-8315-2dbcfbb63aeb",
   "metadata": {},
   "source": [
    "Therefore,\n",
    "\n",
    "    Deployment is as important as training.\n",
    "    \n",
    "    Ask the 3 questions for ML model deployment (ideal use case -- performance vs speed, on-device/cloud and online/offline preds).\n",
    "    \n",
    "    Deployment options are a plenty.\n",
    "    \n",
    "    Never stop experimenting.\n",
    "    \n",
    "    ML model deployment is part of the engineering practice of MLOps (involves all the engg parts around training a model)."
   ]
  },
  {
   "cell_type": "code",
   "execution_count": null,
   "id": "92cc2b23-458a-4c68-b89a-62462917fd01",
   "metadata": {},
   "outputs": [],
   "source": []
  }
 ],
 "metadata": {
  "kernelspec": {
   "display_name": "Python (pytorch-env)",
   "language": "python",
   "name": "pytorch-env"
  },
  "language_info": {
   "codemirror_mode": {
    "name": "ipython",
    "version": 3
   },
   "file_extension": ".py",
   "mimetype": "text/x-python",
   "name": "python",
   "nbconvert_exporter": "python",
   "pygments_lexer": "ipython3",
   "version": "3.11.13"
  }
 },
 "nbformat": 4,
 "nbformat_minor": 5
}
